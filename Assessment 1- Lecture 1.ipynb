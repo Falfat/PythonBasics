{
  "cells": [
    {
      "metadata": {
        "trusted": true
      },
      "cell_type": "code",
      "source": "!pip3 install --user okpy\n\nfrom lecture import *",
      "execution_count": 6,
      "outputs": [
        {
          "output_type": "stream",
          "text": "Requirement already satisfied: okpy in /home/nbuser/.local/lib/python3.5/site-packages (1.13.11)\nRequirement already satisfied: coverage==3.7.1 in /home/nbuser/.local/lib/python3.5/site-packages (from okpy) (3.7.1)\nRequirement already satisfied: requests==2.12.4 in /home/nbuser/.local/lib/python3.5/site-packages (from okpy) (2.12.4)\n\u001b[33mYou are using pip version 18.0, however version 18.1 is available.\nYou should consider upgrading via the 'pip install --upgrade pip' command.\u001b[0m\n",
          "name": "stdout"
        }
      ]
    },
    {
      "metadata": {
        "slideshow": {
          "slide_type": "slide"
        }
      },
      "cell_type": "markdown",
      "source": "# Introduction to programming in Python\n\n# Lecture 1"
    },
    {
      "metadata": {
        "collapsed": true,
        "slideshow": {
          "slide_type": "slide"
        }
      },
      "cell_type": "markdown",
      "source": "## Learning objectives:\n\n* You will understand that Python will help you defy gravity.\n* You will know how to execute Python statements from within Jupyter.\n* Learn what a program variable is and how to express a mathematical expression in code.\n* Print program outputs.\n* Access mathematical functions from a Python module.\n* Be able to write your own *function*.\n* Know how to form a *condition* using a *boolean expression*.\n* Be able to use a conditional expression in combination with a *while-loop* to perform repetitive tasks.\n* Be able to store data elements within a Python *list*.\n* Be able to use a *for-loop* to iterate, and perform some task, over a *list* of elements."
    },
    {
      "metadata": {
        "slideshow": {
          "slide_type": "slide"
        }
      },
      "cell_type": "markdown",
      "source": "# Introduction to programming in Python\n### [Gerard Gorman](http://www.imperial.ac.uk/people/g.gorman)\n\n# Lecture 2: Conditional expressions, loops and lists"
    },
    {
      "metadata": {
        "collapsed": true,
        "slideshow": {
          "slide_type": "slide"
        }
      },
      "cell_type": "markdown",
      "source": "```python\nimport antigravity\n```"
    },
    {
      "metadata": {
        "slideshow": {
          "slide_type": "fragment"
        }
      },
      "cell_type": "markdown",
      "source": "![import antigravity](https://imgs.xkcd.com/comics/python.png)"
    },
    {
      "metadata": {
        "slideshow": {
          "slide_type": "slide"
        }
      },
      "cell_type": "markdown",
      "source": "## Programming a mathematical formula\n\nHere is a formula for the position of a ball in vertical motion, starting at ground level (i.e. $y=0$) at time $t=0$:\n     $$ y(t) = v_0t- \\frac{1}{2}gt^2 $$\n\nwhere:\n\n* $y$ is the height (position) as a function of time $t$\n* $v_0$ is the initial velocity (at $t=0$)\n* $g$ is the acceleration due to gravity\n\nThe computational task is: given $v_0$, $g$ and $t$, compute the value $y$. "
    },
    {
      "metadata": {
        "slideshow": {
          "slide_type": "subslide"
        }
      },
      "cell_type": "markdown",
      "source": "**How do we program this task?** A program is a sequence of instructions given to the computer. However, while a programming language is much **simpler** than a natural language, it is more **pedantic**. Programs must have correct syntax, i.e., correct use of the computer language grammar rules, and no misprints.\n\nSo let's execute a Python statement based on this example. Evaluate $y(t) = v_0t- \\frac{1}{2}gt^2$ for $v_0=5$, $g=9.81$ and $t=0.6$. If you were doing this on paper you would probably write something like this: $$ y = 5\\cdot 0.6 - {1\\over2}\\cdot 9.81 \\cdot 0.6^2.$$ Happily, writing this in Python is very similar:"
    },
    {
      "metadata": {
        "slideshow": {
          "slide_type": "fragment"
        },
        "trusted": true
      },
      "cell_type": "code",
      "source": "# Comment: This is a 'code' cell within Jupyter notebook.\n# Press shift-enter to execute the code within this kind of\n# cell, or click on the 'Run' widget on the Jupyter tool bar above.\n\nprint(5*0.6 - 0.5*9.81*0.6**2)",
      "execution_count": 7,
      "outputs": [
        {
          "output_type": "stream",
          "text": "1.2342\n",
          "name": "stdout"
        }
      ]
    },
    {
      "metadata": {
        "slideshow": {
          "slide_type": "subslide"
        }
      },
      "cell_type": "markdown",
      "source": "## Exercise 1.1: Open a code cell and write some code.\n* Navigate the [Jupyter](http://jupyter.org/) tool bar to \"Insert\"->\"Insert Cell Below\". Note from the tool bar that you can select a cell to be one of 'Code' (this is the default), 'Markdown' (this cell is written in [markdown](https://en.wikipedia.org/wiki/Markdown) - double click this cell to investigate further), 'Raw NBConvert' or 'Heading' (decrepit).\n* Cut&paste the code from the previous cell into your newly created code cell below. Make sure it runs!\n* To see how important it is to use the correct [syntax](https://en.wikipedia.org/wiki/Syntax), replace `**` with `^` in your code and try running the cell again. You should see something like the following:\n\n```python\n>>> print(5*0.6 - 0.5*9.81*0.6^2)\n\n---------------------------------------------------------------------------\nTypeError                                 Traceback (most recent call last)\n<ipython-input-3-40e93484ac5e> in <module>()\n----> 1 print(5*0.6 - 0.5*9.81*0.6^2)\n\nTypeError: unsupported operand type(s) for ^: 'float' and 'int'\n```\n* Undo that change so your code is working again; now change 'print' to 'write' and see what happens when you run the cell. You should see something like:\n\n```python\n>>> write(5*0.6 - 0.5*9.81*0.6**2)\n\n---------------------------------------------------------------------------\nNameError                                 Traceback (most recent call last)\n<ipython-input-5-492c3eff3ad9> in <module>()\n----> 1 write(5*0.6 - 0.5*9.81*0.6**2)\n\nNameError: name 'write' is not defined\n```\n\nWhile a human might still understand these statements, they do not mean anything to the Python interpreter. Rather than throwing your hands up in the air whenever you get an error message like the above (you are going to see many during the course of these lectures!!!) train yourself to read error messages carefully to get an idea what it is complaining about and re-read your code from the perspective of the Python interpreter.\n\nError messages can look bewildering and even frustrating at first, but it gets much **easier with practise**."
    },
    {
      "metadata": {
        "trusted": true
      },
      "cell_type": "code",
      "source": "print(5*0.6 - 0.5*9.81*0.6**2)",
      "execution_count": 8,
      "outputs": [
        {
          "output_type": "stream",
          "text": "1.2342\n",
          "name": "stdout"
        }
      ]
    },
    {
      "metadata": {
        "trusted": true
      },
      "cell_type": "code",
      "source": "print(5*0.6 - 0.5*9.81*0.6^2)",
      "execution_count": 9,
      "outputs": [
        {
          "output_type": "error",
          "ename": "TypeError",
          "evalue": "unsupported operand type(s) for ^: 'float' and 'int'",
          "traceback": [
            "\u001b[0;31m---------------------------------------------------------------------------\u001b[0m",
            "\u001b[0;31mTypeError\u001b[0m                                 Traceback (most recent call last)",
            "\u001b[0;32m<ipython-input-9-40e93484ac5e>\u001b[0m in \u001b[0;36m<module>\u001b[0;34m()\u001b[0m\n\u001b[0;32m----> 1\u001b[0;31m \u001b[0mprint\u001b[0m\u001b[0;34m(\u001b[0m\u001b[0;36m5\u001b[0m\u001b[0;34m*\u001b[0m\u001b[0;36m0.6\u001b[0m \u001b[0;34m-\u001b[0m \u001b[0;36m0.5\u001b[0m\u001b[0;34m*\u001b[0m\u001b[0;36m9.81\u001b[0m\u001b[0;34m*\u001b[0m\u001b[0;36m0.6\u001b[0m\u001b[0;34m^\u001b[0m\u001b[0;36m2\u001b[0m\u001b[0;34m)\u001b[0m\u001b[0;34m\u001b[0m\u001b[0m\n\u001b[0m",
            "\u001b[0;31mTypeError\u001b[0m: unsupported operand type(s) for ^: 'float' and 'int'"
          ]
        }
      ]
    },
    {
      "metadata": {
        "trusted": true
      },
      "cell_type": "code",
      "source": "print(\"hello world\")",
      "execution_count": 11,
      "outputs": [
        {
          "output_type": "stream",
          "text": "hello world\n",
          "name": "stdout"
        }
      ]
    },
    {
      "metadata": {
        "slideshow": {
          "slide_type": "slide"
        }
      },
      "cell_type": "markdown",
      "source": "## Storing numbers in variables\nFrom mathematics you are already familiar with variables (e.g. $v_0=5,\\quad g=9.81,\\quad t=0.6,\\quad y = v_0t -{1\\over2}gt^2$) and you already know how important they are for working out complicated problems. Similarly, you can use variables in a program to make it easier to read and understand."
    },
    {
      "metadata": {
        "slideshow": {
          "slide_type": "subslide"
        },
        "trusted": true
      },
      "cell_type": "code",
      "source": "v0 = 5\ng = 9.81\nt = 0.6\ny = v0*t - 0.5*g*t**2\nprint(y)",
      "execution_count": 10,
      "outputs": [
        {
          "output_type": "stream",
          "text": "1.2342\n",
          "name": "stdout"
        }
      ]
    },
    {
      "metadata": {
        "slideshow": {
          "slide_type": "fragment"
        }
      },
      "cell_type": "markdown",
      "source": "This program spans several lines of text and uses variables, otherwise the program performs the same calculations and gives the same output as the previous program.\n\nIn mathematics we usually use one letter for a variable, resorting to using the Greek alphabet and other characters for more clarity. The main reason for this is to avoid becoming exhausted from writing when working out long expressions or derivations. However, when programming you should use more descriptive names for variable names. This might not seem like an important consideration for the trivial example here but it becomes increasingly important as the program gets more complicated and if someone else has to read your code."
    },
    {
      "metadata": {
        "slideshow": {
          "slide_type": "slide"
        }
      },
      "cell_type": "markdown",
      "source": "### Good variable names make a program easier to understand!\n\nPermitted variable names include:\n\n* One-letter symbols.\n* Words or abbreviation of words.\n* Variable names can contain a-z, A-Z, underscore (\"'_'\") and digits 0-9, **but** the name cannot start with a digit.\n\nVariable names are case-sensitive (i.e. \"'a'\" is different from \"'A'\"). Let's rewrite the previous example using more descriptive variable names:"
    },
    {
      "metadata": {
        "slideshow": {
          "slide_type": "fragment"
        },
        "trusted": true
      },
      "cell_type": "code",
      "source": "initial_velocity = 5\nacceleration_of_gravity = 9.81\nTIME = 0.6\nVerticalPositionOfBall = initial_velocity*TIME - 0.5*acceleration_of_gravity*TIME**2\nprint(VerticalPositionOfBall)",
      "execution_count": 12,
      "outputs": [
        {
          "output_type": "stream",
          "text": "1.2342\n",
          "name": "stdout"
        }
      ]
    },
    {
      "metadata": {
        "slideshow": {
          "slide_type": "subslide"
        }
      },
      "cell_type": "markdown",
      "source": "Certain words have a **special meaning** in Python and **cannot be used as variable names**. These are: *and, as, assert, break, class, continue, def, del, elif, else, except, exec, finally, for, from, global, if, import, in, is, lambda, not, or, pass, print, raise, return, try, with, while,* and *yield*."
    },
    {
      "metadata": {
        "slideshow": {
          "slide_type": "slide"
        }
      },
      "cell_type": "markdown",
      "source": "## Adding comments to code\n\nNot everything written in a computer program is intended for execution. In Python anything on a line after the '#' character is ignored and is known as a **comment**. You can write whatever you want in a comment. Comments are intended to be used to explain what a snippet of code is intended for. It might for example explain the objective or provide a reference to the data or algorithm used. This is both useful for you when you have to understand your code at some later stage, and indeed for whoever has to read and understand your code later."
    },
    {
      "metadata": {
        "slideshow": {
          "slide_type": "fragment"
        },
        "trusted": true
      },
      "cell_type": "code",
      "source": "# Program for computing the height of a ball in vertical motion.\nv0 = 5    # Set initial velocity in m/s.\ng = 9.81  # Set acceleration due to gravity in m/s^2.\nt = 0.6   # Time at which we want to know the height of the ball in seconds.\ny = v0*t - 0.5*g*t**2 # Calculate the vertical position\nprint(y)",
      "execution_count": 13,
      "outputs": [
        {
          "output_type": "stream",
          "text": "1.2342\n",
          "name": "stdout"
        }
      ]
    },
    {
      "metadata": {
        "slideshow": {
          "slide_type": "slide"
        }
      },
      "cell_type": "markdown",
      "source": "## Exercise 1.2: Convert from meters to British length units\nHere in the UK we are famous for our love of performing mental arithmetic. That is why we still use both imperial and metric measurement systems - hours of fun entertainment for the family switching back and forth between the two.\n\nMake a program where you set a length given in meters and then compute and write out the corresponding length measured in:\n* inches (one inch is 2.54 cm)\n* feet (one foot  is 12 inches)\n* yards (one foot is 12 inches, one yard is 3 feet)\n* miles (one British mile is 1760 yards)\n\nNote: In this course we are using [okpy](https://okpy.org/) to automated assessment scoring. Therefore, while it is important to always carefully follow the instructions of a question, it is particularly important here so that okpy can recognize the validity of your answer. The conversion to inches are done for you to illustrate what is required."
    },
    {
      "metadata": {
        "trusted": true
      },
      "cell_type": "code",
      "source": "meters = 640\n\n# 1 inch = 2.54 cm. Remember to convert from 2.54 cm to 0.0254 m here.\ninches = meters/0.0254\n\n# Uncomment and complete the following code.\nfeet = inches/12\n\nyards = feet/3\n\nmiles = yards/1760",
      "execution_count": 14,
      "outputs": []
    },
    {
      "metadata": {
        "trusted": true
      },
      "cell_type": "code",
      "source": "grade = ok.grade('question-1_2')",
      "execution_count": 15,
      "outputs": [
        {
          "output_type": "stream",
          "text": "~~~~~~~~~~~~~~~~~~~~~~~~~~~~~~~~~~~~~~~~~~~~~~~~~~~~~~~~~~~~~~~~~~~~~\nRunning tests\n\n---------------------------------------------------------------------\nTest summary\n    Passed: 3\n    Failed: 0\n[ooooooooook] 100.0% passed\n\n",
          "name": "stdout"
        }
      ]
    },
    {
      "metadata": {
        "slideshow": {
          "slide_type": "slide"
        }
      },
      "cell_type": "markdown",
      "source": "## Formatted printing style\nOften we want to print out results using a combination of text and numbers, e.g. \"'At t=0.6 s, y is 1.23 m'\". Particularly when printing out floating point numbers we should **never** quote numbers to a higher accuracy than they were measured. Python provides a *printf formatting* syntax exactly for this purpose. We can see in the following example that the *slot* `%g` was used to express the floating point number with the minimum number of significant figures, and the *slot* `%.2f` specified that only two digits are printed out after the decimal point."
    },
    {
      "metadata": {
        "slideshow": {
          "slide_type": "fragment"
        },
        "trusted": true
      },
      "cell_type": "code",
      "source": "print(\"At t=%g s, y is %.2f m.\" % (t, y))",
      "execution_count": 16,
      "outputs": [
        {
          "output_type": "stream",
          "text": "At t=0.6 s, y is 1.23 m.\n",
          "name": "stdout"
        }
      ]
    },
    {
      "metadata": {
        "slideshow": {
          "slide_type": "fragment"
        }
      },
      "cell_type": "markdown",
      "source": "Notice in this example how the values in the tuple `(t, y)` are inserted into the *slots*."
    },
    {
      "metadata": {
        "slideshow": {
          "slide_type": "subslide"
        }
      },
      "cell_type": "markdown",
      "source": "Sometimes we want a multi-line output. This is achieved using a triple quotation (*i.e.* `\"\"\"`):"
    },
    {
      "metadata": {
        "slideshow": {
          "slide_type": "fragment"
        },
        "trusted": true
      },
      "cell_type": "code",
      "source": "print(\"\"\"At t=%f s, a ball with\ninitial velocity v0=%.3E m/s\nis located at the height %.2f m.\n\"\"\" % (t, v0, y))",
      "execution_count": 17,
      "outputs": [
        {
          "output_type": "stream",
          "text": "At t=0.600000 s, a ball with\ninitial velocity v0=5.000E+00 m/s\nis located at the height 1.23 m.\n\n",
          "name": "stdout"
        }
      ]
    },
    {
      "metadata": {
        "slideshow": {
          "slide_type": "slide"
        }
      },
      "cell_type": "markdown",
      "source": "## Exercise 1.3: Compute the air resistance on a football\nThe drag force, due to air resistance, on an object can be expressed as\n$$F_d = \\frac{1}{2}C_D\\rho AV^2$$\nwhere:\n* $\\rho$ is the density of the air,\n* $V$ is the velocity of the object,\n* $A$ is the cross-sectional area (normal to the velocity direction),\n* and $C_D$ is the drag coefficient, which depends on the shape of the object and the roughness of the surface.\n\nComplete the following code that computes the drag force. "
    },
    {
      "metadata": {
        "slideshow": {
          "slide_type": "subslide"
        },
        "trusted": true
      },
      "cell_type": "code",
      "source": "# Football example\n\n# import pi from Python's math library\nfrom math import pi\n\ndensity = 1.2      # units of kg m^{−3}$\nball_radius = 0.11 # m\nA = pi*ball_radius**2 # Cross sectional area of a sphere\nmass = 0.43        # kg\nC_D = 0.2          # Drag coefficient\n\nV = 50.8           # m/s (fastest recorded speed of football)\n\n# Uncomment and complete the following code.\nF_d = 0.5* density * C_D * A * V**2 #Drage Force\nprint(\"The drag force due to air resistance is : %.1f Newtons\" %(F_d))\n\n# Challenge yourself to use the formatted print statement\n# shown above to write out the forces with one decimal in\n# units of Newton ($N = kgm/s^2$).",
      "execution_count": 18,
      "outputs": [
        {
          "output_type": "stream",
          "text": "The drag force due to air resistance is : 11.8 Newtons\n",
          "name": "stdout"
        }
      ]
    },
    {
      "metadata": {
        "trusted": true
      },
      "cell_type": "code",
      "source": "grade = ok.grade('question-1_3')",
      "execution_count": 19,
      "outputs": [
        {
          "output_type": "stream",
          "text": "~~~~~~~~~~~~~~~~~~~~~~~~~~~~~~~~~~~~~~~~~~~~~~~~~~~~~~~~~~~~~~~~~~~~~\nRunning tests\n\n---------------------------------------------------------------------\nTest summary\n    Passed: 1\n    Failed: 0\n[ooooooooook] 100.0% passed\n\n",
          "name": "stdout"
        }
      ]
    },
    {
      "metadata": {
        "slideshow": {
          "slide_type": "slide"
        }
      },
      "cell_type": "markdown",
      "source": "## How are arithmetic expressions evaluated?\nConsider the random mathematical expression, ${5\\over9} + 2a^4/2$, implemented in Python as `5.0/9 + 2*a**4/2`.\n\nThe rules for evaluating the expression are the same as in mathematics: proceed term by term (additions/subtractions) from the left, compute powers first, then multiplication and division. Therefore in this example the order of evaluation will be:\n\n1. `r1 = 5.0/9`\n2. `r2 = a**4`\n3. `r3 = 2*r2`\n4. `r4 = r3/2`\n5. `r5 = r1 + r4`\n\nUse parenthesis to override these default rules. Indeed, many programmers use parenthesis for greater clarity."
    },
    {
      "metadata": {
        "slideshow": {
          "slide_type": "slide"
        }
      },
      "cell_type": "markdown",
      "source": "## Exercise 1.4: Compute the growth of money in a bank\nLet *p* be a bank's interest rate in percent per year. An initial amount $A_0$ has then grown to $$A_n = A_0\\left(1+\\frac{p}{100}\\right)^n$$ after *n* years. Write a program for computing how much money 1000 euros have grown to after three years with a 5% interest rate."
    },
    {
      "metadata": {
        "trusted": true
      },
      "cell_type": "code",
      "source": "# Complete the code commented out below (don't change variable names!)\n\np = 5 #interest rate\nA_0 = 1000 #initial amount\nn = 3 #no of years\nA_n = A_0*(1+(p/100))**n\n\nprint(\"The amount of money in the account after %d years is: %.2f euros\" % (n, A_n))",
      "execution_count": 20,
      "outputs": [
        {
          "output_type": "stream",
          "text": "The amount of money in the account after 3 years is: 1157.63 euros\n",
          "name": "stdout"
        }
      ]
    },
    {
      "metadata": {
        "trusted": true
      },
      "cell_type": "code",
      "source": "grade = ok.grade('question-1_4')",
      "execution_count": 21,
      "outputs": [
        {
          "output_type": "stream",
          "text": "~~~~~~~~~~~~~~~~~~~~~~~~~~~~~~~~~~~~~~~~~~~~~~~~~~~~~~~~~~~~~~~~~~~~~\nRunning tests\n\n---------------------------------------------------------------------\nTest summary\n    Passed: 1\n    Failed: 0\n[ooooooooook] 100.0% passed\n\n",
          "name": "stdout"
        }
      ]
    },
    {
      "metadata": {
        "slideshow": {
          "slide_type": "slide"
        }
      },
      "cell_type": "markdown",
      "source": "## Standard mathematical functions\nWhat if we need to compute $\\sin x$, $\\cos x$, $\\ln x$, etc. in a program? Such functions are available in Python's *math module*. In fact there is a vast universe of functionality for Python available in modules. We just *import* in whatever we need for the task at hand.\n\nIn this example we compute $\\sqrt{2}$ using the *sqrt* function in the *math* module:"
    },
    {
      "metadata": {
        "slideshow": {
          "slide_type": "fragment"
        },
        "trusted": true
      },
      "cell_type": "code",
      "source": "import math\nr = math.sqrt(2)\nprint(r)",
      "execution_count": 22,
      "outputs": [
        {
          "output_type": "stream",
          "text": "1.4142135623730951\n",
          "name": "stdout"
        }
      ]
    },
    {
      "metadata": {
        "slideshow": {
          "slide_type": "subslide"
        }
      },
      "cell_type": "markdown",
      "source": "or:"
    },
    {
      "metadata": {
        "slideshow": {
          "slide_type": "fragment"
        },
        "trusted": true
      },
      "cell_type": "code",
      "source": "from math import sqrt\nr = sqrt(2)\nprint(r)",
      "execution_count": 23,
      "outputs": [
        {
          "output_type": "stream",
          "text": "1.4142135623730951\n",
          "name": "stdout"
        }
      ]
    },
    {
      "metadata": {
        "slideshow": {
          "slide_type": "subslide"
        }
      },
      "cell_type": "markdown",
      "source": "or:"
    },
    {
      "metadata": {
        "slideshow": {
          "slide_type": "fragment"
        },
        "trusted": true
      },
      "cell_type": "code",
      "source": "from math import *   # import everything in math\nr = sqrt(2)\nprint(r)",
      "execution_count": 24,
      "outputs": [
        {
          "output_type": "stream",
          "text": "1.4142135623730951\n",
          "name": "stdout"
        }
      ]
    },
    {
      "metadata": {
        "slideshow": {
          "slide_type": "subslide"
        }
      },
      "cell_type": "markdown",
      "source": "Another example:"
    },
    {
      "metadata": {
        "slideshow": {
          "slide_type": "fragment"
        },
        "trusted": true
      },
      "cell_type": "code",
      "source": "from math import sin, cos, log\nx = 1.2\nprint(sin(x)*cos(x) + 4*log(x))   # log is ln (base e)",
      "execution_count": 25,
      "outputs": [
        {
          "output_type": "stream",
          "text": "1.0670178174513938\n",
          "name": "stdout"
        }
      ]
    },
    {
      "metadata": {
        "slideshow": {
          "slide_type": "slide"
        }
      },
      "cell_type": "markdown",
      "source": "## Exercise 1.5: Evaluate a Gaussian function\n\nThe bell-shaped Gaussian function,\n$$f(x)=\\frac{1}{\\sqrt{2\\pi}s}\\exp\\left(-\\frac{1}{2} \\left(\\frac{x-m}{s}\\right)^2\\right)$$\nis one of the most widely used functions in science and technology. The parameters $m$ and $s$ are real numbers, where $s$ must be greater than zero. Write a program for evaluating this function when $m = 0$, $s = 2$, and $x = 1$. Verify the program's result by using a calculator."
    },
    {
      "metadata": {
        "slideshow": {
          "slide_type": "subslide"
        },
        "trusted": true
      },
      "cell_type": "code",
      "source": "# Uncomment and complete the code below (don't change variable names!)\n\nfrom math import pi, exp, sqrt\n\nm=0\ns=2\nx=1\n\nf_x = 1/(sqrt(2*pi)*s) * exp(-0.5*((x-m)/s)**2)\nprint(\"%.3f\" % (f_x))",
      "execution_count": 26,
      "outputs": [
        {
          "output_type": "stream",
          "text": "0.176\n",
          "name": "stdout"
        }
      ]
    },
    {
      "metadata": {
        "trusted": true
      },
      "cell_type": "code",
      "source": "grade = ok.grade('question-1_5')",
      "execution_count": 27,
      "outputs": [
        {
          "output_type": "stream",
          "text": "~~~~~~~~~~~~~~~~~~~~~~~~~~~~~~~~~~~~~~~~~~~~~~~~~~~~~~~~~~~~~~~~~~~~~\nRunning tests\n\n---------------------------------------------------------------------\nTest summary\n    Passed: 1\n    Failed: 0\n[ooooooooook] 100.0% passed\n\n",
          "name": "stdout"
        }
      ]
    },
    {
      "metadata": {
        "slideshow": {
          "slide_type": "slide"
        }
      },
      "cell_type": "markdown",
      "source": "## Exercise 1.6: Find errors in the coding of a formula\nGiven a quadratic equation,\n$$ax^2 + bx + c = 0,$$\n$$x1 = \\frac{−b + \\sqrt{b^2 −4ac}}{2a},$$ and\n$$x2 = \\frac{−b − \\sqrt{b^2 −4ac}}{2a}.$$\n\nUncomment and fix the errors in the following code."
    },
    {
      "metadata": {
        "slideshow": {
          "slide_type": "subslide"
        },
        "trusted": true
      },
      "cell_type": "code",
      "source": "a = 2; b = 1; c = -2\nfrom math import sqrt\nq = sqrt(b*b - 4*a*c)\nx1 = (-b + q)/(2*a)\nx2 = (-b - q)/(2*a)\nprint(\"%.3f,%.3f\" %(x1, x2))",
      "execution_count": 28,
      "outputs": [
        {
          "output_type": "stream",
          "text": "0.781,-1.281\n",
          "name": "stdout"
        }
      ]
    },
    {
      "metadata": {
        "trusted": true
      },
      "cell_type": "code",
      "source": "grade = ok.grade('question-1_6')",
      "execution_count": 29,
      "outputs": [
        {
          "output_type": "stream",
          "text": "~~~~~~~~~~~~~~~~~~~~~~~~~~~~~~~~~~~~~~~~~~~~~~~~~~~~~~~~~~~~~~~~~~~~~\nRunning tests\n\n---------------------------------------------------------------------\nTest summary\n    Passed: 3\n    Failed: 0\n[ooooooooook] 100.0% passed\n\n",
          "name": "stdout"
        }
      ]
    },
    {
      "metadata": {},
      "cell_type": "markdown",
      "source": "## Functions\n\nWe have already used Python functions, e.g. `sqrt` from the `math` module above. In general, a function is a collection of statements we can execute wherever and whenever we want. For example, consider any of the formula you implemented above. \n\nFunctions can take any number of inputs (called *arguments*) to produce outputs. Functions help to organize programs, make them more understandable, shorter, and easier to extend. Wouldn't it be nice to implement it just once and then be able to use it again any time you need it, rather than having to write out the whole formula again?\n\nFor our first example we will reuse the formula for the position of a ball in vertical motion, which we've seen at the beginning of the document. "
    },
    {
      "metadata": {
        "trusted": true
      },
      "cell_type": "code",
      "source": "# Function to compute height of ball.\ndef ball_height(v0, t, g=9.81):\n    \"\"\"Function to calculate height of ball.\n    \n    Parameters\n    ----------\n    v0 : float\n        Set initial velocity (units, m/s).\n    t : float\n        Time at which we want to know the height of the ball (units, seconds).\n    g : float, optimal\n        Acceleration due to gravity, by default 9.81 m/s^2.\n\n    Returns\n    -------\n    float\n        Height of ball in meters.\n    \"\"\"\n\n    height = v0*t - 0.5*g*t**2\n    \n    return height",
      "execution_count": 30,
      "outputs": []
    },
    {
      "metadata": {},
      "cell_type": "markdown",
      "source": "Lets break this example down:\n* Function header:\n * Functions start with *def* followed by the name you want to give the function (ball_height in this case).\n * Following the name, you have `(...):` containing some number of function `arguments`.\n * In this case `v0` and `t` are *position arguments* while `g` is known as a *keyword argument* (more about this later).\n* Function body.\n * The first thing to notice is that the body of the function is indented one level.\n * Best practice is to include a [docstring](https://sphinxcontrib-napoleon.readthedocs.io/en/latest/example_numpy.html) to explain to others (or remind your future self) how the function should be used.\n * The function output is passed back via the `return` statement\n \nNotice that this just defines the function. Nothing is actually executed until you actually *use* the function:"
    },
    {
      "metadata": {
        "trusted": true
      },
      "cell_type": "code",
      "source": "print(\"Ball height: %g meters.\"%ball_height(5, 0.6))",
      "execution_count": 31,
      "outputs": [
        {
          "output_type": "stream",
          "text": "Ball height: 1.2342 meters.\n",
          "name": "stdout"
        }
      ]
    },
    {
      "metadata": {},
      "cell_type": "markdown",
      "source": "No return value implies that `None` is returned. `None` is a special Python object that represents an ”empty” or undefined value. It is surprisingly useful and we will use it a lot later.\n\nFunctions can also return multiple values. Let's extend the previous example to calculate the ball velocity as well as the height:"
    },
    {
      "metadata": {
        "trusted": true
      },
      "cell_type": "code",
      "source": "# Function to compute height of ball.\ndef ball_height_velocity(v0, t, g=9.81):\n    \"\"\"Function to calculate height and velocity of ball.\n    \n    Parameters\n    ----------\n    v0 : float\n        Set initial velocity (units, m/s).\n    t : float\n        Time at which we want to know the height of the ball (units, seconds).\n    g : float, optimal\n        Acceleration due to gravity, by default 9.81 m/s^2.\n\n    Returns\n    -------\n    float\n        Height of ball in meters.\n    float\n        Velocity of ball in m/s.\n    \"\"\"\n\n    height = v0*t - 0.5*g*t**2\n    velocity = v0 - g*t\n    \n    return height, velocity\n\nh, v = ball_height_velocity(5, 0.6)\n\nprint(\"Ball height: %g meters.\"%h)\nprint(\"Ball velocity: %g m/s.\"%v)",
      "execution_count": 32,
      "outputs": [
        {
          "output_type": "stream",
          "text": "Ball height: 1.2342 meters.\nBall velocity: -0.886 m/s.\n",
          "name": "stdout"
        }
      ]
    },
    {
      "metadata": {},
      "cell_type": "markdown",
      "source": "## Scope: Local and global variables\n\nVariables defined within a function are said to have *local scope*. That is to say that they can only be referenced within that function. Consider the example function defined above where we used the *local* variable *height*. You can see that if you try to print the variable height outside the function you will get an error.\n\n```python\nprint(height)\n\n---------------------------------------------------------------------------\nNameError                                 Traceback (most recent call last)\n<ipython-input-8-aa6406a13920> in <module>()\n----> 1 print(height)\n\nNameError: name 'height' is not defined\n```"
    },
    {
      "metadata": {},
      "cell_type": "markdown",
      "source": "## Keyword arguments and default input values\n\nFunctions can have arguments of the form variable_name=value and are called keyword arguments:"
    },
    {
      "metadata": {
        "trusted": true
      },
      "cell_type": "code",
      "source": "def somefunc(arg1, arg2, kwarg1=True, kwarg2=0):\n    print(arg1, arg2, kwarg1, kwarg2)\n\nsomefunc(\"Hello\", [1,2])   # Note that we have not specified inputs for kwarg1 and kwarg2",
      "execution_count": 33,
      "outputs": [
        {
          "output_type": "stream",
          "text": "Hello [1, 2] True 0\n",
          "name": "stdout"
        }
      ]
    },
    {
      "metadata": {
        "trusted": true
      },
      "cell_type": "code",
      "source": "somefunc(\"Hello\", [1,2], kwarg1=\"Hi\")",
      "execution_count": 34,
      "outputs": [
        {
          "output_type": "stream",
          "text": "Hello [1, 2] Hi 0\n",
          "name": "stdout"
        }
      ]
    },
    {
      "metadata": {
        "trusted": true
      },
      "cell_type": "code",
      "source": "somefunc(\"Hello\", [1,2], kwarg2=\"Hi\")",
      "execution_count": 35,
      "outputs": [
        {
          "output_type": "stream",
          "text": "Hello [1, 2] True Hi\n",
          "name": "stdout"
        }
      ]
    },
    {
      "metadata": {
        "trusted": true
      },
      "cell_type": "code",
      "source": "somefunc(\"Hello\", [1,2], kwarg2=\"Hi\", kwarg1=6)",
      "execution_count": 36,
      "outputs": [
        {
          "output_type": "stream",
          "text": "Hello [1, 2] 6 Hi\n",
          "name": "stdout"
        }
      ]
    },
    {
      "metadata": {},
      "cell_type": "markdown",
      "source": "If we use variable_name=value for all arguments, their sequence in the function header can be in any order."
    },
    {
      "metadata": {
        "trusted": true
      },
      "cell_type": "code",
      "source": "somefunc(kwarg2=\"Hello\", arg1=\"Hi\", kwarg1=6, arg2=[2])",
      "execution_count": 37,
      "outputs": [
        {
          "output_type": "stream",
          "text": "Hi [2] 6 Hello\n",
          "name": "stdout"
        }
      ]
    },
    {
      "metadata": {},
      "cell_type": "markdown",
      "source": "## Exercise 1.7: Implement a Gaussian function\n\nCreate a Python function to compute the Gaussian: \n$$f(x)=\\frac{1}{s\\sqrt{2\\pi}}\\exp\\left(-\\frac{1}{2} \\left(\\frac{x-m}{s}\\right)^2\\right)$$"
    },
    {
      "metadata": {
        "trusted": true
      },
      "cell_type": "code",
      "source": "# Uncomment and complete this code - keep the names the same for testing purposes. \n\ndef gaussian(x, m=0, s=1):\n    from math import pi, sqrt, exp\n    a = exp(-0.5*((x-m)/s)**2)\n    b = 1/(s*sqrt(2*pi))\n    f_x = a*b\n    return f_x\nf_x = gaussian(1)\nprint (\"%.3f\" %(f_x))",
      "execution_count": 38,
      "outputs": [
        {
          "output_type": "stream",
          "text": "0.242\n",
          "name": "stdout"
        }
      ]
    },
    {
      "metadata": {
        "trusted": true
      },
      "cell_type": "code",
      "source": "ok.grade('question-1_7')",
      "execution_count": 39,
      "outputs": [
        {
          "output_type": "stream",
          "text": "~~~~~~~~~~~~~~~~~~~~~~~~~~~~~~~~~~~~~~~~~~~~~~~~~~~~~~~~~~~~~~~~~~~~~\nRunning tests\n\n---------------------------------------------------------------------\nTest summary\n    Passed: 11\n    Failed: 0\n[ooooooooook] 100.0% passed\n\n",
          "name": "stdout"
        },
        {
          "output_type": "execute_result",
          "execution_count": 39,
          "data": {
            "text/plain": "{'failed': 0, 'locked': 0, 'passed': 11}"
          },
          "metadata": {}
        }
      ]
    },
    {
      "metadata": {},
      "cell_type": "markdown",
      "source": "## Exercise 1.8: How to cook the perfect egg\n\nYou just started University and moved away from home. You're trying to impress your new flatmates by cooking brunch. Write a python script to help you cook the perfect eggs! \n\n\nYou know from A-levels that when the temperature exceeds a critical point, the proteins in the egg first denature and then coagulate, and the process becomes faster as the temperature increases. In the egg white, the proteins start to coagulate for temperatures above 63$^\\circ$C, while in the yolk the proteins start to coagulate for temperatures above 70$^\\circ$C. \n\nThe time `t` (in seconds) it takes for the centre of the yolk to reach the temperature `Ty` (in degrees Celsius) can be expressed as: \n\n$$t = \\frac{M^{2/3}c \\rho^{1/3}}{K \\pi^2 (4 \\pi /3)^{2/3} } ln \\left[0.76 \\frac{T_0-T_w}{T_y-T_w}\\right]$$\n\nwhere:\n* $M$ is the mass of the egg;\n* $\\rho$ is the density;\n* $c$ is the specific heat capacity;\n* $K$ is thermal conductivity.\n* $Tw$ temperature of the boiling water (in C degrees) \n* $T0$ is the initial temeprature of the egg (in C degrees), before being put in the water.\n\nWrite a function that returns the time `t` needed for the egg to cook, knowing that `Tw` = 100$^\\circ$ C, `M` = 50 g, `rho` = 1.038 gcm$^{−3}$, `c` = 3.7 Jg$^{−1}$K$^{−1}$, and `K` = 5.4 · 10$^{−3}$Wcm$^{−1}$K$^{−1}$. Find `t` for an egg taken from the fridge (`T0` = 4 C) and for one at room temperature (`T0` = 20 C). \n\nHint: You do not need to do any unit conversion. `Ty` = 70 $^\\circ$ C. for a perfect soft boiled egg. "
    },
    {
      "metadata": {
        "trusted": true
      },
      "cell_type": "code",
      "source": "# Uncomment and complete this code - keep the names the same for testing purposes. \n\nfrom math import pi, log\n\ndef perfect_egg(T0, M=5, Tw=100, rho=1.038, c=3.7, K=5.4E-3, Ty=70):\n    m = (M**(2/3)*c*rho**(1/3))/(K*pi**2*(4*pi/3)**(2/3))\n    q = log(0.76*((T0-Tw)/(Ty-Tw)))\n    t = m*q\n    return t\nprint(\"time for an egg taken into the fridge at 4C is: %.2f\" %(perfect_egg(4)))\nprint(\"time for an egg taken into the fridge at 20C is: %.2f\" %(perfect_egg(20)))",
      "execution_count": 40,
      "outputs": [
        {
          "output_type": "stream",
          "text": "time for an egg taken into the fridge at 4C is: 70.29\ntime for an egg taken into the fridge at 20C is: 55.87\n",
          "name": "stdout"
        }
      ]
    },
    {
      "metadata": {
        "trusted": true
      },
      "cell_type": "code",
      "source": "ok.grade('question-1_8')",
      "execution_count": 41,
      "outputs": [
        {
          "output_type": "stream",
          "text": "~~~~~~~~~~~~~~~~~~~~~~~~~~~~~~~~~~~~~~~~~~~~~~~~~~~~~~~~~~~~~~~~~~~~~\nRunning tests\n\n---------------------------------------------------------------------\nTest summary\n    Passed: 1\n    Failed: 0\n[ooooooooook] 100.0% passed\n\n",
          "name": "stdout"
        },
        {
          "output_type": "execute_result",
          "execution_count": 41,
          "data": {
            "text/plain": "{'failed': 0, 'locked': 0, 'passed': 1}"
          },
          "metadata": {}
        }
      ]
    },
    {
      "metadata": {},
      "cell_type": "markdown",
      "source": "## Exercise 1.9: Kepler's third law\n\nYou were selected to be the next astronaut to go to Mars. Congratulations! \n\nKepler's third law expresses the relationship between the distance of planets from the Sun, $a$, and their orbital periods, $P$\n\n$$ P^2 = \\frac{4\\pi^2}{G(m_1+m_2)}a^3  $$\n\nwhere\n* P is the period (in seconds)\n* G is the gravitational constant ( = 6.67 × 10$^{-11}$ m$^3$kg$^{-1}$s$^{-2}$)\n* m$_1$ is the mass of the planet (in kg)\n* m$_2$ is the mass of the Sun ( = 2x10$^{30}$ kg)\n* a is the distance between the planet and the Sun (in m)\n\nHow many Earth birthdays will you celebrate during your 10 Mars years mission? Write a python code that will calculate the the period on Earth, `P_earth`, the period on Mars, `P_mars`, and how many Earth years are equivalent to 10 years on Mars, `birthdays`.\n\nYou know that:\n* The average distance between the Earth and the Sun is $a$ = 1.5x10$^{11}$m;\n* The average distance between Mars and the Sun is 0.5 larger than the Eart-Sun distance;\n* The mass of the Earth is m$_1$ = 6x10$^{24}$;\n* Mars's mass is about 10% of the Earth's mass.\n\nHint: You do not need to do any unit conversion. "
    },
    {
      "metadata": {
        "trusted": true
      },
      "cell_type": "code",
      "source": "# Uncomment and complete this code - keep the names the same for testing purposes. \n\nfrom math import pi, sqrt\n\ndef period(a, G=6.67*10**-11, m1=6*10**24 , m2=2*10**30):\n    P_earth = sqrt((4*pi**2*a**3)/(G*(m1+m2))) \n    P_mars = sqrt((4*pi**2*(a*1.5)**3)/(G*(0.1*m1+m2)))\n    birthdays = (P_mars*10/P_earth)\n    return P_mars, P_earth, birthdays\na, b, c = period(1.5*10**11)\nprint(\"\"\"The period on Mars is %.3f\nThe period on Earth is %.3f\nThe number of birthdays is %d\"\"\" %(a,b,c))",
      "execution_count": 42,
      "outputs": [
        {
          "output_type": "stream",
          "text": "The period on Mars is 58059817.395\nThe period on Earth is 31603718.930\nThe number of birthdays is 18\n",
          "name": "stdout"
        }
      ]
    },
    {
      "metadata": {
        "trusted": true
      },
      "cell_type": "code",
      "source": "ok.grade('question-1_9')",
      "execution_count": 43,
      "outputs": [
        {
          "output_type": "stream",
          "text": "~~~~~~~~~~~~~~~~~~~~~~~~~~~~~~~~~~~~~~~~~~~~~~~~~~~~~~~~~~~~~~~~~~~~~\nRunning tests\n\n---------------------------------------------------------------------\nTest summary\n    Passed: 1\n    Failed: 0\n[ooooooooook] 100.0% passed\n\n",
          "name": "stdout"
        },
        {
          "output_type": "execute_result",
          "execution_count": 43,
          "data": {
            "text/plain": "{'failed': 0, 'locked': 0, 'passed': 1}"
          },
          "metadata": {}
        }
      ]
    },
    {
      "metadata": {
        "slideshow": {
          "slide_type": "slide"
        }
      },
      "cell_type": "markdown",
      "source": "## Boolean expressions\nAn expression with value *true* or *false* is called a boolean expression. Example expressions for what you would write mathematically as\n$C=40$, $C\\ne40$, $C\\ge40$, $C\\gt40$ and $C\\lt40$ are:\n\n```python\nC == 40 # Note: the double == checks for equality!\nC != 40 # This could also be written as 'not C == 4'\nC >= 40\nC > 40\nC < 40\n```"
    },
    {
      "metadata": {
        "slideshow": {
          "slide_type": "subslide"
        }
      },
      "cell_type": "markdown",
      "source": "We can test boolean expressions in a Python shell:"
    },
    {
      "metadata": {
        "slideshow": {
          "slide_type": "fragment"
        },
        "trusted": true
      },
      "cell_type": "code",
      "source": "C = 41\nprint(\"C != 40: \", C != 40)\nprint(\"C < 40: \", C < 40)\nprint(\"C == 41: \", C == 41)",
      "execution_count": 44,
      "outputs": [
        {
          "output_type": "stream",
          "text": "C != 40:  True\nC < 40:  False\nC == 41:  True\n",
          "name": "stdout"
        }
      ]
    },
    {
      "metadata": {
        "slideshow": {
          "slide_type": "subslide"
        }
      },
      "cell_type": "markdown",
      "source": "Several conditions can be combined with the special 'and' and 'or' keywords into a single boolean expression:\n\n* Rule 1: (**C1** *and* **C2**) is *True* only if both **C1** and **C2** are *True*\n* Rule 2: (**C1** *or* **C2**) is *True* if either **C1** or **C2** are *True*\n\nExamples:"
    },
    {
      "metadata": {
        "slideshow": {
          "slide_type": "fragment"
        },
        "trusted": true
      },
      "cell_type": "code",
      "source": "x=0; y=1.2\nprint (x >= 0 and y < 1)",
      "execution_count": 45,
      "outputs": [
        {
          "output_type": "stream",
          "text": "False\n",
          "name": "stdout"
        }
      ]
    },
    {
      "metadata": {
        "slideshow": {
          "slide_type": "slide"
        }
      },
      "cell_type": "markdown",
      "source": "## Exercise 1.10: Values of boolean expressions\nAdd a comment to the code below to explain the outcome of each of the boolean expressions:"
    },
    {
      "metadata": {
        "slideshow": {
          "slide_type": "subslide"
        },
        "trusted": true
      },
      "cell_type": "code",
      "source": "C = 41\n\nprint(\"Case 1: \", C == 40)\nprint(\"Case 2: \", C != 40 and C < 41)\nprint(\"Case 3: \", C != 40 or C < 41)\nprint(\"Case 4: \", not C == 40)\nprint(\"Case 5: \", not C > 40)\nprint(\"Case 6: \", C <= 41)\nprint(\"Case 7: \", not False)\nprint(\"Case 8: \", True and False)\nprint(\"Case 9: \", False or True)\nprint(\"Case 10: \", False or False or False)\nprint(\"Case 11: \", True and True and False)\nprint(\"Case 12: \", False == 0)\nprint(\"Case 13: \", True == 0)\nprint(\"Case 14: \", True == 1)",
      "execution_count": 46,
      "outputs": [
        {
          "output_type": "stream",
          "text": "Case 1:  False\nCase 2:  False\nCase 3:  True\nCase 4:  True\nCase 5:  False\nCase 6:  True\nCase 7:  True\nCase 8:  False\nCase 9:  True\nCase 10:  False\nCase 11:  False\nCase 12:  True\nCase 13:  False\nCase 14:  True\n",
          "name": "stdout"
        }
      ]
    },
    {
      "metadata": {
        "slideshow": {
          "slide_type": "slide"
        }
      },
      "cell_type": "markdown",
      "source": "## Loops\nSuppose we want to make a table of Celsius and Fahrenheit degrees:\n```\n             -20  -4.0\n             -15   5.0\n             -10  14.0\n              -5  23.0\n               0  32.0\n               5  41.0\n              10  50.0\n              15  59.0\n              20  68.0\n              25  77.0\n              30  86.0\n              35  95.0\n              40 104.0\n              ```"
    },
    {
      "metadata": {
        "slideshow": {
          "slide_type": "subslide"
        }
      },
      "cell_type": "markdown",
      "source": "How do we write a program that prints out such a table?\n￼\nWe know from the last lecture how to make one line in this table:"
    },
    {
      "metadata": {
        "slideshow": {
          "slide_type": "fragment"
        },
        "trusted": true
      },
      "cell_type": "code",
      "source": "C = -20\nF = 9.0/5*C + 32\nprint(C, F)",
      "execution_count": 47,
      "outputs": [
        {
          "output_type": "stream",
          "text": "-20 -4.0\n",
          "name": "stdout"
        }
      ]
    },
    {
      "metadata": {
        "slideshow": {
          "slide_type": "subslide"
        }
      },
      "cell_type": "markdown",
      "source": "We can just repeat these statements:"
    },
    {
      "metadata": {
        "slideshow": {
          "slide_type": "fragment"
        },
        "trusted": true
      },
      "cell_type": "code",
      "source": "C=-20; F=9.0/5*C+32; print(C,F)\nC=-15; F=9.0/5*C+32; print(C,F)\nC=-10; F=9.0/5*C+32; print(C,F)\nC=-5; F=9.0/5*C+32; print(C,F)\nC=0; F=9.0/5*C+32; print(C,F)\nC=5; F=9.0/5*C+32; print(C,F)\nC=10; F=9.0/5*C+32; print(C,F)\nC=15; F=9.0/5*C+32; print(C,F)\nC=20; F=9.0/5*C+32; print(C,F)\nC=25; F=9.0/5*C+32; print(C,F)\nC=30; F=9.0/5*C+32; print(C,F)\nC=35; F=9.0/5*C+32; print(C,F)\nC=40; F=9.0/5*C+32; print(C,F)",
      "execution_count": 48,
      "outputs": [
        {
          "output_type": "stream",
          "text": "-20 -4.0\n-15 5.0\n-10 14.0\n-5 23.0\n0 32.0\n5 41.0\n10 50.0\n15 59.0\n20 68.0\n25 77.0\n30 86.0\n35 95.0\n40 104.0\n",
          "name": "stdout"
        }
      ]
    },
    {
      "metadata": {
        "slideshow": {
          "slide_type": "subslide"
        }
      },
      "cell_type": "markdown",
      "source": "So we can see that works but its **very boring** to write and very easy to introduce a misprint.\n\n**You really should not be doing boring repetitive tasks like this.** Spend your time instead looking for a smarter solution. When programming becomes boring, there is usually a construct that automates the writing. Computers are very good at performing repetitive tasks. For this purpose we use **loops**."
    },
    {
      "metadata": {
        "slideshow": {
          "slide_type": "slide"
        }
      },
      "cell_type": "markdown",
      "source": "## The while loop (and the significance of indentation)\nA while loop executes repeatedly a set of statements as long as a **boolean** (i.e. *True* / *False*) condition is *True*\n\n```\nwhile condition:\n    <statement 1>\n    <statement 2>\n    ...\n<first statement after loop>\n```"
    },
    {
      "metadata": {
        "slideshow": {
          "slide_type": "subslide"
        }
      },
      "cell_type": "markdown",
      "source": "Note that all statements to be executed within the loop must be indented by the same amount! The loop ends when an unindented statement is encountered.\n\nAt this point it is worth noticing that **blank spaces may or may not be important** in Python programs. These statements are equivalent (blanks do not matter):"
    },
    {
      "metadata": {
        "slideshow": {
          "slide_type": "fragment"
        },
        "trusted": true
      },
      "cell_type": "code",
      "source": "v0=3\nv0  =  3\nv0=   3\n# The computer does not care but this formatting style is\n# considered clearest for the human reader.\nv0 = 3",
      "execution_count": 49,
      "outputs": []
    },
    {
      "metadata": {
        "slideshow": {
          "slide_type": "subslide"
        }
      },
      "cell_type": "markdown",
      "source": "Here is a while loop example where blank spaces really do matter:"
    },
    {
      "metadata": {
        "slideshow": {
          "slide_type": "fragment"
        },
        "trusted": true
      },
      "cell_type": "code",
      "source": "counter = 0\nwhile counter <= 10:\n    counter = counter + 1\nprint(counter)",
      "execution_count": 50,
      "outputs": [
        {
          "output_type": "stream",
          "text": "11\n",
          "name": "stdout"
        }
      ]
    },
    {
      "metadata": {
        "slideshow": {
          "slide_type": "subslide"
        }
      },
      "cell_type": "markdown",
      "source": "Let's take a look at what happens when we forget to indent correctly:"
    },
    {
      "metadata": {
        "slideshow": {
          "slide_type": "fragment"
        }
      },
      "cell_type": "markdown",
      "source": "```python\ncounter = 0\nwhile counter <= 10:\ncounter = counter + 1\nprint(counter)\n\n\n  File \"<ipython-input-1-d8461f52562c>\", line 3\n    counter = counter + 1\n          ^\nIndentationError: expected an indented block```"
    },
    {
      "metadata": {
        "slideshow": {
          "slide_type": "subslide"
        }
      },
      "cell_type": "markdown",
      "source": "Let's use the while loop to create the table above:"
    },
    {
      "metadata": {
        "slideshow": {
          "slide_type": "fragment"
        },
        "trusted": true
      },
      "cell_type": "code",
      "source": "C = -20                 # Initialise C\ndC = 5                  # Increment for C within the loop\nwhile C <= 40:          # Loop heading with condition\n    F = (9.0/5)*C + 32  # 1st statement inside loop\n    print(C, F)         # 2nd statement inside loop\n    C = C + dC          # Increment C for the next iteration of the loop.",
      "execution_count": 51,
      "outputs": [
        {
          "output_type": "stream",
          "text": "-20 -4.0\n-15 5.0\n-10 14.0\n-5 23.0\n0 32.0\n5 41.0\n10 50.0\n15 59.0\n20 68.0\n25 77.0\n30 86.0\n35 95.0\n40 104.0\n",
          "name": "stdout"
        }
      ]
    },
    {
      "metadata": {
        "slideshow": {
          "slide_type": "slide"
        }
      },
      "cell_type": "markdown",
      "source": "## Exercise 1.11: Make a Fahrenheit-Celsius conversion table\nWrite a program that uses a while loop to print out a table with Fahrenheit degrees 0, 10, 20, ..., 100 in the first column and the corresponding Celsius degrees in the second column."
    },
    {
      "metadata": {
        "slideshow": {
          "slide_type": "subslide"
        },
        "trusted": true
      },
      "cell_type": "code",
      "source": "# Uncomment and complete the code below. Do not change the names of variables.\n\nFahrenheit = 0\nprint ('Fahrenheit Celcius')\nwhile Fahrenheit <= 100:\n    Celsius = 5/9*(Fahrenheit-32)\n    print (\"%d %15.3f\" %(Fahrenheit, Celsius))\n    Fahrenheit = Fahrenheit + 10\n    \n\n",
      "execution_count": 52,
      "outputs": [
        {
          "output_type": "stream",
          "text": "Fahrenheit Celcius\n0         -17.778\n10         -12.222\n20          -6.667\n30          -1.111\n40           4.444\n50          10.000\n60          15.556\n70          21.111\n80          26.667\n90          32.222\n100          37.778\n",
          "name": "stdout"
        }
      ]
    },
    {
      "metadata": {
        "trusted": true
      },
      "cell_type": "code",
      "source": "ok.grade('question-1_11')",
      "execution_count": 53,
      "outputs": [
        {
          "output_type": "stream",
          "text": "~~~~~~~~~~~~~~~~~~~~~~~~~~~~~~~~~~~~~~~~~~~~~~~~~~~~~~~~~~~~~~~~~~~~~\nRunning tests\n\n---------------------------------------------------------------------\nTest summary\n    Passed: 1\n    Failed: 0\n[ooooooooook] 100.0% passed\n\n",
          "name": "stdout"
        },
        {
          "output_type": "execute_result",
          "execution_count": 53,
          "data": {
            "text/plain": "{'failed': 0, 'locked': 0, 'passed': 1}"
          },
          "metadata": {}
        }
      ]
    },
    {
      "metadata": {
        "slideshow": {
          "slide_type": "slide"
        }
      },
      "cell_type": "markdown",
      "source": "## Exercise 1.12: Write an approximate Fahrenheit-Celsius conversion table\n\nMany people use an approximate formula for quickly converting Fahrenheit ($F$) to Celsius ($C$) degrees:</br></br>\n$C \\approx \\hat{C} = \\frac{F − 30}{2}$</br></br>\nModify the program from the previous exercise so that it prints three columns: $F$, $C$, and the approximate value $\\hat{C}$."
    },
    {
      "metadata": {
        "slideshow": {
          "slide_type": "subslide"
        },
        "trusted": true
      },
      "cell_type": "code",
      "source": "# Uncomment and complete the code below. Do not change the names of variables.\nFahrenheit = 0\nprint ('Fahrenheit Celcius ApproxCelcius')\nwhile Fahrenheit <= 100:\n    Celsius = 5/9*(Fahrenheit-32)\n    Celsius_approx = (Fahrenheit-30)/2\n    print ('%5d %11.3f %5d'%(Fahrenheit, Celsius, Celsius_approx))\n    Fahrenheit = Fahrenheit + 10\n    ",
      "execution_count": 54,
      "outputs": [
        {
          "output_type": "stream",
          "text": "Fahrenheit Celcius ApproxCelcius\n    0     -17.778   -15\n   10     -12.222   -10\n   20      -6.667    -5\n   30      -1.111     0\n   40       4.444     5\n   50      10.000    10\n   60      15.556    15\n   70      21.111    20\n   80      26.667    25\n   90      32.222    30\n  100      37.778    35\n",
          "name": "stdout"
        }
      ]
    },
    {
      "metadata": {
        "trusted": true
      },
      "cell_type": "code",
      "source": "ok.grade('question-1_12')",
      "execution_count": 55,
      "outputs": [
        {
          "output_type": "stream",
          "text": "~~~~~~~~~~~~~~~~~~~~~~~~~~~~~~~~~~~~~~~~~~~~~~~~~~~~~~~~~~~~~~~~~~~~~\nRunning tests\n\n---------------------------------------------------------------------\nTest summary\n    Passed: 2\n    Failed: 0\n[ooooooooook] 100.0% passed\n\n",
          "name": "stdout"
        },
        {
          "output_type": "execute_result",
          "execution_count": 55,
          "data": {
            "text/plain": "{'failed': 0, 'locked': 0, 'passed': 2}"
          },
          "metadata": {}
        }
      ]
    },
    {
      "metadata": {
        "slideshow": {
          "slide_type": "slide"
        }
      },
      "cell_type": "markdown",
      "source": "## Lists\nSo far, one variable has referred to one number (or string). Sometimes however we naturally have a collection of numbers, say\ndegrees −20, −15, −10, −5, 0, ..., 40. One way to store these values in a computer program would be to have one variable per value, i.e."
    },
    {
      "metadata": {
        "slideshow": {
          "slide_type": "fragment"
        },
        "trusted": true
      },
      "cell_type": "code",
      "source": "C1 = -20\nC2 = -15\nC3 = -10\n# ...\nC13 = 40",
      "execution_count": 56,
      "outputs": []
    },
    {
      "metadata": {
        "slideshow": {
          "slide_type": "subslide"
        }
      },
      "cell_type": "markdown",
      "source": "This is clearly a terrible solution, particularly if we have lots of values. A better way of doing this is to collect values together in a list:"
    },
    {
      "metadata": {
        "slideshow": {
          "slide_type": "fragment"
        },
        "trusted": true
      },
      "cell_type": "code",
      "source": "C = [-20, -15, -10, -5, 0, 5, 10, 15, 20, 25, 30, 35, 40]",
      "execution_count": 57,
      "outputs": []
    },
    {
      "metadata": {
        "slideshow": {
          "slide_type": "subslide"
        }
      },
      "cell_type": "markdown",
      "source": "Now there is just one variable, **C**, holding all the values. Elements in a list are accessed via an index. List indices are always numbered as 0, 1, 2, and so forth up to the number of elements minus one:"
    },
    {
      "metadata": {
        "slideshow": {
          "slide_type": "fragment"
        },
        "trusted": true
      },
      "cell_type": "code",
      "source": "mylist = [4, 6, -3.5]\nprint(mylist[0])\nprint(mylist[1])\nprint(mylist[2])\nprint(len(mylist))  # length of list",
      "execution_count": 58,
      "outputs": [
        {
          "output_type": "stream",
          "text": "4\n6\n-3.5\n3\n",
          "name": "stdout"
        }
      ]
    },
    {
      "metadata": {
        "slideshow": {
          "slide_type": "subslide"
        }
      },
      "cell_type": "markdown",
      "source": "Here are a few examples of operations that you can perform on lists:"
    },
    {
      "metadata": {
        "slideshow": {
          "slide_type": "fragment"
        },
        "trusted": true
      },
      "cell_type": "code",
      "source": "C = [-10, -5, 0, 5, 10, 15, 20, 25, 30]\nC.append(35) # add new element 35 at the end\nprint(C)",
      "execution_count": 59,
      "outputs": [
        {
          "output_type": "stream",
          "text": "[-10, -5, 0, 5, 10, 15, 20, 25, 30, 35]\n",
          "name": "stdout"
        }
      ]
    },
    {
      "metadata": {
        "slideshow": {
          "slide_type": "fragment"
        },
        "trusted": true
      },
      "cell_type": "code",
      "source": "C=C+[40,45] # And another list to the end of C\nprint(C)",
      "execution_count": 60,
      "outputs": [
        {
          "output_type": "stream",
          "text": "[-10, -5, 0, 5, 10, 15, 20, 25, 30, 35, 40, 45]\n",
          "name": "stdout"
        }
      ]
    },
    {
      "metadata": {
        "slideshow": {
          "slide_type": "fragment"
        },
        "trusted": true
      },
      "cell_type": "code",
      "source": "C.insert(0, -15)     # Insert -15 as index 0\nprint(C)",
      "execution_count": 61,
      "outputs": [
        {
          "output_type": "stream",
          "text": "[-15, -10, -5, 0, 5, 10, 15, 20, 25, 30, 35, 40, 45]\n",
          "name": "stdout"
        }
      ]
    },
    {
      "metadata": {
        "slideshow": {
          "slide_type": "fragment"
        },
        "trusted": true
      },
      "cell_type": "code",
      "source": "del C[2]             # delete 3rd element\nprint(C)",
      "execution_count": 62,
      "outputs": [
        {
          "output_type": "stream",
          "text": "[-15, -10, 0, 5, 10, 15, 20, 25, 30, 35, 40, 45]\n",
          "name": "stdout"
        }
      ]
    },
    {
      "metadata": {
        "slideshow": {
          "slide_type": "subslide"
        },
        "trusted": true
      },
      "cell_type": "code",
      "source": "del C[2]             # delete what is now 3rd element\nprint(C)",
      "execution_count": 63,
      "outputs": [
        {
          "output_type": "stream",
          "text": "[-15, -10, 5, 10, 15, 20, 25, 30, 35, 40, 45]\n",
          "name": "stdout"
        }
      ]
    },
    {
      "metadata": {
        "slideshow": {
          "slide_type": "fragment"
        },
        "trusted": true
      },
      "cell_type": "code",
      "source": "print(len(C))         # length of list",
      "execution_count": 64,
      "outputs": [
        {
          "output_type": "stream",
          "text": "11\n",
          "name": "stdout"
        }
      ]
    },
    {
      "metadata": {
        "slideshow": {
          "slide_type": "fragment"
        },
        "trusted": true
      },
      "cell_type": "code",
      "source": "print(C.index(10))    # Find the index of the list with the value 10",
      "execution_count": 65,
      "outputs": [
        {
          "output_type": "stream",
          "text": "3\n",
          "name": "stdout"
        }
      ]
    },
    {
      "metadata": {
        "slideshow": {
          "slide_type": "fragment"
        },
        "trusted": true
      },
      "cell_type": "code",
      "source": "print(10 in C)        # True only if the value 10 is stored in the list",
      "execution_count": 66,
      "outputs": [
        {
          "output_type": "stream",
          "text": "True\n",
          "name": "stdout"
        }
      ]
    },
    {
      "metadata": {
        "slideshow": {
          "slide_type": "fragment"
        },
        "trusted": true
      },
      "cell_type": "code",
      "source": "print(C[-1])          # The last value in the list.",
      "execution_count": 67,
      "outputs": [
        {
          "output_type": "stream",
          "text": "45\n",
          "name": "stdout"
        }
      ]
    },
    {
      "metadata": {
        "slideshow": {
          "slide_type": "fragment"
        },
        "trusted": true
      },
      "cell_type": "code",
      "source": "print(C[-2])          # The second last value in the list.",
      "execution_count": 68,
      "outputs": [
        {
          "output_type": "stream",
          "text": "40\n",
          "name": "stdout"
        }
      ]
    },
    {
      "metadata": {
        "slideshow": {
          "slide_type": "subslide"
        }
      },
      "cell_type": "markdown",
      "source": "You can also extract sublists using \":\""
    },
    {
      "metadata": {
        "slideshow": {
          "slide_type": "fragment"
        },
        "trusted": true
      },
      "cell_type": "code",
      "source": "print(C[5:])          # From index 5 to the end of the list.",
      "execution_count": 69,
      "outputs": [
        {
          "output_type": "stream",
          "text": "[20, 25, 30, 35, 40, 45]\n",
          "name": "stdout"
        }
      ]
    },
    {
      "metadata": {
        "slideshow": {
          "slide_type": "fragment"
        },
        "trusted": true
      },
      "cell_type": "code",
      "source": "print(C[5:7])         # From index 5 up to, but not including index 7.",
      "execution_count": 70,
      "outputs": [
        {
          "output_type": "stream",
          "text": "[20, 25]\n",
          "name": "stdout"
        }
      ]
    },
    {
      "metadata": {
        "slideshow": {
          "slide_type": "fragment"
        },
        "trusted": true
      },
      "cell_type": "code",
      "source": "print(C[7:-1])        # From index 7 up to the second last element.",
      "execution_count": 71,
      "outputs": [
        {
          "output_type": "stream",
          "text": "[30, 35, 40]\n",
          "name": "stdout"
        }
      ]
    },
    {
      "metadata": {
        "slideshow": {
          "slide_type": "fragment"
        },
        "trusted": true
      },
      "cell_type": "code",
      "source": "print(C[:])           # [:] specifies the whole list.",
      "execution_count": 72,
      "outputs": [
        {
          "output_type": "stream",
          "text": "[-15, -10, 5, 10, 15, 20, 25, 30, 35, 40, 45]\n",
          "name": "stdout"
        }
      ]
    },
    {
      "metadata": {
        "slideshow": {
          "slide_type": "subslide"
        }
      },
      "cell_type": "markdown",
      "source": "You can also unpack the elements of a list into seperate variables:"
    },
    {
      "metadata": {
        "slideshow": {
          "slide_type": "fragment"
        },
        "trusted": true
      },
      "cell_type": "code",
      "source": "somelist = ['Curly', 'Larry', 'Moe']\nstooge1, stooge2, stooge3 = somelist\nprint(stooge3, stooge2, stooge1)",
      "execution_count": 73,
      "outputs": [
        {
          "output_type": "stream",
          "text": "Moe Larry Curly\n",
          "name": "stdout"
        }
      ]
    },
    {
      "metadata": {
        "slideshow": {
          "slide_type": "slide"
        }
      },
      "cell_type": "markdown",
      "source": "## Exercise 1.13: Store odd numbers in a list\n\nStep 1: Write a program that generates all odd numbers from 1 to *n*. For the purpose of testing, set *n=10* at the beginning of the program and use a while loop to compute the numbers. (Make sure that if *n* is an even number, the largest generated odd number is *n*-1.).\n\nStep 2: Store the generated odd numbers in a list. Start with an empty list and use the same while loop where you generate each odd number, to append the new number to the list."
    },
    {
      "metadata": {
        "slideshow": {
          "slide_type": "subslide"
        },
        "trusted": true
      },
      "cell_type": "code",
      "source": "# Uncomment and complete code. Do not change the variable names.\nn = 10\nodd_list = []\nk = 1\nwhile k <=n:\n    if k%2 != 0:\n        odd_list.append(k)\n    k = k + 1\nprint (odd_list)",
      "execution_count": 74,
      "outputs": [
        {
          "output_type": "stream",
          "text": "[1, 3, 5, 7, 9]\n",
          "name": "stdout"
        }
      ]
    },
    {
      "metadata": {
        "trusted": true
      },
      "cell_type": "code",
      "source": "ok.grade('question-1_13')",
      "execution_count": 75,
      "outputs": [
        {
          "output_type": "stream",
          "text": "~~~~~~~~~~~~~~~~~~~~~~~~~~~~~~~~~~~~~~~~~~~~~~~~~~~~~~~~~~~~~~~~~~~~~\nRunning tests\n\n---------------------------------------------------------------------\nTest summary\n    Passed: 2\n    Failed: 0\n[ooooooooook] 100.0% passed\n\n",
          "name": "stdout"
        },
        {
          "output_type": "execute_result",
          "execution_count": 75,
          "data": {
            "text/plain": "{'failed': 0, 'locked': 0, 'passed': 2}"
          },
          "metadata": {}
        }
      ]
    },
    {
      "metadata": {
        "slideshow": {
          "slide_type": "slide"
        }
      },
      "cell_type": "markdown",
      "source": "## For loops\nWe can visit each element in a list and process the element with some statements using a *for* loop, for example:"
    },
    {
      "metadata": {
        "slideshow": {
          "slide_type": "fragment"
        },
        "trusted": true
      },
      "cell_type": "code",
      "source": "degrees = [0, 10, 20, 40, 100]\nfor C in degrees:\n    print('list element:', C)\nprint('The degrees list has', len(degrees), 'elements')",
      "execution_count": 76,
      "outputs": [
        {
          "output_type": "stream",
          "text": "list element: 0\nlist element: 10\nlist element: 20\nlist element: 40\nlist element: 100\nThe degrees list has 5 elements\n",
          "name": "stdout"
        }
      ]
    },
    {
      "metadata": {
        "slideshow": {
          "slide_type": "subslide"
        }
      },
      "cell_type": "markdown",
      "source": "Notice again how the statements to be executed within the loop must be indented! Let's now revisit the conversion table example using the *for* loop:"
    },
    {
      "metadata": {
        "slideshow": {
          "slide_type": "fragment"
        },
        "trusted": true
      },
      "cell_type": "code",
      "source": "Cdegrees = [-20, -15, -10, -5, 0, 5, 10, 15, 20, 25, 30, 35, 40]\nfor C in Cdegrees:\n    F = (9.0/5)*C + 32\n    print(C, F)",
      "execution_count": 77,
      "outputs": [
        {
          "output_type": "stream",
          "text": "-20 -4.0\n-15 5.0\n-10 14.0\n-5 23.0\n0 32.0\n5 41.0\n10 50.0\n15 59.0\n20 68.0\n25 77.0\n30 86.0\n35 95.0\n40 104.0\n",
          "name": "stdout"
        }
      ]
    },
    {
      "metadata": {
        "slideshow": {
          "slide_type": "subslide"
        }
      },
      "cell_type": "markdown",
      "source": "We can easily beautify the table using the printf syntax that we encountered in the last lecture:"
    },
    {
      "metadata": {
        "slideshow": {
          "slide_type": "fragment"
        },
        "trusted": true
      },
      "cell_type": "code",
      "source": "for C in Cdegrees:\n    F = (9.0/5)*C + 32       \n    print('%5d %5.1f' % (C, F))",
      "execution_count": 78,
      "outputs": [
        {
          "output_type": "stream",
          "text": "  -20  -4.0\n  -15   5.0\n  -10  14.0\n   -5  23.0\n    0  32.0\n    5  41.0\n   10  50.0\n   15  59.0\n   20  68.0\n   25  77.0\n   30  86.0\n   35  95.0\n   40 104.0\n",
          "name": "stdout"
        }
      ]
    },
    {
      "metadata": {
        "slideshow": {
          "slide_type": "subslide"
        }
      },
      "cell_type": "markdown",
      "source": "It is also possible to rewrite the *for* loop as a *while* loop, i.e.,\n\n```\nfor element in somelist:\n           # process element\n```"
    },
    {
      "metadata": {
        "slideshow": {
          "slide_type": "subslide"
        }
      },
      "cell_type": "markdown",
      "source": "can always be transformed to a *while* loop\n```\nindex = 0\nwhile index < len(somelist):\n    element = somelist[index]\n    # process element\n    index += 1\n    ```"
    },
    {
      "metadata": {
        "slideshow": {
          "slide_type": "subslide"
        }
      },
      "cell_type": "markdown",
      "source": "Taking the previous table example:"
    },
    {
      "metadata": {
        "slideshow": {
          "slide_type": "fragment"
        },
        "trusted": true
      },
      "cell_type": "code",
      "source": "Cdegrees = [-20, -15, -10, -5, 0, 5, 10, 15, 20, 25, 30, 35, 40]\nindex = 0\nwhile index < len(Cdegrees):\n    C = Cdegrees[index]\n    F = (9.0/5)*C + 32\n    print('%5d %5.1f' % (C, F))\n    index += 1",
      "execution_count": 79,
      "outputs": [
        {
          "output_type": "stream",
          "text": "  -20  -4.0\n  -15   5.0\n  -10  14.0\n   -5  23.0\n    0  32.0\n    5  41.0\n   10  50.0\n   15  59.0\n   20  68.0\n   25  77.0\n   30  86.0\n   35  95.0\n   40 104.0\n",
          "name": "stdout"
        }
      ]
    },
    {
      "metadata": {
        "slideshow": {
          "slide_type": "subslide"
        }
      },
      "cell_type": "markdown",
      "source": "Rather than just printing out the Fahrenheit values, let's also store these computed values in a list of their own:"
    },
    {
      "metadata": {
        "slideshow": {
          "slide_type": "fragment"
        },
        "trusted": true
      },
      "cell_type": "code",
      "source": "Cdegrees = [-20, -15, -10, -5, 0, 5, 10, 15, 20, 25, 30, 35, 40]\nFdegrees = []            # start with empty list\nfor C in Cdegrees:\n    F = (9.0/5)*C + 32\n    Fdegrees.append(F)   # add new element to Fdegrees\nprint(Fdegrees)",
      "execution_count": 80,
      "outputs": [
        {
          "output_type": "stream",
          "text": "[-4.0, 5.0, 14.0, 23.0, 32.0, 41.0, 50.0, 59.0, 68.0, 77.0, 86.0, 95.0, 104.0]\n",
          "name": "stdout"
        }
      ]
    },
    {
      "metadata": {
        "slideshow": {
          "slide_type": "subslide"
        }
      },
      "cell_type": "markdown",
      "source": "In Python *for* loops usually loop over list values (elements), i.e.,\n\n```\nfor element in somelist:\n    ...process variable element\n```"
    },
    {
      "metadata": {
        "slideshow": {
          "slide_type": "subslide"
        }
      },
      "cell_type": "markdown",
      "source": "However, we can also loop over list indices:\n\n```\nfor i in range(0, len(somelist), 1):\n    element = somelist[i]\n    ... process element or somelist[i] directly\n    ```   "
    },
    {
      "metadata": {
        "slideshow": {
          "slide_type": "subslide"
        }
      },
      "cell_type": "markdown",
      "source": "The statement *range(start, stop, inc)* generates a list of integers *start*, *start+inc*, *start+2\\*inc*, and so on up to, but not including, *stop*. We can also write *range(stop)* as an abbreviation for *range(0, stop, 1)*:"
    },
    {
      "metadata": {
        "slideshow": {
          "slide_type": "fragment"
        },
        "trusted": true
      },
      "cell_type": "code",
      "source": "print(range(3)) # same as range(0, 3, 1)",
      "execution_count": 81,
      "outputs": [
        {
          "output_type": "stream",
          "text": "range(0, 3)\n",
          "name": "stdout"
        }
      ]
    },
    {
      "metadata": {
        "slideshow": {
          "slide_type": "fragment"
        },
        "trusted": true
      },
      "cell_type": "code",
      "source": "print(range(2, 8, 3))",
      "execution_count": 82,
      "outputs": [
        {
          "output_type": "stream",
          "text": "range(2, 8, 3)\n",
          "name": "stdout"
        }
      ]
    },
    {
      "metadata": {
        "slideshow": {
          "slide_type": "slide"
        }
      },
      "cell_type": "markdown",
      "source": "## List comprehensions\nConsider this example where we compute two lists in a *for* loop:"
    },
    {
      "metadata": {
        "slideshow": {
          "slide_type": "fragment"
        },
        "trusted": true
      },
      "cell_type": "code",
      "source": "n = 16\nCdegrees = [];  Fdegrees = []  # empty lists\nfor i in range(n):\n    Cdegrees.append(-5 + i*0.5)\n    Fdegrees.append((9.0/5)*Cdegrees[i] + 32)\nprint(\"Cdegrees = \", Cdegrees)\nprint(\"Fdegrees = \", Fdegrees)",
      "execution_count": 83,
      "outputs": [
        {
          "output_type": "stream",
          "text": "Cdegrees =  [-5.0, -4.5, -4.0, -3.5, -3.0, -2.5, -2.0, -1.5, -1.0, -0.5, 0.0, 0.5, 1.0, 1.5, 2.0, 2.5]\nFdegrees =  [23.0, 23.9, 24.8, 25.7, 26.6, 27.5, 28.4, 29.3, 30.2, 31.1, 32.0, 32.9, 33.8, 34.7, 35.6, 36.5]\n",
          "name": "stdout"
        }
      ]
    },
    {
      "metadata": {
        "slideshow": {
          "slide_type": "subslide"
        }
      },
      "cell_type": "markdown",
      "source": "As constructing lists is a very common requirement, the above way of doing it can become very tedious to both write and read. Therefore, Python has a compact construct, called list comprehension for generating lists from a *for* loop:"
    },
    {
      "metadata": {
        "slideshow": {
          "slide_type": "fragment"
        },
        "trusted": true
      },
      "cell_type": "code",
      "source": "n = 16\nCdegrees = [-5 + i*0.5 for i in range(n)]\nFdegrees = [(9.0/5)*C + 32 for C in Cdegrees]\nprint(\"Cdegrees = \", Cdegrees)\nprint(\"Fdegrees = \", Fdegrees)",
      "execution_count": 84,
      "outputs": [
        {
          "output_type": "stream",
          "text": "Cdegrees =  [-5.0, -4.5, -4.0, -3.5, -3.0, -2.5, -2.0, -1.5, -1.0, -0.5, 0.0, 0.5, 1.0, 1.5, 2.0, 2.5]\nFdegrees =  [23.0, 23.9, 24.8, 25.7, 26.6, 27.5, 28.4, 29.3, 30.2, 31.1, 32.0, 32.9, 33.8, 34.7, 35.6, 36.5]\n",
          "name": "stdout"
        }
      ]
    },
    {
      "metadata": {
        "slideshow": {
          "slide_type": "subslide"
        }
      },
      "cell_type": "markdown",
      "source": "The general form of a list comprehension is:\n```\nsomelist = [expression for element in somelist]\n```"
    },
    {
      "metadata": {
        "slideshow": {
          "slide_type": "slide"
        }
      },
      "cell_type": "markdown",
      "source": "## Exercise 1.14: Create a list of even numbers ranging from 0 to 100 using a for loop."
    },
    {
      "metadata": {
        "slideshow": {
          "slide_type": "subslide"
        },
        "trusted": true
      },
      "cell_type": "code",
      "source": "# Use the variable name 'even_list' for testing purposes.\nn = 102\neven_list = []\nfor i in range(n):\n    if i%2 == 0:\n        even_list.append(i)\nprint(\"The list of even numbers is\", even_list)\n    \n    \n",
      "execution_count": 85,
      "outputs": [
        {
          "output_type": "stream",
          "text": "The list of even numbers is [0, 2, 4, 6, 8, 10, 12, 14, 16, 18, 20, 22, 24, 26, 28, 30, 32, 34, 36, 38, 40, 42, 44, 46, 48, 50, 52, 54, 56, 58, 60, 62, 64, 66, 68, 70, 72, 74, 76, 78, 80, 82, 84, 86, 88, 90, 92, 94, 96, 98, 100]\n",
          "name": "stdout"
        }
      ]
    },
    {
      "metadata": {
        "trusted": true
      },
      "cell_type": "code",
      "source": "ok.grade('question-1_14')",
      "execution_count": 86,
      "outputs": [
        {
          "output_type": "stream",
          "text": "~~~~~~~~~~~~~~~~~~~~~~~~~~~~~~~~~~~~~~~~~~~~~~~~~~~~~~~~~~~~~~~~~~~~~\nRunning tests\n\n---------------------------------------------------------------------\nTest summary\n    Passed: 2\n    Failed: 0\n[ooooooooook] 100.0% passed\n\n",
          "name": "stdout"
        },
        {
          "output_type": "execute_result",
          "execution_count": 86,
          "data": {
            "text/plain": "{'failed': 0, 'locked': 0, 'passed': 2}"
          },
          "metadata": {}
        }
      ]
    },
    {
      "metadata": {},
      "cell_type": "markdown",
      "source": "## Exercise 1.15: Implement the sum function\n\nThe built-in Python function [sum](https://docs.python.org/3/library/functions.html#sum) takes a list as argument and computes the sum of the elements in the list:\n```\nsum([1,3,5,-5])\n\n4\n```\nImplement your own version of sum."
    },
    {
      "metadata": {
        "trusted": true
      },
      "cell_type": "code",
      "source": "# Uncomment and complete this code - keep the names the same for testing purposes. \n\ndef my_sum(x):\n    my_sum = 0\n    for i in range (len(x)):\n        my_sum +=x[i]\n    return my_sum\nprint (my_sum([1,3,5,-5]))    ",
      "execution_count": 87,
      "outputs": [
        {
          "output_type": "stream",
          "text": "4\n",
          "name": "stdout"
        }
      ]
    },
    {
      "metadata": {
        "trusted": true
      },
      "cell_type": "code",
      "source": "ok.grade('question-1_15')",
      "execution_count": 88,
      "outputs": [
        {
          "output_type": "stream",
          "text": "~~~~~~~~~~~~~~~~~~~~~~~~~~~~~~~~~~~~~~~~~~~~~~~~~~~~~~~~~~~~~~~~~~~~~\nRunning tests\n\n---------------------------------------------------------------------\nTest summary\n    Passed: 3\n    Failed: 0\n[ooooooooook] 100.0% passed\n\n",
          "name": "stdout"
        },
        {
          "output_type": "execute_result",
          "execution_count": 88,
          "data": {
            "text/plain": "{'failed': 0, 'locked': 0, 'passed': 3}"
          },
          "metadata": {}
        }
      ]
    },
    {
      "metadata": {},
      "cell_type": "markdown",
      "source": "## Exercise 1.16: Function that returns a list.\n\nWrite a function that creates a `list`, $t$ with `num` values ranging from `t_start` to `t_end` and returns the `list` of $y$ values calculated using the formula:\n$$y(t) = v_0t − gt^2.$$\nSpecify the keyword arguments $v0=6.0$ and $g=9.81$."
    },
    {
      "metadata": {
        "trusted": true
      },
      "cell_type": "code",
      "source": "# Uncomment and complete this code - keep the names the same for testing purposes. \ndef distance(t_start, t_end, num, v0=6.0, g=9.81):\n    d = (t_end - t_start)/(num-1)\n    t = [t_start]\n    term = t_start\n    y = []\n    n = 1\n    i = 0\n    while n < num:\n        term = t_start + n*d\n        t.append(term)\n        n+=1\n    for i in range(len(t)):\n        y.append(v0*t[i] - g * (t[i]**2))\n        i+=1\n    return y\nprint(distance(0.1,0.6,6))    \n        \n        ",
      "execution_count": 89,
      "outputs": [
        {
          "output_type": "stream",
          "text": "[0.5019, 0.8076000000000001, 0.9171, 0.8304, 0.5474999999999999, 0.06839999999999957]\n",
          "name": "stdout"
        }
      ]
    },
    {
      "metadata": {
        "trusted": true
      },
      "cell_type": "code",
      "source": "ok.grade('question-1_16')",
      "execution_count": 90,
      "outputs": [
        {
          "output_type": "stream",
          "text": "~~~~~~~~~~~~~~~~~~~~~~~~~~~~~~~~~~~~~~~~~~~~~~~~~~~~~~~~~~~~~~~~~~~~~\nRunning tests\n\n---------------------------------------------------------------------\nquestion 1.16 > Suite 2 > Case 2\n\nimport numpy as np\n>>> np.allclose(distance(1, 6, 5, 3),[-6.8100000000000005, -8.570100000000002, -10.5264, -12.6789, -15.0276])\nFalse\n\n# Error: expected\n#     True\n# but got\n#     False\n\nRun only this test case with \"python3 ok -q question-1_16 --suite 2 --case 2\"\n---------------------------------------------------------------------\nTest summary\n    Passed: 2\n    Failed: 1\n[ooooook....] 66.7% passed\n\n",
          "name": "stdout"
        },
        {
          "output_type": "execute_result",
          "execution_count": 90,
          "data": {
            "text/plain": "{'failed': 1, 'locked': 0, 'passed': 2}"
          },
          "metadata": {}
        }
      ]
    },
    {
      "metadata": {},
      "cell_type": "markdown",
      "source": "## Exercise 1.17: Cumulative sum\n\nWrite a function that returns the cumulative sum of the numbers in a list. The function should return a list, whose `i`th element is the sum of the input list up to and including the `i`th element.\n\nFor example, for the list `[1, 4, 2, 5, 3]` should return `[1, 5, 7, 12, 15]`."
    },
    {
      "metadata": {
        "trusted": true
      },
      "cell_type": "code",
      "source": "# Uncomment and complete this code - keep the names the same for testing purposes. \n\ndef my_cumsum(l):\n    my_cumsum = []\n    b = 0\n    for i in range (len(l)):\n        b +=l[i]\n        my_cumsum.append(b)\n    return my_cumsum\nprint(my_cumsum([1, 4, 2, 5, 3]))\n",
      "execution_count": 91,
      "outputs": [
        {
          "output_type": "stream",
          "text": "[1, 5, 7, 12, 15]\n",
          "name": "stdout"
        }
      ]
    },
    {
      "metadata": {
        "trusted": true
      },
      "cell_type": "code",
      "source": "ok.grade('question-1_17')",
      "execution_count": 92,
      "outputs": [
        {
          "output_type": "stream",
          "text": "~~~~~~~~~~~~~~~~~~~~~~~~~~~~~~~~~~~~~~~~~~~~~~~~~~~~~~~~~~~~~~~~~~~~~\nRunning tests\n\n---------------------------------------------------------------------\nTest summary\n    Passed: 2\n    Failed: 0\n[ooooooooook] 100.0% passed\n\n",
          "name": "stdout"
        },
        {
          "output_type": "execute_result",
          "execution_count": 92,
          "data": {
            "text/plain": "{'failed': 0, 'locked': 0, 'passed': 2}"
          },
          "metadata": {}
        }
      ]
    },
    {
      "metadata": {},
      "cell_type": "markdown",
      "source": "## Exercise 1.18: Bouncing ball\n\nA rubber ball is dropped from a height `h_0`. After each bounce, the height it rebounds to decreases by 10%; i.e. after one bounce it reaches `0.9*h_0`, after two bounces it reaches `0.9*0.9*h_0`, etc.\n\nWrite a function that returns a list of the maximum heights of the ball after each bounce (including after 0 bounces, i.e. its initial height), until either the ball has bounced `n` times *or* its maximum height falls below `h_1`. The function should take `h_0`, `h_1` and `n` as keyword arguments, with default values of 1.0, 0.3 and 10 respectively."
    },
    {
      "metadata": {
        "trusted": true
      },
      "cell_type": "code",
      "source": "# Uncomment and complete this code - keep the names the same for testing purposes. \n\ndef compute_heights(h_0=1.0, h_1=0.3, n=10):\n    b = 1\n    a = 0\n    c = []\n    d = 1.0\n    while a <= n and d>h_1:\n        d = b*h_0\n        c.append(d)\n        b=b*0.9\n        a=a+1\n    return c\nprint(compute_heights())",
      "execution_count": 93,
      "outputs": [
        {
          "output_type": "stream",
          "text": "[1.0, 0.9, 0.81, 0.7290000000000001, 0.6561000000000001, 0.5904900000000002, 0.5314410000000002, 0.47829690000000014, 0.43046721000000016, 0.38742048900000015, 0.34867844010000015]\n",
          "name": "stdout"
        }
      ]
    },
    {
      "metadata": {
        "trusted": true
      },
      "cell_type": "code",
      "source": "compute_heights(h_0=0.5)",
      "execution_count": 94,
      "outputs": [
        {
          "output_type": "execute_result",
          "execution_count": 94,
          "data": {
            "text/plain": "[0.5,\n 0.45,\n 0.405,\n 0.36450000000000005,\n 0.32805000000000006,\n 0.2952450000000001]"
          },
          "metadata": {}
        }
      ]
    },
    {
      "metadata": {
        "trusted": true
      },
      "cell_type": "code",
      "source": "ok.grade('question-1_18')",
      "execution_count": 95,
      "outputs": [
        {
          "output_type": "stream",
          "text": "~~~~~~~~~~~~~~~~~~~~~~~~~~~~~~~~~~~~~~~~~~~~~~~~~~~~~~~~~~~~~~~~~~~~~\nRunning tests\n\n---------------------------------------------------------------------\nTest summary\n    Passed: 4\n    Failed: 0\n[ooooooooook] 100.0% passed\n\n",
          "name": "stdout"
        },
        {
          "output_type": "execute_result",
          "execution_count": 95,
          "data": {
            "text/plain": "{'failed': 0, 'locked': 0, 'passed': 4}"
          },
          "metadata": {}
        }
      ]
    },
    {
      "metadata": {},
      "cell_type": "markdown",
      "source": "## Exercise 1.19: Calculate Pi\n\nA formula for $\\pi$ is given by the Gregory-Leibniz series:\n\n$$\\pi = 4 \\left(\\frac{1}{1} - \\frac{1}{3} + \\frac{1}{5} - \\frac{1}{7} + \\frac{1}{9} + ...  \\right)$$\n\nNote that the denominators of the terms in this series are the positive odd numbers. Follow the guidelines below to calculate $\\pi$; each of the first three steps can be completed using a single list comprehension.\n\nStep 1:\n\nModify your answer to Exercise 1.14 to produce a list of the first `n` odd numbers, for `n=100`.\n\nStep 2:\n\nMake a list of the signs of each term, i.e. `[1, -1, 1, -1, ...]`. Store the result in a list named `signs`. Hint: think about the value of $(-1)^i$ for integer $i$.\n\nStep 3:\n\nUsing the results of steps 1 and 2, make a list of the first `n` terms in the above series, and store in a variable named `series_terms`.\n\nStep 4:\n\nUse your `my_sum` function from the previous exercise to sum this series, and multiply by 4. Store this value in a variable named `my_pi`."
    },
    {
      "metadata": {
        "trusted": true
      },
      "cell_type": "code",
      "source": "# Uncomment and complete this code - keep the names the same for testing purposes. \nn = 100000\nsigns=[]\nodd_integers = []\nseries_terms = []\nmy_sum = 0\nb = 0\nfor i in range(n):\n    if i%2 != 0:\n        odd_integers.append(i)\n#print(odd_integers)\na = 0\nwhile a<(n/2):\n    signs.append((-1)**a)\n    a += 1\n#print (signs)\nfor b in range(len(signs)):\n    series_terms.append(signs[b]/odd_integers[b])\n    b +=1\n#print(series_terms)\nfor i in range(len(series_terms)):\n    my_sum += series_terms[i]\nmy_pi = 4 * my_sum   \nprint(my_pi)\n\n    \n\n\n#signs = [...]\n\n#series_terms = [...]\n\n#my_pi = ...\n\n#print(my_pi)",
      "execution_count": 96,
      "outputs": [
        {
          "output_type": "stream",
          "text": "3.1415726535897814\n",
          "name": "stdout"
        }
      ]
    },
    {
      "metadata": {
        "trusted": true
      },
      "cell_type": "code",
      "source": "ok.grade('question-1_19')",
      "execution_count": 97,
      "outputs": [
        {
          "output_type": "stream",
          "text": "~~~~~~~~~~~~~~~~~~~~~~~~~~~~~~~~~~~~~~~~~~~~~~~~~~~~~~~~~~~~~~~~~~~~~\nRunning tests\n\n---------------------------------------------------------------------\nTest summary\n    Passed: 1\n    Failed: 0\n[ooooooooook] 100.0% passed\n\n",
          "name": "stdout"
        },
        {
          "output_type": "execute_result",
          "execution_count": 97,
          "data": {
            "text/plain": "{'failed': 0, 'locked': 0, 'passed': 1}"
          },
          "metadata": {}
        }
      ]
    },
    {
      "metadata": {
        "trusted": true
      },
      "cell_type": "markdown",
      "source": "#### ok.score()"
    },
    {
      "metadata": {
        "trusted": true
      },
      "cell_type": "code",
      "source": "",
      "execution_count": null,
      "outputs": []
    }
  ],
  "metadata": {
    "celltoolbar": "Slideshow",
    "kernelspec": {
      "name": "python3",
      "display_name": "Python 3",
      "language": "python"
    },
    "language_info": {
      "mimetype": "text/x-python",
      "nbconvert_exporter": "python",
      "name": "python",
      "pygments_lexer": "ipython3",
      "version": "3.5.4",
      "file_extension": ".py",
      "codemirror_mode": {
        "version": 3,
        "name": "ipython"
      }
    }
  },
  "nbformat": 4,
  "nbformat_minor": 1
}