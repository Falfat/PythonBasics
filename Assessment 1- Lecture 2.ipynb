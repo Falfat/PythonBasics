{
  "cells": [
    {
      "metadata": {
        "trusted": true
      },
      "cell_type": "code",
      "source": "!pip3 install --user okpy\n\nfrom lecture import *",
      "execution_count": 83,
      "outputs": [
        {
          "output_type": "stream",
          "text": "Requirement already satisfied: okpy in /home/nbuser/.local/lib/python3.5/site-packages (1.13.11)\nRequirement already satisfied: coverage==3.7.1 in /home/nbuser/.local/lib/python3.5/site-packages (from okpy) (3.7.1)\nRequirement already satisfied: requests==2.12.4 in /home/nbuser/.local/lib/python3.5/site-packages (from okpy) (2.12.4)\n\u001b[33mYou are using pip version 18.0, however version 18.1 is available.\nYou should consider upgrading via the 'pip install --upgrade pip' command.\u001b[0m\n",
          "name": "stdout"
        }
      ]
    },
    {
      "metadata": {
        "nbpresent": {
          "id": "82db8e87-ce21-4456-a53a-3f54a2fee020"
        },
        "slideshow": {
          "slide_type": "slide"
        }
      },
      "cell_type": "markdown",
      "source": "# Introduction to programming in Python\n\n# Lecture 2"
    },
    {
      "metadata": {
        "nbpresent": {
          "id": "c9ae4148-a67c-4845-91ec-d17016071d1f"
        },
        "slideshow": {
          "slide_type": "slide"
        }
      },
      "cell_type": "markdown",
      "source": "Learning objectives:\n\n* Know how to modify elements in a list.\n* Be able iterate through different combinations of lists.\n* Know how to use a *tuple* to store data elements and understand how it differs from a *list*.\n* Know the difference between a locally-scoped and globally-scoped variables.\n* Be able to use an *if* statement to execute some code blocks conditionally.\n* Learn how to compute using [Numerical Python (*NumPy*)](http://www.numpy.org/).\n* Know how to handle multidimensional arrays."
    },
    {
      "metadata": {
        "nbpresent": {
          "id": "f2af93fa-2e4b-46f7-b762-cf6df11749f8"
        },
        "slideshow": {
          "slide_type": "slide"
        }
      },
      "cell_type": "markdown",
      "source": "# Changing elements in a list\nSay we want to add $2$ to all the numbers in a list:"
    },
    {
      "metadata": {
        "nbpresent": {
          "id": "4f4e8e71-aebe-4191-9f6f-f456945d3e9f"
        },
        "slideshow": {
          "slide_type": "fragment"
        },
        "trusted": true
      },
      "cell_type": "code",
      "source": "v = [-1, 1, 10]\nfor e in v:\n    e=e+2\nprint(v)",
      "execution_count": 38,
      "outputs": [
        {
          "output_type": "stream",
          "text": "[-1, 1, 10]\n",
          "name": "stdout"
        }
      ]
    },
    {
      "metadata": {
        "nbpresent": {
          "id": "1e66489c-88c3-4112-b9d1-37eb8b1970a3"
        },
        "slideshow": {
          "slide_type": "subslide"
        }
      },
      "cell_type": "markdown",
      "source": "We can see that the list *v* is unaltered! The reason for this is that inside the loop, *e* is an ordinary (int) variable. At the start of the iteration *e* is assigned a *copy* of the next element in the list. Inside the loop we can change *e* but *v* itself is unaltered. If we want to change *v* we have to use an index to access and modify its elements:"
    },
    {
      "metadata": {
        "nbpresent": {
          "id": "06618fed-61ff-443d-b1f2-0777a4719338"
        },
        "slideshow": {
          "slide_type": "fragment"
        },
        "trusted": true
      },
      "cell_type": "code",
      "source": "v[1] = 4 # assign 4 to 2nd element (index 1) in v\nprint(v)",
      "execution_count": 39,
      "outputs": [
        {
          "output_type": "stream",
          "text": "[-1, 4, 10]\n",
          "name": "stdout"
        }
      ]
    },
    {
      "metadata": {
        "nbpresent": {
          "id": "7ede01a3-9bb3-4a8a-9aa0-a31f76e8b424"
        },
        "slideshow": {
          "slide_type": "subslide"
        }
      },
      "cell_type": "markdown",
      "source": "To add 2 to all values we need a *for* loop over indices:"
    },
    {
      "metadata": {
        "nbpresent": {
          "id": "0358d409-1512-43e9-a94b-147ca8d61701"
        },
        "slideshow": {
          "slide_type": "fragment"
        },
        "trusted": true
      },
      "cell_type": "code",
      "source": "for i in range(len(v)):\n    v[i] = v[i] + 2\nprint(v)",
      "execution_count": 40,
      "outputs": [
        {
          "output_type": "stream",
          "text": "[1, 6, 12]\n",
          "name": "stdout"
        }
      ]
    },
    {
      "metadata": {
        "nbpresent": {
          "id": "e6d3aa98-dde7-4c7e-ae3d-a077d553fb3d"
        }
      },
      "cell_type": "markdown",
      "source": "## Exercise 2.1: Create a list and modify it.\n* Create a list of all integers in the range -10 to 10 (call the list *vector* for testing purposes).\n* Write a loop to multiple each element of the list by 2."
    },
    {
      "metadata": {
        "nbpresent": {
          "id": "8183a872-d8d8-4a55-a14e-fd98afa3ecfc"
        },
        "trusted": true
      },
      "cell_type": "code",
      "source": "a = -11\nvector = []\nwhile a <= 9:\n    a +=1\n    vector.append(a)\nfor i in range(len(vector)):\n    vector[i] = 2 * vector[i]\nprint(vector)",
      "execution_count": 41,
      "outputs": [
        {
          "output_type": "stream",
          "text": "[-20, -18, -16, -14, -12, -10, -8, -6, -4, -2, 0, 2, 4, 6, 8, 10, 12, 14, 16, 18, 20]\n",
          "name": "stdout"
        }
      ]
    },
    {
      "metadata": {
        "nbpresent": {
          "id": "1d0a4d7c-b292-486a-b84e-61c3a65b5c4e"
        },
        "trusted": true
      },
      "cell_type": "code",
      "source": "ok.grade('question-2_1')",
      "execution_count": 42,
      "outputs": [
        {
          "output_type": "stream",
          "text": "~~~~~~~~~~~~~~~~~~~~~~~~~~~~~~~~~~~~~~~~~~~~~~~~~~~~~~~~~~~~~~~~~~~~~\nRunning tests\n\n---------------------------------------------------------------------\nTest summary\n    Passed: 2\n    Failed: 0\n[ooooooooook] 100.0% passed\n\n",
          "name": "stdout"
        },
        {
          "output_type": "execute_result",
          "execution_count": 42,
          "data": {
            "text/plain": "{'failed': 0, 'locked': 0, 'passed': 2}"
          },
          "metadata": {}
        }
      ]
    },
    {
      "metadata": {
        "nbpresent": {
          "id": "19cc8075-dfee-473f-912e-ec504dcde2f0"
        },
        "slideshow": {
          "slide_type": "slide"
        }
      },
      "cell_type": "markdown",
      "source": "## Traversing multiple lists simultaneously - *zip(list1, list2, ...)*\nConsider how we can loop over elements in both Cdegrees and Fdegrees at the same time. One approach would be to use list indices:"
    },
    {
      "metadata": {
        "nbpresent": {
          "id": "6c699b8c-adcb-4a73-a1fa-b3c9bd61e2d6"
        },
        "slideshow": {
          "slide_type": "fragment"
        },
        "trusted": true
      },
      "cell_type": "code",
      "source": "# First we have to recreate the data from the previous lecture\nCdegrees = [deg for deg in range(-20, 41, 5)]\nFdegrees = [(9/5)*deg + 32 for deg in Cdegrees]\n\nfor i in range(len(Cdegrees)):\n    print(Cdegrees[i], Fdegrees[i])",
      "execution_count": 43,
      "outputs": [
        {
          "output_type": "stream",
          "text": "-20 -4.0\n-15 5.0\n-10 14.0\n-5 23.0\n0 32.0\n5 41.0\n10 50.0\n15 59.0\n20 68.0\n25 77.0\n30 86.0\n35 95.0\n40 104.0\n",
          "name": "stdout"
        }
      ]
    },
    {
      "metadata": {
        "nbpresent": {
          "id": "f3a61755-9040-4250-bddf-09ba66d940ad"
        },
        "slideshow": {
          "slide_type": "subslide"
        }
      },
      "cell_type": "markdown",
      "source": "An alternative construct (regarded as more ”Pythonic”) uses the *zip* function:"
    },
    {
      "metadata": {
        "nbpresent": {
          "id": "a3b3c9c8-b797-4bcb-8af0-301a0c2e81c1"
        },
        "slideshow": {
          "slide_type": "fragment"
        },
        "trusted": true
      },
      "cell_type": "code",
      "source": "for C, F in zip(Cdegrees, Fdegrees):\n    print(C, F)",
      "execution_count": 44,
      "outputs": [
        {
          "output_type": "stream",
          "text": "-20 -4.0\n-15 5.0\n-10 14.0\n-5 23.0\n0 32.0\n5 41.0\n10 50.0\n15 59.0\n20 68.0\n25 77.0\n30 86.0\n35 95.0\n40 104.0\n",
          "name": "stdout"
        }
      ]
    },
    {
      "metadata": {
        "nbpresent": {
          "id": "c38f5999-bdd5-4eba-b8b7-036d6883f1ff"
        },
        "slideshow": {
          "slide_type": "subslide"
        }
      },
      "cell_type": "markdown",
      "source": "Another example with three lists:"
    },
    {
      "metadata": {
        "nbpresent": {
          "id": "dfad409b-2ca3-4c4c-9578-4a3dfb1f1949"
        },
        "slideshow": {
          "slide_type": "fragment"
        },
        "trusted": true
      },
      "cell_type": "code",
      "source": "l1 = [3, 6, 1]; l2 = [1.5, 1, 0]; l3 = [9.1, 3, 2]\nfor e1, e2, e3 in zip(l1, l2, l3):\n    print(e1, e2, e3)",
      "execution_count": 45,
      "outputs": [
        {
          "output_type": "stream",
          "text": "3 1.5 9.1\n6 1 3\n1 0 2\n",
          "name": "stdout"
        }
      ]
    },
    {
      "metadata": {
        "nbpresent": {
          "id": "87213cfd-ba47-4fab-88e8-917cd5c5f183"
        },
        "slideshow": {
          "slide_type": "subslide"
        }
      },
      "cell_type": "markdown",
      "source": "If the lists are of unequal length then the loop stops when the end of the shortest list is reached. Experiment with this:"
    },
    {
      "metadata": {
        "nbpresent": {
          "id": "720d5ba3-4001-4abe-8956-a125c1f35845"
        },
        "slideshow": {
          "slide_type": "fragment"
        },
        "trusted": true
      },
      "cell_type": "code",
      "source": "l1 = [3, 6, 1, 4, 6]; l2 = [1.5, 1, 0, 7]; l3 = [9.1, 3, 2, 0, 9]\nfor e1, e2, e3 in zip(l1, l2, l3):\n    print(e1, e2, e3)",
      "execution_count": 46,
      "outputs": [
        {
          "output_type": "stream",
          "text": "3 1.5 9.1\n6 1 3\n1 0 2\n4 7 0\n",
          "name": "stdout"
        }
      ]
    },
    {
      "metadata": {
        "nbpresent": {
          "id": "8ab146b4-7ec7-45b3-88a4-49860f5b6cc6"
        },
        "slideshow": {
          "slide_type": "slide"
        }
      },
      "cell_type": "markdown",
      "source": "## Nested lists: list of lists\nA *list* can contain **any** object, including another *list*. To illustrate this, consider how to store the conversion table as a single Python list rather than two separate lists."
    },
    {
      "metadata": {
        "nbpresent": {
          "id": "a6fcd4d1-9f61-4b3b-8ec3-12843952ec20"
        },
        "slideshow": {
          "slide_type": "fragment"
        },
        "trusted": true
      },
      "cell_type": "code",
      "source": "Cdegrees = range(-20, 41, 5)\nFdegrees = [(9.0/5)*C + 32 for C in Cdegrees]\ntable1 = [Cdegrees, Fdegrees]  # List of two lists\nprint(\"table1 = \", table1)\nprint(\"table1[0] = \", table1[0])\nprint(\"table1[1] = \", table1[1])\nprint(\"table1[1][3] = \", table1[1][3])",
      "execution_count": 47,
      "outputs": [
        {
          "output_type": "stream",
          "text": "table1 =  [range(-20, 41, 5), [-4.0, 5.0, 14.0, 23.0, 32.0, 41.0, 50.0, 59.0, 68.0, 77.0, 86.0, 95.0, 104.0]]\ntable1[0] =  range(-20, 41, 5)\ntable1[1] =  [-4.0, 5.0, 14.0, 23.0, 32.0, 41.0, 50.0, 59.0, 68.0, 77.0, 86.0, 95.0, 104.0]\ntable1[1][3] =  23.0\n",
          "name": "stdout"
        }
      ]
    },
    {
      "metadata": {
        "nbpresent": {
          "id": "89a35110-151d-4836-8dde-76da53991134"
        },
        "slideshow": {
          "slide_type": "subslide"
        }
      },
      "cell_type": "markdown",
      "source": "This gives us a table of two rows. How do we create a table of columns instead:"
    },
    {
      "metadata": {
        "nbpresent": {
          "id": "950a8775-cf1b-4b7b-a571-b79406b0f1e5"
        },
        "slideshow": {
          "slide_type": "fragment"
        },
        "trusted": true
      },
      "cell_type": "code",
      "source": "table2 = []\nfor C, F in zip(Cdegrees, Fdegrees):\n    row = [C, F]\n    table2.append(row)\nprint(table2)",
      "execution_count": 48,
      "outputs": [
        {
          "output_type": "stream",
          "text": "[[-20, -4.0], [-15, 5.0], [-10, 14.0], [-5, 23.0], [0, 32.0], [5, 41.0], [10, 50.0], [15, 59.0], [20, 68.0], [25, 77.0], [30, 86.0], [35, 95.0], [40, 104.0]]\n",
          "name": "stdout"
        }
      ]
    },
    {
      "metadata": {
        "nbpresent": {
          "id": "51044f5c-75c9-4bdc-be04-0c8953317416"
        },
        "slideshow": {
          "slide_type": "subslide"
        }
      },
      "cell_type": "markdown",
      "source": "We can use list comprehension to do this more elegantly:"
    },
    {
      "metadata": {
        "nbpresent": {
          "id": "c747c897-af59-46a2-b52f-de9dcd1b7762"
        },
        "slideshow": {
          "slide_type": "fragment"
        },
        "trusted": true
      },
      "cell_type": "code",
      "source": "table2 = [[C, F] for C, F in zip(Cdegrees, Fdegrees)]\nprint(table2)",
      "execution_count": 49,
      "outputs": [
        {
          "output_type": "stream",
          "text": "[[-20, -4.0], [-15, 5.0], [-10, 14.0], [-5, 23.0], [0, 32.0], [5, 41.0], [10, 50.0], [15, 59.0], [20, 68.0], [25, 77.0], [30, 86.0], [35, 95.0], [40, 104.0]]\n",
          "name": "stdout"
        }
      ]
    },
    {
      "metadata": {
        "nbpresent": {
          "id": "b7dd1233-53f8-43ed-ba94-fbca4f4def19"
        },
        "slideshow": {
          "slide_type": "subslide"
        }
      },
      "cell_type": "markdown",
      "source": "And you can loop through this list as before:"
    },
    {
      "metadata": {
        "nbpresent": {
          "id": "3eeeb7bf-67f7-49bc-88a3-11ccff9a3a6d"
        },
        "slideshow": {
          "slide_type": "fragment"
        },
        "trusted": true
      },
      "cell_type": "code",
      "source": "for C,F in table2:\n    print(C,F)",
      "execution_count": 50,
      "outputs": [
        {
          "output_type": "stream",
          "text": "-20 -4.0\n-15 5.0\n-10 14.0\n-5 23.0\n0 32.0\n5 41.0\n10 50.0\n15 59.0\n20 68.0\n25 77.0\n30 86.0\n35 95.0\n40 104.0\n",
          "name": "stdout"
        }
      ]
    },
    {
      "metadata": {
        "nbpresent": {
          "id": "0fc837cc-fdec-435c-8ccf-a22a7a743a0d"
        },
        "slideshow": {
          "slide_type": "slide"
        }
      },
      "cell_type": "markdown",
      "source": "## Tuples: lists that cannot be changed\nTuples are **constant** lists, i.e. you can use them in much the same way as lists except you cannot modify them. They are an example of an [**immutable**](http://en.wikipedia.org/wiki/Immutable_object) type."
    },
    {
      "metadata": {
        "nbpresent": {
          "id": "0095674c-61c3-4972-a8dd-47a223010482"
        },
        "slideshow": {
          "slide_type": "fragment"
        },
        "trusted": true
      },
      "cell_type": "code",
      "source": "t = (2, 4, 6, 'temp.pdf')               # Define a tuple.\nt =  2, 4, 6, 'temp.pdf'                # Can skip parenthesis as it is assumed in this context.",
      "execution_count": 51,
      "outputs": []
    },
    {
      "metadata": {
        "nbpresent": {
          "id": "032624f9-fdc9-488f-881c-9a1329ca393c"
        },
        "slideshow": {
          "slide_type": "subslide"
        }
      },
      "cell_type": "markdown",
      "source": "Let's see what happens when we try to modify the tuple like we did with a list:"
    },
    {
      "metadata": {
        "nbpresent": {
          "id": "56f3d86e-714a-4475-8540-605cf08aadcd"
        },
        "slideshow": {
          "slide_type": "fragment"
        }
      },
      "cell_type": "markdown",
      "source": "```python\nt[1] = -1\n\n---------------------------------------------------------------------------\nTypeError                                 Traceback (most recent call last)\n<ipython-input-3-593c03edf054> in <module>()\n----> 1 t[1] = -1\n\nTypeError: 'tuple' object does not support item assignment```"
    },
    {
      "metadata": {
        "nbpresent": {
          "id": "dfdb2267-7c95-466a-8bc4-9ebddd4bfd23"
        },
        "slideshow": {
          "slide_type": "subslide"
        }
      },
      "cell_type": "markdown",
      "source": "```python\nt.append(0)\n\n---------------------------------------------------------------------------\nAttributeError                            Traceback (most recent call last)\n<ipython-input-19-78592bf72d62> in <module>()\n----> 1 t.append(0)\n\nAttributeError: 'tuple' object has no attribute 'append'```"
    },
    {
      "metadata": {
        "nbpresent": {
          "id": "58223f11-d1d1-4857-850b-8d0749d15fc9"
        },
        "slideshow": {
          "slide_type": "subslide"
        }
      },
      "cell_type": "markdown",
      "source": "```python\ndel t[1]\n\n---------------------------------------------------------------------------\nTypeError                                 Traceback (most recent call last)\n<ipython-input-20-0193a527a912> in <module>()\n----> 1 del t[1]\n\nTypeError: 'tuple' object doesn't support item deletion```"
    },
    {
      "metadata": {
        "nbpresent": {
          "id": "6786d3d8-b078-416b-9ea0-4da6945520bd"
        },
        "slideshow": {
          "slide_type": "subslide"
        }
      },
      "cell_type": "markdown",
      "source": "However, we can use the tuple to compose a new tuple:"
    },
    {
      "metadata": {
        "nbpresent": {
          "id": "a1b2cfa3-a234-4439-bd21-d717ff867609"
        },
        "slideshow": {
          "slide_type": "fragment"
        },
        "trusted": true
      },
      "cell_type": "code",
      "source": "t = t + (-1.0, -2.0)\nprint(t)",
      "execution_count": 52,
      "outputs": [
        {
          "output_type": "stream",
          "text": "(2, 4, 6, 'temp.pdf', -1.0, -2.0)\n",
          "name": "stdout"
        }
      ]
    },
    {
      "metadata": {
        "trusted": true
      },
      "cell_type": "code",
      "source": "a=[1,2,4];b=[2,4,5,6]\nc=[a,b]\nprint(c)\n",
      "execution_count": 53,
      "outputs": [
        {
          "output_type": "stream",
          "text": "[[1, 2, 4], [2, 4, 5, 6]]\n",
          "name": "stdout"
        }
      ]
    },
    {
      "metadata": {
        "nbpresent": {
          "id": "fde43ef7-d6f0-4e00-93c6-0d1df9df3854"
        },
        "slideshow": {
          "slide_type": "subslide"
        }
      },
      "cell_type": "markdown",
      "source": "So, why would we use tuples when lists have more functionality?\n\n* Tuples are constant and thus protected against accidental changes.\n* Tuples are faster than lists.\n* Tuples are widely used in Python software (so you need to know about tuples to understand other people's code!)\n* Tuples (but not lists) can be used as keys in dictionaries (more about dictionaries later)."
    },
    {
      "metadata": {
        "nbpresent": {
          "id": "490e889a-3913-458b-8370-2fb16070b37d"
        },
        "slideshow": {
          "slide_type": "slide"
        }
      },
      "cell_type": "markdown",
      "source": "## Exercise 2.2: Make a table (a list of lists) of function values\n* Write a loop that evaluates the expression $y(t) = v_0 t − 0.5gt^2$ for 11 evenly spaced values ranging from 0, to $2v_0/g$ (remember that dividing a range into n intervals results in n+1 values!) You can assume that $v_0 = 1$, $g=9.81 ms^{-2}$.\n* Store the time values and displacement ($y$) values as a nested list, i.e.\n```python\ntlist = [t0, t1, t2, ...]\nylist = [y0, y1, y2, ...]\ndisplacement = [tlist, ylist]\n```\n* Use the variable names tlist, ylist and displacement as illustrated above example for testing purposes."
    },
    {
      "metadata": {
        "nbpresent": {
          "id": "270a3317-0720-4cb3-8a81-083445ec3330"
        },
        "slideshow": {
          "slide_type": "subslide"
        },
        "trusted": true
      },
      "cell_type": "code",
      "source": "v0=1;g=9.81;a=0;num=11;n=0;tlist=[0];ylist=[]\nwhile n<(2*v0/g):\n    d = ((2*v0/g)+a)/(num-1)\n    n = n+d\n    tlist.append(n)\nfor i in range(len(tlist)):\n    ylist.append(v0*tlist[i]-0.5*g*(tlist[i])**2)\ndisplacement=[tlist,ylist]\nprint(displacement)\n    ",
      "execution_count": 54,
      "outputs": [
        {
          "output_type": "stream",
          "text": "[[0, 0.02038735983690112, 0.04077471967380224, 0.061162079510703356, 0.08154943934760447, 0.1019367991845056, 0.12232415902140673, 0.14271151885830785, 0.16309887869520898, 0.1834862385321101, 0.20387359836901123], [0.0, 0.018348623853211007, 0.03261977573904179, 0.04281345565749235, 0.04892966360856269, 0.0509683995922528, 0.048929663608562685, 0.04281345565749235, 0.03261977573904179, 0.018348623853210982, -2.7755575615628914e-17]]\n",
          "name": "stdout"
        }
      ]
    },
    {
      "metadata": {
        "nbpresent": {
          "id": "4a1ad97a-50a1-4a52-83ea-a240da7bce2c"
        },
        "trusted": true
      },
      "cell_type": "code",
      "source": "ok.grade('question-2_2')",
      "execution_count": 55,
      "outputs": [
        {
          "output_type": "stream",
          "text": "~~~~~~~~~~~~~~~~~~~~~~~~~~~~~~~~~~~~~~~~~~~~~~~~~~~~~~~~~~~~~~~~~~~~~\nRunning tests\n\n---------------------------------------------------------------------\nTest summary\n    Passed: 9\n    Failed: 0\n[ooooooooook] 100.0% passed\n\n",
          "name": "stdout"
        },
        {
          "output_type": "execute_result",
          "execution_count": 55,
          "data": {
            "text/plain": "{'failed': 0, 'locked': 0, 'passed': 9}"
          },
          "metadata": {}
        }
      ]
    },
    {
      "metadata": {
        "nbpresent": {
          "id": "e5c7ed02-153d-409a-a595-93528696a35e"
        },
        "slideshow": {
          "slide_type": "slide"
        }
      },
      "cell_type": "markdown",
      "source": "## The *if* construct\nConsider this simple example:"
    },
    {
      "metadata": {
        "nbpresent": {
          "id": "b3ce7c44-884a-4602-94b1-e647ddf5ac88"
        },
        "slideshow": {
          "slide_type": "fragment"
        },
        "trusted": true
      },
      "cell_type": "code",
      "source": "from math import sin, pi\n\ndef f(x):\n    if 0 <= x <= pi:\n        return sin(x)\n    else:\n        return 0\nprint(f(-pi/2), f(pi/2), f(3*pi/2))",
      "execution_count": 56,
      "outputs": [
        {
          "output_type": "stream",
          "text": "0 1.0 0\n",
          "name": "stdout"
        }
      ]
    },
    {
      "metadata": {
        "nbpresent": {
          "id": "3abe0d4c-8b40-4710-8198-c60707fe67a5"
        },
        "slideshow": {
          "slide_type": "subslide"
        }
      },
      "cell_type": "markdown",
      "source": "Sometimes it is clearer to write this as an *inline* statement:"
    },
    {
      "metadata": {
        "nbpresent": {
          "id": "1f47e475-25a2-4a5b-89dd-7f66d2f4b30f"
        },
        "slideshow": {
          "slide_type": "fragment"
        },
        "trusted": true
      },
      "cell_type": "code",
      "source": "from math import pi, sin\ndef f(x):\n    return (sin(x) if 0 <= x <= pi else 0)\nprint(f(-pi/2), f(pi/2), f(3*pi/2))",
      "execution_count": 57,
      "outputs": [
        {
          "output_type": "stream",
          "text": "0 1.0 0\n",
          "name": "stdout"
        }
      ]
    },
    {
      "metadata": {
        "nbpresent": {
          "id": "8f2b5db4-b6d4-460e-a902-a8cbc99fef87"
        },
        "slideshow": {
          "slide_type": "subslide"
        }
      },
      "cell_type": "markdown",
      "source": "In general (the *else* block can be skipped if there are no statements to be executed when False) we can put together multiple conditions. Only the first condition that is True is executed.\n\n```\nif condition1:\n    <block of statements, executed if condition1 is True>\nelif condition2:\n    <block of statements>\nelif condition3:\n    <block of statements>\nelse:\n    <block of statements>\n    \n<next statement of the program>\n```"
    },
    {
      "metadata": {
        "nbpresent": {
          "id": "27c74d2e-711a-4130-85e1-a16a5983c101"
        },
        "slideshow": {
          "slide_type": "slide"
        }
      },
      "cell_type": "markdown",
      "source": "## Exercise 2.3: Express a step function as a Python function\nThe following \"step\" function is known as the Heaviside function and\nis widely used in mathematics:\n$$H(x)=\\begin{cases}0, & \\text{if $x<0$}.\\\\\\\\\n1, & \\text{if $x\\ge 0$}.\\end{cases}$$\nWrite a Python function heaviside(x) that computes H(x)."
    },
    {
      "metadata": {
        "nbpresent": {
          "id": "110a818c-1c96-43cb-811b-47340d649582"
        },
        "slideshow": {
          "slide_type": "subslide"
        },
        "trusted": true
      },
      "cell_type": "code",
      "source": "def heaviside(x):\n    if x < 0:\n        return 0\n    elif x >=0:\n        return 1\n    else:\n        return ()\nprint(heaviside(-1),heaviside(1))\n\n",
      "execution_count": 58,
      "outputs": [
        {
          "output_type": "stream",
          "text": "0 1\n",
          "name": "stdout"
        }
      ]
    },
    {
      "metadata": {
        "nbpresent": {
          "id": "176d53da-c726-4205-bf4a-1c50f7f24111"
        },
        "trusted": true
      },
      "cell_type": "code",
      "source": "ok.grade('question-2_3')",
      "execution_count": 59,
      "outputs": [
        {
          "output_type": "stream",
          "text": "~~~~~~~~~~~~~~~~~~~~~~~~~~~~~~~~~~~~~~~~~~~~~~~~~~~~~~~~~~~~~~~~~~~~~\nRunning tests\n\n---------------------------------------------------------------------\nTest summary\n    Passed: 5\n    Failed: 0\n[ooooooooook] 100.0% passed\n\n",
          "name": "stdout"
        },
        {
          "output_type": "execute_result",
          "execution_count": 59,
          "data": {
            "text/plain": "{'failed': 0, 'locked': 0, 'passed': 5}"
          },
          "metadata": {}
        }
      ]
    },
    {
      "metadata": {},
      "cell_type": "markdown",
      "source": "## Exercise 2.4: Implement the factorial function\n\nThe factorial of $n$, written as $n!$, is defined as\n\n$$n! = n(n − 1)(n − 2) \\cdots 2 \\cdot 1,$$\n\nwith the special cases\n\n$$1! = 1,$$ $$0! = 1.$$\n\nFor example, $4! = 4 \\cdot 3 \\cdot 2 \\cdot 1 = 24$, and $2! = 2 \\cdot 1 = 2$.\n\nImplement your own factorial function to calculate $n!$. Return 1 immediately if $n$ is 1 or 0, otherwise use a loop to compute $n!$. You can use Pythons own [math.factorial(x)](https://docs.python.org/3/library/math.html) to check your code."
    },
    {
      "metadata": {
        "trusted": true
      },
      "cell_type": "code",
      "source": "# Uncomment and complete this code - keep the names the same for testing purposes. \n\ndef my_factorial(n):\n    if n ==0:\n        return 1\n    elif n ==1:\n        return 1\n    else:\n        a = 1\n        my_fact = 1\n        while n >=2 :\n            my_fact *= n\n            n = n - 1\n        return my_fact           \nprint(my_factorial(7))",
      "execution_count": 60,
      "outputs": [
        {
          "output_type": "stream",
          "text": "5040\n",
          "name": "stdout"
        }
      ]
    },
    {
      "metadata": {
        "trusted": true
      },
      "cell_type": "code",
      "source": "ok.grade('question-2_4')",
      "execution_count": 61,
      "outputs": [
        {
          "output_type": "stream",
          "text": "~~~~~~~~~~~~~~~~~~~~~~~~~~~~~~~~~~~~~~~~~~~~~~~~~~~~~~~~~~~~~~~~~~~~~\nRunning tests\n\n---------------------------------------------------------------------\nTest summary\n    Passed: 5\n    Failed: 0\n[ooooooooook] 100.0% passed\n\n",
          "name": "stdout"
        },
        {
          "output_type": "execute_result",
          "execution_count": 61,
          "data": {
            "text/plain": "{'failed': 0, 'locked': 0, 'passed': 5}"
          },
          "metadata": {}
        }
      ]
    },
    {
      "metadata": {},
      "cell_type": "markdown",
      "source": "## Exercise 2.5: Compute the length of a path\n\nSome object is moving along a path in the plane. At $n$ points of time we have recorded the corresponding $(x, y)$ positions of the object:\n$(x_0, y_0), (x_1, y_1), \\ldots, (x_{n-1}, y_{n-1})$. The total length $L$ of the path from $(x_0, y_0)$ to $(x_{n-1}, y_{n-1})$ is the sum of all the individual line segments $(x_{i-1}, y_{i-1})$ to $(x_i, y_i)$, $i = 1, \\ldots, n-1$:\n\n$$L = \\sum_{i=1}^{n-1}{\\sqrt{(x_i - x_{i-1})^2 + (y_i - y_{i-1})^2}}.$$\n\nCreate a function *pathlength(x, y)* for computing $L$ according to the formula. The arguments $x$ and $y$ are two lists that hold all the $x_0, \\ldots, x_{n-1}$ and $y_0, \\ldots, y_{n-1}$ coordinates, respectively. Test the function on a triangular path with the four points (1, 1), (2, 1), (1, 2), and (1, 1)."
    },
    {
      "metadata": {
        "trusted": true
      },
      "cell_type": "code",
      "source": "# Uncomment and complete this code - keep the names the same for testing purposes. \n\ndef path_length(x, y):\n    n = len(x)\n    my_length = 0\n    i=1\n    while i < n:\n        length = ((x[i]-x[i-1])**2 + (y[i]-y[i-1])**2)**0.5\n        my_length = my_length + length\n        i+=1\n    return my_length\nprint(path_length([1,2,1,1],[1,1,2,1]))\n        ",
      "execution_count": 62,
      "outputs": [
        {
          "output_type": "stream",
          "text": "3.414213562373095\n",
          "name": "stdout"
        }
      ]
    },
    {
      "metadata": {
        "trusted": true
      },
      "cell_type": "code",
      "source": "ok.grade('question-2_5')",
      "execution_count": 63,
      "outputs": [
        {
          "output_type": "stream",
          "text": "~~~~~~~~~~~~~~~~~~~~~~~~~~~~~~~~~~~~~~~~~~~~~~~~~~~~~~~~~~~~~~~~~~~~~\nRunning tests\n\n---------------------------------------------------------------------\nTest summary\n    Passed: 4\n    Failed: 0\n[ooooooooook] 100.0% passed\n\n",
          "name": "stdout"
        },
        {
          "output_type": "execute_result",
          "execution_count": 63,
          "data": {
            "text/plain": "{'failed': 0, 'locked': 0, 'passed': 4}"
          },
          "metadata": {}
        }
      ]
    },
    {
      "metadata": {},
      "cell_type": "markdown",
      "source": "## Exercise 2.6: Approximate $\\pi$\n\nAs you know the circumference of a circle is given by $2 \\pi r$ where $r$ is the radius of the cirlce.  $\\pi$ is therefore the circumference of a circle with $r= \\frac{1}{2}$.\n\nWe can approximate this circumference by a many-sided polygon through points on the circle. The sum of the lengths of the sides of the polygon will approximate the circumference.\n\nFirstly compute $n+1$ points around a circle according to the formulae:\n\n$ x_i = \\frac{1}{2} \\cos(\\frac{2 \\pi i}{n}),   y_i = \\frac{1}{2} \\sin(\\frac{2 \\pi i}{n}),   i = 0 \\cdots n$\n\nThen use your `path_length` function from the previous question to approximate $\\pi$.  Name your function for estimating $\\pi$ `approx_pi` for testing purposes."
    },
    {
      "metadata": {
        "trusted": true
      },
      "cell_type": "code",
      "source": "# Uncomment and complete this code - keep the names the same for testing purposes. \n\ndef approx_pi(n):\n    from math import cos, sin, sqrt, pi\n    i = 0\n    x = []\n    y = []\n    a = 1\n    while i <= n:\n        x.append((1/2)*cos((2*pi*i)/n))\n        y.append((1/2)*sin((2*pi*i)/n))\n        i+=1\n    approx_pi = path_length(x,y)\n    return approx_pi\nprint(approx_pi(4))\n        \n",
      "execution_count": 64,
      "outputs": [
        {
          "output_type": "stream",
          "text": "2.82842712474619\n",
          "name": "stdout"
        }
      ]
    },
    {
      "metadata": {
        "trusted": true
      },
      "cell_type": "code",
      "source": "ok.grade('question-2_6')",
      "execution_count": 65,
      "outputs": [
        {
          "output_type": "stream",
          "text": "~~~~~~~~~~~~~~~~~~~~~~~~~~~~~~~~~~~~~~~~~~~~~~~~~~~~~~~~~~~~~~~~~~~~~\nRunning tests\n\n---------------------------------------------------------------------\nTest summary\n    Passed: 2\n    Failed: 0\n[ooooooooook] 100.0% passed\n\n",
          "name": "stdout"
        },
        {
          "output_type": "execute_result",
          "execution_count": 65,
          "data": {
            "text/plain": "{'failed': 0, 'locked': 0, 'passed': 2}"
          },
          "metadata": {}
        }
      ]
    },
    {
      "metadata": {},
      "cell_type": "markdown",
      "source": "## Exercise 2.7: Make a list of prime numbers\n\nDefine a function called `prime_list` that lists all the prime numbers up to a given $n$.  \n\nSave all the prime numbers up to $100$ in a list called `myprimes`.\n\nHint: google the Sieve of Eratosthenes.\n"
    },
    {
      "metadata": {
        "trusted": true
      },
      "cell_type": "code",
      "source": "# Uncomment and complete this code - keep the names the same for testing purposes. \n\ndef prime_list(n):\n    list1 = []\n    for num in range(2,n + 1):\n        prime = True\n        for i in range(2,num):\n            if (num%i) == 0:\n                prime = False\n        if prime:\n            list1.append(num)\n    return list1\nmyprimes = prime_list(100)\nprint(myprimes)",
      "execution_count": 66,
      "outputs": [
        {
          "output_type": "stream",
          "text": "[2, 3, 5, 7, 11, 13, 17, 19, 23, 29, 31, 37, 41, 43, 47, 53, 59, 61, 67, 71, 73, 79, 83, 89, 97]\n",
          "name": "stdout"
        }
      ]
    },
    {
      "metadata": {
        "trusted": true
      },
      "cell_type": "code",
      "source": "ok.grade('question-2_7')",
      "execution_count": 67,
      "outputs": [
        {
          "output_type": "stream",
          "text": "~~~~~~~~~~~~~~~~~~~~~~~~~~~~~~~~~~~~~~~~~~~~~~~~~~~~~~~~~~~~~~~~~~~~~\nRunning tests\n\n---------------------------------------------------------------------\nTest summary\n    Passed: 2\n    Failed: 0\n[ooooooooook] 100.0% passed\n\n",
          "name": "stdout"
        },
        {
          "output_type": "execute_result",
          "execution_count": 67,
          "data": {
            "text/plain": "{'failed': 0, 'locked': 0, 'passed': 2}"
          },
          "metadata": {}
        }
      ]
    },
    {
      "metadata": {
        "slideshow": {
          "slide_type": "slide"
        }
      },
      "cell_type": "markdown",
      "source": ""
    },
    {
      "metadata": {
        "slideshow": {
          "slide_type": "slide"
        }
      },
      "cell_type": "markdown",
      "source": "## Vectors and arrays\n\nYou have known **vectors** since high school mathematics, *e.g.*, point $(x,y)$ in the plane, point $(x,y,z)$ in space. In general, we can describe a vector $v$ as an $n$-tuple of numbers: $v=(v_0,\\ldots,v_{n-1})$. One way to store vectors in Python is by using *lists*: $v_i$ is stored as *v[i]*."
    },
    {
      "metadata": {
        "slideshow": {
          "slide_type": "subslide"
        }
      },
      "cell_type": "markdown",
      "source": "**Arrays** are a generalization of vectors where we can have multiple indices: $A_{i,j}$, $A_{i,j,k}$. In Python code this is represented as a nested list (see previous lecture), accessed as *A[i][j]*, *A[i][j][k]*.\n\nExample: table of numbers, one index for the row, one for the column\n$$\n\\left\\lbrack\\begin{array}{cccc}\n0 & 12 & -1 & 5q\n-1 & -1 & -1 & 0\\cr\n11 & 5 & 5 & -2\n\\end{array}\\right\\rbrack\n\\hspace{1cm}\nA =\n\\left\\lbrack\\begin{array}{ccc}\nA_{0,0} & \\cdots &  A_{0,n-1}\\cr\n\\vdots & \\ddots &  \\vdots\\cr\nA_{m-1,0} & \\cdots & A_{m-1,n-1}\n\\end{array}\\right\\rbrack\n$$\nThe number of indices in an array is the *rank* or *number of dimensions*. Using these terms, a vector can be described as a one-dimensional array, or rank 1 array."
    },
    {
      "metadata": {
        "slideshow": {
          "slide_type": "subslide"
        }
      },
      "cell_type": "markdown",
      "source": "In practice, we use [Numerical Python (*NumPy*)](http://www.numpy.org/) arrays instead of lists to represent mathematical arrays because it is **much** faster for large arrays.\n\nLet's consider an example where we store $(x,y)$ points along a curve in Python lists and numpy arrays:"
    },
    {
      "metadata": {
        "slideshow": {
          "slide_type": "subslide"
        },
        "trusted": true
      },
      "cell_type": "code",
      "source": "# Sample function\ndef f(x):\n    return x**3\n\n# Generate n points in [0,1]\nn = 5\ndx = 1.0/(n-1) # x spacing\n\nX = [i*dx for i in range(n)] # Python lists\nY = [f(x) for x in X]\n\n# Turn these Python lists into Numerical Python (NumPy) arrays:\nimport numpy as np\nx2 = np.array(X)\ny2 = np.array(Y)",
      "execution_count": 73,
      "outputs": []
    },
    {
      "metadata": {
        "slideshow": {
          "slide_type": "subslide"
        }
      },
      "cell_type": "markdown",
      "source": "Instead of first making lists with $x$ and $y = f (x)$ data, and then turning lists into arrays, we can make NumPy arrays\ndirectly:"
    },
    {
      "metadata": {
        "slideshow": {
          "slide_type": "fragment"
        },
        "trusted": true
      },
      "cell_type": "code",
      "source": "import numpy as np\nn = 5                     # number of points\nx2 = np.linspace(0, 1, n)    # generates n points between 0 and 1\ny2 = np.zeros(n)             # n zeros (float data type by default)\nfor i in range(n):     \n    y2[i] = f(x2[i])",
      "execution_count": 84,
      "outputs": []
    },
    {
      "metadata": {
        "slideshow": {
          "slide_type": "subslide"
        }
      },
      "cell_type": "markdown",
      "source": "List comprehensions create lists, not arrays, but we can do:"
    },
    {
      "metadata": {
        "slideshow": {
          "slide_type": "fragment"
        },
        "trusted": true
      },
      "cell_type": "code",
      "source": "y2 = np.array([f(xi) for xi in x2]) # list -> array",
      "execution_count": 75,
      "outputs": []
    },
    {
      "metadata": {
        "slideshow": {
          "slide_type": "slide"
        }
      },
      "cell_type": "markdown",
      "source": "### When and where to use NumPy arrays\n\n* Python lists can hold any sequence of any Python objects, however, NumPy arrays can only hold objects of the same type.\n* Arrays are most efficient when the elements are of basic number types (*float*, *int*, *complex*).\n* In that case, arrays are stored efficiently in the computer's memory and we can compute very efficiently with the array elements.\n* Mathematical operations on whole arrays can be done without loops in Python. For example,"
    },
    {
      "metadata": {
        "slideshow": {
          "slide_type": "subslide"
        },
        "trusted": true
      },
      "cell_type": "code",
      "source": "import math\n\nx = np.linspace(0, 2, 10001)\ny = np.zeros(10001)\nfor i in range(len(x)):\n    y[i] = math.sin(x[i])",
      "execution_count": 85,
      "outputs": []
    },
    {
      "metadata": {
        "slideshow": {
          "slide_type": "fragment"
        }
      },
      "cell_type": "markdown",
      "source": "can be coded as"
    },
    {
      "metadata": {
        "trusted": true
      },
      "cell_type": "code",
      "source": "import numpy as np\na= np.linspace(20,150,10)\nb= np.zeros(10)\nb = np.sin(a)v0=10;g=9.81\ndef y(t):\n    return v0*t-0.5*g*t**2\nt = np.linspace(0,(2*v0/g),0.1)\ny = y(t)\nprint(t)\nprint(b)",
      "execution_count": 78,
      "outputs": [
        {
          "output_type": "error",
          "ename": "SyntaxError",
          "evalue": "invalid syntax (<ipython-input-78-86453d1dd599>, line 4)",
          "traceback": [
            "\u001b[0;36m  File \u001b[0;32m\"<ipython-input-78-86453d1dd599>\"\u001b[0;36m, line \u001b[0;32m4\u001b[0m\n\u001b[0;31m    b = np.sin(a)v0=10;g=9.81\u001b[0m\n\u001b[0m                  ^\u001b[0m\n\u001b[0;31mSyntaxError\u001b[0m\u001b[0;31m:\u001b[0m invalid syntax\n"
          ]
        }
      ]
    },
    {
      "metadata": {
        "slideshow": {
          "slide_type": "fragment"
        },
        "trusted": true
      },
      "cell_type": "code",
      "source": "y = np.sin(x)",
      "execution_count": 79,
      "outputs": []
    },
    {
      "metadata": {
        "slideshow": {
          "slide_type": "subslide"
        }
      },
      "cell_type": "markdown",
      "source": "In the latter case the loop over all elements is now performed in a very efficient C function.\n\nOperations on whole arrays, instead of using Python *for*-loops, is called vectorization and is a very **convenient**, **efficient** and therefore important programming technique to master."
    },
    {
      "metadata": {
        "slideshow": {
          "slide_type": "subslide"
        }
      },
      "cell_type": "markdown",
      "source": "Let's consider a simple vectorisation example: a loop to compute $x$ coordinates (*x2*) and $y=f(x)$ coordinates (*y2*) along a function curve:"
    },
    {
      "metadata": {
        "slideshow": {
          "slide_type": "fragment"
        },
        "trusted": true
      },
      "cell_type": "code",
      "source": "x2 = np.linspace(0, 1, n)\ny2 = np.zeros(n)\nfor i in range(n):\n    y2[i] = f(x2[i])",
      "execution_count": 80,
      "outputs": []
    },
    {
      "metadata": {
        "slideshow": {
          "slide_type": "fragment"
        }
      },
      "cell_type": "markdown",
      "source": "This computation can be replaced by:"
    },
    {
      "metadata": {
        "slideshow": {
          "slide_type": "fragment"
        },
        "trusted": true
      },
      "cell_type": "code",
      "source": "x2 = np.linspace(0, 1, n)\ny2 = f(x2)",
      "execution_count": 81,
      "outputs": []
    },
    {
      "metadata": {
        "slideshow": {
          "slide_type": "subslide"
        }
      },
      "cell_type": "markdown",
      "source": "The advantage of this approach is:\n\n* There is no need to allocate space for y2 (via the NumPy *zeros* function).\n* There is no need for a loop.\n* It is *much* faster."
    },
    {
      "metadata": {
        "slideshow": {
          "slide_type": "slide"
        }
      },
      "cell_type": "markdown",
      "source": "## How vectorised functions work\nConsider the function"
    },
    {
      "metadata": {
        "slideshow": {
          "slide_type": "fragment"
        },
        "trusted": true
      },
      "cell_type": "code",
      "source": "def f(x):\n    return x**3",
      "execution_count": 82,
      "outputs": []
    },
    {
      "metadata": {
        "slideshow": {
          "slide_type": "subslide"
        }
      },
      "cell_type": "markdown",
      "source": "$f(x)$ is intended for a number $x$, *i.e.* a *scalar*. So what happens when we call *f(x2)*, where *x2* is an NumPy array? **The function simply evaluates $x^3$ for an array x**. NumPy supports arithmetic operations on arrays, which correspond to the equivalent operations on each element, *e.g.*:"
    },
    {
      "metadata": {
        "slideshow": {
          "slide_type": "fragment"
        },
        "trusted": true
      },
      "cell_type": "code",
      "source": "x**3                # x[i]**3 forr all i\nnp.cos(x)              # cos(x[i]) for all i\nx**3 + x*np.cos(x)     # x[i]**3 + x[i]*cos(x[i]) for all i\nx/3*np.exp(-x*0.5)     # x[i]/3*exp(-x[i]*0.5) for all i ",
      "execution_count": null,
      "outputs": []
    },
    {
      "metadata": {
        "slideshow": {
          "slide_type": "subslide"
        }
      },
      "cell_type": "markdown",
      "source": "In each of these cases a highly optimised C function is actually called to evaluate the expression. In this example, the *cos* function called for an *array* is imported from *numpy* rather than from the *math* module which only acts on scalars.\n\nNotes:\n\n* Functions that can operate on arrays are called **vectorized functions**.\n* Vectorization is the process of turning a non-vectorized expression/algorithm into a vectorized expression/algorithm.\n* Mathematical functions in Python automatically work for both scalar and array (vector) arguments, *i.e.* no vectorization is needed by the programmer.\n"
    },
    {
      "metadata": {
        "slideshow": {
          "slide_type": "slide"
        }
      },
      "cell_type": "markdown",
      "source": "### Watch out for references Vs. copies of arrays!\nConsider this code:"
    },
    {
      "metadata": {
        "slideshow": {
          "slide_type": "fragment"
        },
        "trusted": true
      },
      "cell_type": "code",
      "source": "a=x\na[-1] = 42\nprint(x[-1])",
      "execution_count": null,
      "outputs": []
    },
    {
      "metadata": {
        "slideshow": {
          "slide_type": "subslide"
        }
      },
      "cell_type": "markdown",
      "source": "Notice what happened here - we changed a value in *a* but the corresponding value in *x* was also changed! This is because *a* refers to the same array as *x*. If you really want a seperate copy of *x* then we have to make an explicit copy:"
    },
    {
      "metadata": {
        "slideshow": {
          "slide_type": "fragment"
        },
        "trusted": true
      },
      "cell_type": "code",
      "source": "a = x.copy()",
      "execution_count": null,
      "outputs": []
    },
    {
      "metadata": {
        "slideshow": {
          "slide_type": "slide"
        }
      },
      "cell_type": "markdown",
      "source": "## Exercise 2.8: Fill lists and arrays with function values\n\nA function with many applications in science is defined as:\n\n$$h(x) = \\frac{1}{\\sqrt{2\\pi}}\\exp(-0.5x^2)$$\n\n* Implement the above formula as a Python function. Call the function *h* and it should take just one argument, *x*.\n* Create a NumPy array (call it $x$) that has 9 uniformly spaced points in [−4, 4].\n* Create a second NumPy array (call it $y$) with the function $h(x)$."
    },
    {
      "metadata": {
        "slideshow": {
          "slide_type": "subslide"
        },
        "trusted": true
      },
      "cell_type": "code",
      "source": "def h(x):\n    from math import sqrt,exp,pi\n    p = (1/sqrt(2*pi)) * exp(-0.5*x**2)\n    return p\nx = np.linspace(-4,4,9)\ny = np.array([h(x[i]) for i in range(len(x))])\nprint(y)",
      "execution_count": 86,
      "outputs": [
        {
          "output_type": "stream",
          "text": "[1.33830226e-04 4.43184841e-03 5.39909665e-02 2.41970725e-01\n 3.98942280e-01 2.41970725e-01 5.39909665e-02 4.43184841e-03\n 1.33830226e-04]\n",
          "name": "stdout"
        }
      ]
    },
    {
      "metadata": {
        "trusted": true
      },
      "cell_type": "code",
      "source": "ok.grade('question-2_8')",
      "execution_count": 87,
      "outputs": [
        {
          "output_type": "stream",
          "text": "~~~~~~~~~~~~~~~~~~~~~~~~~~~~~~~~~~~~~~~~~~~~~~~~~~~~~~~~~~~~~~~~~~~~~\nRunning tests\n\n---------------------------------------------------------------------\nTest summary\n    Passed: 6\n    Failed: 0\n[ooooooooook] 100.0% passed\n\n",
          "name": "stdout"
        },
        {
          "output_type": "execute_result",
          "execution_count": 87,
          "data": {
            "text/plain": "{'failed': 0, 'locked': 0, 'passed': 6}"
          },
          "metadata": {}
        }
      ]
    },
    {
      "metadata": {
        "slideshow": {
          "slide_type": "slide"
        }
      },
      "cell_type": "markdown",
      "source": "## Generalised array indexing\nWe can select a slice of an array using *a[start:stop:inc]*, where the slice *start:stop:inc* implies a set of indices starting from *start*, up to *stop* in increments of *inc*. In fact, any integer list or array can be used to indicate a set of indices:"
    },
    {
      "metadata": {
        "slideshow": {
          "slide_type": "fragment"
        },
        "trusted": true
      },
      "cell_type": "code",
      "source": "import numpy as np\na = np.linspace(1, 8, 8)\nprint(a)",
      "execution_count": 88,
      "outputs": [
        {
          "output_type": "stream",
          "text": "[1. 2. 3. 4. 5. 6. 7. 8.]\n",
          "name": "stdout"
        }
      ]
    },
    {
      "metadata": {
        "slideshow": {
          "slide_type": "subslide"
        },
        "trusted": true
      },
      "cell_type": "code",
      "source": "a[[1,6,7]] = 10 # i.e. set the elements with indicies 1,6, and 7 in the list to 10.\nprint(a)",
      "execution_count": 89,
      "outputs": [
        {
          "output_type": "stream",
          "text": "[ 1. 10.  3.  4.  5.  6. 10. 10.]\n",
          "name": "stdout"
        }
      ]
    },
    {
      "metadata": {
        "slideshow": {
          "slide_type": "fragment"
        },
        "trusted": true
      },
      "cell_type": "code",
      "source": "a[range(2,8,3)] = -2   # same as a[2:8:3] = -2\nprint(a)",
      "execution_count": 90,
      "outputs": [
        {
          "output_type": "stream",
          "text": "[ 1. 10. -2.  4.  5. -2. 10. 10.]\n",
          "name": "stdout"
        }
      ]
    },
    {
      "metadata": {
        "slideshow": {
          "slide_type": "subslide"
        }
      },
      "cell_type": "markdown",
      "source": "Even boolean expressions can also be used to select part of an array(!)"
    },
    {
      "metadata": {
        "slideshow": {
          "slide_type": "fragment"
        },
        "trusted": true
      },
      "cell_type": "code",
      "source": "print(a[a < 0]) # pick out all negative elements",
      "execution_count": 91,
      "outputs": [
        {
          "output_type": "stream",
          "text": "[-2. -2.]\n",
          "name": "stdout"
        }
      ]
    },
    {
      "metadata": {
        "slideshow": {
          "slide_type": "fragment"
        },
        "trusted": true
      },
      "cell_type": "code",
      "source": "a[a < 0] = a.max() # if a[i]<0, set a[i]=10\nprint(a)",
      "execution_count": 92,
      "outputs": [
        {
          "output_type": "stream",
          "text": "[ 1. 10. 10.  4.  5. 10. 10. 10.]\n",
          "name": "stdout"
        }
      ]
    },
    {
      "metadata": {
        "slideshow": {
          "slide_type": "slide"
        }
      },
      "cell_type": "markdown",
      "source": "## Exercise 2.9: Explore array slicing\n\n* Create a NumPy array called *w* with 31 uniformly spaced values ranging from 0 to 3.\n* Using array slicing, create a NumPy array called *wbits* that starts from the $4^{th}$ element of *w*, excludes the final element of *w* and selects every $3^{rd}$ element."
    },
    {
      "metadata": {
        "trusted": true
      },
      "cell_type": "code",
      "source": "import numpy as np\nw = np.linspace(0,3,31)\nwbits = w[range(3,30,3)]\nprint(w)\nprint(wbits)",
      "execution_count": 93,
      "outputs": [
        {
          "output_type": "stream",
          "text": "[0.  0.1 0.2 0.3 0.4 0.5 0.6 0.7 0.8 0.9 1.  1.1 1.2 1.3 1.4 1.5 1.6 1.7\n 1.8 1.9 2.  2.1 2.2 2.3 2.4 2.5 2.6 2.7 2.8 2.9 3. ]\n[0.3 0.6 0.9 1.2 1.5 1.8 2.1 2.4 2.7]\n",
          "name": "stdout"
        }
      ]
    },
    {
      "metadata": {
        "trusted": true
      },
      "cell_type": "code",
      "source": "ok.grade('question-2_9')",
      "execution_count": 94,
      "outputs": [
        {
          "output_type": "stream",
          "text": "~~~~~~~~~~~~~~~~~~~~~~~~~~~~~~~~~~~~~~~~~~~~~~~~~~~~~~~~~~~~~~~~~~~~~\nRunning tests\n\n---------------------------------------------------------------------\nTest summary\n    Passed: 2\n    Failed: 0\n[ooooooooook] 100.0% passed\n\n",
          "name": "stdout"
        },
        {
          "output_type": "execute_result",
          "execution_count": 94,
          "data": {
            "text/plain": "{'failed': 0, 'locked': 0, 'passed': 2}"
          },
          "metadata": {}
        }
      ]
    },
    {
      "metadata": {
        "slideshow": {
          "slide_type": "slide"
        }
      },
      "cell_type": "markdown",
      "source": "## 2D arrays\nWhen we have a table of numbers,\n\n$$\n\\left\\lbrack\\begin{array}{cccc}\n0 & 12 & -1 & 5\\cr\n-1 & -1 & -1 & 0\\cr\n11 & 5 & 5 & -2\n\\end{array}\\right\\rbrack\n$$\n\n(*i.e.* a *matrix*) it is natural to use a two-dimensional array $A_{i,j}$ with one index for the rows and one for the columns:\n\n$$\nA = \n\\left\\lbrack\\begin{array}{ccc}\nA_{0,0} & \\cdots &  A_{0,n-1}\\cr\n\\vdots & \\ddots &  \\vdots\\cr\nA_{m-1,0} & \\cdots & A_{m-1,n-1}\n\\end{array}\\right\\rbrack\n$$\n\nLet's recreate this array using NumPy:"
    },
    {
      "metadata": {
        "slideshow": {
          "slide_type": "subslide"
        },
        "trusted": true
      },
      "cell_type": "code",
      "source": "import numpy as np\nA = np.zeros((3,4))\nA[0,0] = 0\nA[1,0] = -1\nA[2,0] = 11\n\nA[0,1] = 12\nA[1,1] = -1\nA[2,1] = 5\n\nA[0,2] = -1\nA[1,2] = -1\nA[2,2] = 5\n\n# we can also use the same syntax that we used for nested lists\n\nA[0][3] = 5\nA[1][3] = 0\nA[2][3] = -2\n\nprint(A)",
      "execution_count": 95,
      "outputs": [
        {
          "output_type": "stream",
          "text": "[[ 0. 12. -1.  5.]\n [-1. -1. -1.  0.]\n [11.  5.  5. -2.]]\n",
          "name": "stdout"
        }
      ]
    },
    {
      "metadata": {
        "slideshow": {
          "slide_type": "subslide"
        }
      },
      "cell_type": "markdown",
      "source": "Next let's convert a nested list from a previous example into a 2D array:"
    },
    {
      "metadata": {
        "slideshow": {
          "slide_type": "fragment"
        },
        "trusted": true
      },
      "cell_type": "code",
      "source": "Cdegrees = range(0, 101, 10)\nFdegrees = [9./5*C + 32 for C in Cdegrees]\ntable = [[C, F] for C, F in zip(Cdegrees, Fdegrees)]\nprint(table)",
      "execution_count": 96,
      "outputs": [
        {
          "output_type": "stream",
          "text": "[[0, 32.0], [10, 50.0], [20, 68.0], [30, 86.0], [40, 104.0], [50, 122.0], [60, 140.0], [70, 158.0], [80, 176.0], [90, 194.0], [100, 212.0]]\n",
          "name": "stdout"
        }
      ]
    },
    {
      "metadata": {
        "slideshow": {
          "slide_type": "subslide"
        },
        "trusted": true
      },
      "cell_type": "code",
      "source": "# Convert this into a NumPy array:\ntable2 = np.array(table)\nprint(table2)",
      "execution_count": 97,
      "outputs": [
        {
          "output_type": "stream",
          "text": "[[  0.  32.]\n [ 10.  50.]\n [ 20.  68.]\n [ 30.  86.]\n [ 40. 104.]\n [ 50. 122.]\n [ 60. 140.]\n [ 70. 158.]\n [ 80. 176.]\n [ 90. 194.]\n [100. 212.]]\n",
          "name": "stdout"
        }
      ]
    },
    {
      "metadata": {
        "slideshow": {
          "slide_type": "subslide"
        }
      },
      "cell_type": "markdown",
      "source": "To see the number of elements in each dimension:"
    },
    {
      "metadata": {
        "slideshow": {
          "slide_type": "fragment"
        },
        "trusted": true
      },
      "cell_type": "code",
      "source": "print(table2.shape)",
      "execution_count": 98,
      "outputs": [
        {
          "output_type": "stream",
          "text": "(11, 2)\n",
          "name": "stdout"
        }
      ]
    },
    {
      "metadata": {
        "slideshow": {
          "slide_type": "fragment"
        }
      },
      "cell_type": "markdown",
      "source": "*i.e.* 11 rows and 2 columns."
    },
    {
      "metadata": {
        "slideshow": {
          "slide_type": "subslide"
        }
      },
      "cell_type": "markdown",
      "source": "Let's write a loop over all array elements of A:"
    },
    {
      "metadata": {
        "slideshow": {
          "slide_type": "fragment"
        },
        "trusted": true
      },
      "cell_type": "code",
      "source": "for i in range(table2.shape[0]):\n    for j in range(table2.shape[1]):\n        print('table2[%d,%d] = %g' % (i, j, table2[i,j]))",
      "execution_count": 99,
      "outputs": [
        {
          "output_type": "stream",
          "text": "table2[0,0] = 0\ntable2[0,1] = 32\ntable2[1,0] = 10\ntable2[1,1] = 50\ntable2[2,0] = 20\ntable2[2,1] = 68\ntable2[3,0] = 30\ntable2[3,1] = 86\ntable2[4,0] = 40\ntable2[4,1] = 104\ntable2[5,0] = 50\ntable2[5,1] = 122\ntable2[6,0] = 60\ntable2[6,1] = 140\ntable2[7,0] = 70\ntable2[7,1] = 158\ntable2[8,0] = 80\ntable2[8,1] = 176\ntable2[9,0] = 90\ntable2[9,1] = 194\ntable2[10,0] = 100\ntable2[10,1] = 212\n",
          "name": "stdout"
        }
      ]
    },
    {
      "metadata": {
        "slideshow": {
          "slide_type": "subslide"
        }
      },
      "cell_type": "markdown",
      "source": "Alternatively:"
    },
    {
      "metadata": {
        "slideshow": {
          "slide_type": "fragment"
        },
        "trusted": true
      },
      "cell_type": "code",
      "source": "for index_tuple, value in np.ndenumerate(table2):\n    print('index %s has value %g' % (index_tuple, table2[index_tuple]))",
      "execution_count": 100,
      "outputs": [
        {
          "output_type": "stream",
          "text": "index (0, 0) has value 0\nindex (0, 1) has value 32\nindex (1, 0) has value 10\nindex (1, 1) has value 50\nindex (2, 0) has value 20\nindex (2, 1) has value 68\nindex (3, 0) has value 30\nindex (3, 1) has value 86\nindex (4, 0) has value 40\nindex (4, 1) has value 104\nindex (5, 0) has value 50\nindex (5, 1) has value 122\nindex (6, 0) has value 60\nindex (6, 1) has value 140\nindex (7, 0) has value 70\nindex (7, 1) has value 158\nindex (8, 0) has value 80\nindex (8, 1) has value 176\nindex (9, 0) has value 90\nindex (9, 1) has value 194\nindex (10, 0) has value 100\nindex (10, 1) has value 212\n",
          "name": "stdout"
        }
      ]
    },
    {
      "metadata": {
        "slideshow": {
          "slide_type": "subslide"
        }
      },
      "cell_type": "markdown",
      "source": "We can also extract slices from multi-dimensional arrays as before. For example, extract the second column:"
    },
    {
      "metadata": {
        "slideshow": {
          "slide_type": "fragment"
        },
        "trusted": true
      },
      "cell_type": "code",
      "source": "print(table2[:, 1]) # 2nd column (index 1)",
      "execution_count": 101,
      "outputs": [
        {
          "output_type": "stream",
          "text": "[ 32.  50.  68.  86. 104. 122. 140. 158. 176. 194. 212.]\n",
          "name": "stdout"
        }
      ]
    },
    {
      "metadata": {
        "slideshow": {
          "slide_type": "subslide"
        }
      },
      "cell_type": "markdown",
      "source": "Play with this more complicated example:"
    },
    {
      "metadata": {
        "slideshow": {
          "slide_type": "fragment"
        },
        "trusted": true
      },
      "cell_type": "code",
      "source": "t = np.linspace(1, 30, 30).reshape(5, 6)\nprint(t)",
      "execution_count": 102,
      "outputs": [
        {
          "output_type": "stream",
          "text": "[[ 1.  2.  3.  4.  5.  6.]\n [ 7.  8.  9. 10. 11. 12.]\n [13. 14. 15. 16. 17. 18.]\n [19. 20. 21. 22. 23. 24.]\n [25. 26. 27. 28. 29. 30.]]\n",
          "name": "stdout"
        }
      ]
    },
    {
      "metadata": {
        "slideshow": {
          "slide_type": "fragment"
        },
        "trusted": true
      },
      "cell_type": "code",
      "source": "print(t[1:-1:2, 2:])",
      "execution_count": 103,
      "outputs": [
        {
          "output_type": "stream",
          "text": "[[ 9. 10. 11. 12.]\n [21. 22. 23. 24.]]\n",
          "name": "stdout"
        }
      ]
    },
    {
      "metadata": {
        "slideshow": {
          "slide_type": "slide"
        }
      },
      "cell_type": "markdown",
      "source": "## Exercise 2.10: Implement matrix-vector multiplication\nA matrix $\\mathbf{A}$ and a vector $\\mathbf{b}$, represented in Python as a 2D array and a 1D array respectively, are given by:\n\n$$\n\\mathbf{A} = \\left\\lbrack\\begin{array}{ccc}\n0 & 12 & -1\\cr\n-1 & -1 & -1\\cr\n11 & 5 & 5\n\\end{array}\\right\\rbrack\n$$\n\n$$\n\\mathbf{b} = \\left\\lbrack\\begin{array}{c}\n-2\\cr\n1\\cr\n7\n\\end{array}\\right\\rbrack\n$$\n\nMultiplying a matrix by a vector results in another vector $\\mathbf{c}$, whose components are defined by the general rule\n\n$$\\mathbf{c}_i = \\sum_j\\mathbf{A}_{i,j}\\mathbf{b}_j$$\n\n* Define $\\mathbf{A}$ and $\\mathbf{b}$ as NumPy arrays\n* Write a function called `multiply` that takes two arguments, a matrix and a vector in the form of NumPy arrays, and returns a NumPy array containing their product.\n* Call this function on $\\mathbf{A}$ and $\\mathbf{b}$, and store the result in a variable $c$."
    },
    {
      "metadata": {
        "trusted": true
      },
      "cell_type": "code",
      "source": "import numpy as np\n\ndef multiply(A,b):\n    c = np.zeros(A.shape[0])\n    for i in range(A.shape[0]):\n        for j in range(b.shape[0]):\n            c[i] += A[i,j]*b[j]\n    return c\nA = np.array([[0,12,-1],[-1,-1,-1],[11,5,5]])\nb = np.array([-2,1,7])\nc = multiply(A,b)\nprint(c)",
      "execution_count": 104,
      "outputs": [
        {
          "output_type": "stream",
          "text": "[ 5. -6. 18.]\n",
          "name": "stdout"
        }
      ]
    },
    {
      "metadata": {
        "trusted": true
      },
      "cell_type": "code",
      "source": "ok.grade('question-2_10')",
      "execution_count": 105,
      "outputs": [
        {
          "output_type": "stream",
          "text": "~~~~~~~~~~~~~~~~~~~~~~~~~~~~~~~~~~~~~~~~~~~~~~~~~~~~~~~~~~~~~~~~~~~~~\nRunning tests\n\n---------------------------------------------------------------------\nTest summary\n    Passed: 6\n    Failed: 0\n[ooooooooook] 100.0% passed\n\n",
          "name": "stdout"
        },
        {
          "output_type": "execute_result",
          "execution_count": 105,
          "data": {
            "text/plain": "{'failed': 0, 'locked': 0, 'passed': 6}"
          },
          "metadata": {}
        }
      ]
    },
    {
      "metadata": {},
      "cell_type": "markdown",
      "source": "## Exercise 2.11: Vectorised function\n\nLet $A_{33}$ be the two-dimensional array\n$$\n\\mathbf{A_{33}} = \\left\\lbrack\\begin{array}{ccc}\n0 & 12 & -1\\cr\n-1 & -1 & -1\\cr\n11 & 5 & 5\n\\end{array}\\right\\rbrack\n$$\n\nImplement and apply the function\n$$\nf(x) = x^3 + xe^x + 1\n$$\nto each element in $A_{33}$. Then calculate the result of the array expression ${A_{33}}^3 + A_{33}e^{A_{33}} + 1$, and demonstrate that the end result of the two methods are the same."
    },
    {
      "metadata": {
        "trusted": true
      },
      "cell_type": "code",
      "source": "import numpy as np\ndef f_cubic(A):\n    return A**3 + A*np.cos(A) + 1\na = [[0,12,-1],[-1,-1,-1],[11,5,5]]\nA = np.array(a)\nprint(f_cubic(A))\n\na = [[0,12,-1],[-1,-1,-1],[11,5,5]]\nA = np.array(a)\nprint(A**3 + A*np.cos(A) + 1)\n        ",
      "execution_count": 113,
      "outputs": [
        {
          "output_type": "stream",
          "text": "[[ 1.00000000e+00  1.73912625e+03 -5.40302306e-01]\n [-5.40302306e-01 -5.40302306e-01 -5.40302306e-01]\n [ 1.33204868e+03  1.27418311e+02  1.27418311e+02]]\n[[ 1.00000000e+00  1.73912625e+03 -5.40302306e-01]\n [-5.40302306e-01 -5.40302306e-01 -5.40302306e-01]\n [ 1.33204868e+03  1.27418311e+02  1.27418311e+02]]\n",
          "name": "stdout"
        }
      ]
    },
    {
      "metadata": {
        "trusted": true
      },
      "cell_type": "code",
      "source": "ok.grade('question-2_11')",
      "execution_count": 114,
      "outputs": [
        {
          "output_type": "stream",
          "text": "~~~~~~~~~~~~~~~~~~~~~~~~~~~~~~~~~~~~~~~~~~~~~~~~~~~~~~~~~~~~~~~~~~~~~\nRunning tests\n\n---------------------------------------------------------------------\nTest summary\n    Passed: 3\n    Failed: 0\n[ooooooooook] 100.0% passed\n\n",
          "name": "stdout"
        },
        {
          "output_type": "execute_result",
          "execution_count": 114,
          "data": {
            "text/plain": "{'failed': 0, 'locked': 0, 'passed': 3}"
          },
          "metadata": {}
        }
      ]
    },
    {
      "metadata": {},
      "cell_type": "markdown",
      "source": "## Exercise 2.12: Implement matrix-matrix multiplication\n\nSimilarly to Exercise 4.3 (where a matrix is multiplied by a vector), the general rule for multiplying a $n \\times m$ matrix $\\mathbf{A}$ by a $m \\times p$ matrix $\\mathbf{B}$ results in a $n \\times p$ matrix $\\mathbf{C}$, whose components are defined by the general rule\n\n$$\\mathbf{C}_{i,j} = \\sum^m_{k=1}\\mathbf{A}_{i,k}\\mathbf{B}_{k,j}$$\n\nAgain let $\\mathbf{A}$ be the two-dimensional array\n\n$$\n\\mathbf{A} = \\left\\lbrack\\begin{array}{ccc}\n0 & 12 & -1\\cr\n-1 & -1 & -1\\cr\n11 & 5 & 5\n\\end{array}\\right\\rbrack\n$$\n\nand let $\\mathbf{B}$ be the two-dimensional array\n\n$$\n\\mathbf{B} = \\left\\lbrack\\begin{array}{ccc}\n-2 & 1 & 7\\cr\n3 & 0 & 6\\cr\n2 & 3 & 5\n\\end{array}\\right\\rbrack\n$$\n\nDefine `A` and `B` as NumPy arrays, and write a function `f_mult` which multiplies them together using the above rule to create a the NumPy array called `C`."
    },
    {
      "metadata": {
        "trusted": true
      },
      "cell_type": "code",
      "source": "import numpy as np\ndef f_mult(A,B):\n    if A.shape[1] != B.shape[0]:\n        raise RunTimeError(\"A should be have the same number of columns as B has rows\")\n    C = np.zeros([A.shape[0],B.shape[1]])\n    for i in range((A.shape[0])):\n        for j in range((B.shape[0])):\n            for k in range((B.shape[0])):\n                C[i][j] += A[i][k]*B[k][j]\n    return C\nA = np.array([[0,12,-1],[-1,-1,-1],[11,5,5]])\nB = np.array([[-2,1,7],[3,0,6],[2,3,5]])\nC = f_mult(A,B)\nprint(C)\n",
      "execution_count": 108,
      "outputs": [
        {
          "output_type": "stream",
          "text": "[[ 34.  -3.  67.]\n [ -3.  -4. -18.]\n [  3.  26. 132.]]\n",
          "name": "stdout"
        }
      ]
    },
    {
      "metadata": {
        "trusted": true
      },
      "cell_type": "code",
      "source": "ok.grade('question-2_12')",
      "execution_count": 109,
      "outputs": [
        {
          "output_type": "stream",
          "text": "~~~~~~~~~~~~~~~~~~~~~~~~~~~~~~~~~~~~~~~~~~~~~~~~~~~~~~~~~~~~~~~~~~~~~\nRunning tests\n\n---------------------------------------------------------------------\nTest summary\n    Passed: 2\n    Failed: 0\n[ooooooooook] 100.0% passed\n\n",
          "name": "stdout"
        },
        {
          "output_type": "execute_result",
          "execution_count": 109,
          "data": {
            "text/plain": "{'failed': 0, 'locked': 0, 'passed': 2}"
          },
          "metadata": {}
        }
      ]
    },
    {
      "metadata": {},
      "cell_type": "markdown",
      "source": "## Exercise 2.13: 2D array slicing\n\n\n* Create a 1D NumPy array called `odd` with all of the odd numbers from 1 to 55\n* Create a 2D NumPy array called `odd_sq` with all of the odd numbers from 1 to 55 in a matrix with 4 rows and 7 columns\n* Using array slicing, create a 2D NumPy array called, `odd_bits`, that starts from the $2^{nd}$ column of `odd_sq` and selects every other column, of only the $2^{nd}$ and $3^{rd}$ rows of `odd_sq`"
    },
    {
      "metadata": {
        "trusted": true
      },
      "cell_type": "code",
      "source": "import numpy as np\nn = 55\nodd_list = []\nk = 1\nwhile k <=n:\n    if k%2 != 0:\n        odd_list.append(k)\n    k = k + 1\nodd = np.array(odd_list)\nodd_sq = odd.reshape(4,7)\nodd_bits = odd_sq[1:3,1:-1:2]\nprint(odd_bits)",
      "execution_count": 110,
      "outputs": [
        {
          "output_type": "stream",
          "text": "[[17 21 25]\n [31 35 39]]\n",
          "name": "stdout"
        }
      ]
    },
    {
      "metadata": {
        "trusted": true
      },
      "cell_type": "code",
      "source": "ok.grade('question-2_13')",
      "execution_count": 111,
      "outputs": [
        {
          "output_type": "stream",
          "text": "~~~~~~~~~~~~~~~~~~~~~~~~~~~~~~~~~~~~~~~~~~~~~~~~~~~~~~~~~~~~~~~~~~~~~\nRunning tests\n\n---------------------------------------------------------------------\nTest summary\n    Passed: 3\n    Failed: 0\n[ooooooooook] 100.0% passed\n\n",
          "name": "stdout"
        },
        {
          "output_type": "execute_result",
          "execution_count": 111,
          "data": {
            "text/plain": "{'failed': 0, 'locked': 0, 'passed': 3}"
          },
          "metadata": {}
        }
      ]
    },
    {
      "metadata": {
        "trusted": true
      },
      "cell_type": "code",
      "source": "ok.score()",
      "execution_count": 112,
      "outputs": [
        {
          "output_type": "stream",
          "text": "~~~~~~~~~~~~~~~~~~~~~~~~~~~~~~~~~~~~~~~~~~~~~~~~~~~~~~~~~~~~~~~~~~~~~\nScoring tests\n\n---------------------------------------------------------------------\nquestion 2.1\n    Passed: 1\n    Failed: 0\n[ooooooooook] 100.0% passed\n\n---------------------------------------------------------------------\nquestion 2.2\n    Passed: 1\n    Failed: 0\n[ooooooooook] 100.0% passed\n\n---------------------------------------------------------------------\nquestion 2.3\n    Passed: 1\n    Failed: 0\n[ooooooooook] 100.0% passed\n\n---------------------------------------------------------------------\nquestion 2.4\n    Passed: 1\n    Failed: 0\n[ooooooooook] 100.0% passed\n\n---------------------------------------------------------------------\nquestion 2.5\n    Passed: 1\n    Failed: 0\n[ooooooooook] 100.0% passed\n\n---------------------------------------------------------------------\nquestion 2.6\n    Passed: 1\n    Failed: 0\n[ooooooooook] 100.0% passed\n\n---------------------------------------------------------------------\nquestion 2.7\n    Passed: 1\n    Failed: 0\n[ooooooooook] 100.0% passed\n\n---------------------------------------------------------------------\nquestion 2.8\n    Passed: 3\n    Failed: 0\n[ooooooooook] 100.0% passed\n\n---------------------------------------------------------------------\nquestion 2.9\n    Passed: 1\n    Failed: 0\n[ooooooooook] 100.0% passed\n\n---------------------------------------------------------------------\nquestion 2.10\n    Passed: 2\n    Failed: 0\n[ooooooooook] 100.0% passed\n\n---------------------------------------------------------------------\nquestion 2.11\n    Passed: 1\n    Failed: 0\n[ooooooooook] 100.0% passed\n\n---------------------------------------------------------------------\nquestion 2.12\n    Passed: 1\n    Failed: 0\n[ooooooooook] 100.0% passed\n\n---------------------------------------------------------------------\nquestion 2.13\n    Passed: 1\n    Failed: 0\n[ooooooooook] 100.0% passed\n\n---------------------------------------------------------------------\nPoint breakdown\n    question 2.1: 1.0/1\n    question 2.2: 1.0/1\n    question 2.3: 1.0/1\n    question 2.4: 1.0/1\n    question 2.5: 1.0/1\n    question 2.6: 1.0/1\n    question 2.7: 1.0/1\n    question 2.8: 1.0/1\n    question 2.9: 1.0/1\n    question 2.10: 1.0/1\n    question 2.11: 1.0/1\n    question 2.12: 1.0/1\n    question 2.13: 1.0/1\n\nScore:\n    Total: 13.0\n\n",
          "name": "stdout"
        },
        {
          "output_type": "execute_result",
          "execution_count": 112,
          "data": {
            "text/plain": "{'Total': 13.0}"
          },
          "metadata": {}
        }
      ]
    }
  ],
  "metadata": {
    "kernelspec": {
      "name": "python3",
      "display_name": "Python 3",
      "language": "python"
    },
    "language_info": {
      "mimetype": "text/x-python",
      "nbconvert_exporter": "python",
      "name": "python",
      "file_extension": ".py",
      "version": "3.5.4",
      "pygments_lexer": "ipython3",
      "codemirror_mode": {
        "version": 3,
        "name": "ipython"
      }
    }
  },
  "nbformat": 4,
  "nbformat_minor": 1
}