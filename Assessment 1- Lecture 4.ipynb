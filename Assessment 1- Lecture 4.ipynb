{
  "cells": [
    {
      "metadata": {
        "trusted": true
      },
      "cell_type": "code",
      "source": "!pip3 install --user okpy\n\nfrom lecture import *",
      "execution_count": 19,
      "outputs": [
        {
          "output_type": "stream",
          "text": "Requirement already satisfied: okpy in /home/nbuser/.local/lib/python3.5/site-packages (1.13.11)\nRequirement already satisfied: coverage==3.7.1 in /home/nbuser/.local/lib/python3.5/site-packages (from okpy) (3.7.1)\nRequirement already satisfied: requests==2.12.4 in /home/nbuser/.local/lib/python3.5/site-packages (from okpy) (2.12.4)\n\u001b[33mYou are using pip version 18.0, however version 18.1 is available.\nYou should consider upgrading via the 'pip install --upgrade pip' command.\u001b[0m\n",
          "name": "stdout"
        }
      ]
    },
    {
      "metadata": {},
      "cell_type": "markdown",
      "source": "# Introduction to programming in Python\n\n# Lecture 4"
    },
    {
      "metadata": {},
      "cell_type": "markdown",
      "source": "Learning objectives: You will learn how to:\n\n* Parse strings to extract specific data of interest.\n* Use dictionaries to index data using any type of key.\n* Learn how to create your own **objects** in Python and develop **member functions** for these new data types."
    },
    {
      "metadata": {},
      "cell_type": "markdown",
      "source": "## Python dictionaries\nSuppose we need to store the temperatures in Oslo, London and Paris. The Python list solution might look like:"
    },
    {
      "metadata": {
        "trusted": true
      },
      "cell_type": "code",
      "source": "temps = [13, 15.4, 17.5]\n# temps[0]: Oslo\n# temps[1]: London\n# temps[2]: Paris",
      "execution_count": 20,
      "outputs": []
    },
    {
      "metadata": {},
      "cell_type": "markdown",
      "source": "In this case we need to remember the mapping between the index and the city name. It would be easier to specify name of city to get the temperature. Containers such as lists and arrays use a continuous series of integers to index elements. However, for many applications such an integer index is not useful.\n\n**Dictionaries** are containers where any Python object can be used\nas an index. Let's rewrite the previous example using a Python dictionary:"
    },
    {
      "metadata": {
        "trusted": true
      },
      "cell_type": "code",
      "source": "temps = {\"Oslo\": 13, \"London\": 15.4, \"Paris\": 17.5}\nprint(\"The temperature in London is\", temps[\"London\"])",
      "execution_count": 21,
      "outputs": [
        {
          "output_type": "stream",
          "text": "The temperature in London is 15.4\n",
          "name": "stdout"
        }
      ]
    },
    {
      "metadata": {},
      "cell_type": "markdown",
      "source": "Add a new element to a dictionary:"
    },
    {
      "metadata": {
        "trusted": true
      },
      "cell_type": "code",
      "source": "temps[\"Madrid\"] = 26.0\nprint(temps)",
      "execution_count": 22,
      "outputs": [
        {
          "output_type": "stream",
          "text": "{'Madrid': 26.0, 'London': 15.4, 'Oslo': 13, 'Paris': 17.5}\n",
          "name": "stdout"
        }
      ]
    },
    {
      "metadata": {},
      "cell_type": "markdown",
      "source": "Loop (iterate) over a dictionary:"
    },
    {
      "metadata": {
        "trusted": true
      },
      "cell_type": "code",
      "source": "for city in temps:\n    print(\"The temperature in %s is %g\" % (city, temps[city]))",
      "execution_count": 23,
      "outputs": [
        {
          "output_type": "stream",
          "text": "The temperature in Madrid is 26\nThe temperature in London is 15.4\nThe temperature in Oslo is 13\nThe temperature in Paris is 17.5\n",
          "name": "stdout"
        }
      ]
    },
    {
      "metadata": {},
      "cell_type": "markdown",
      "source": "The index in a dictionary is called the **key**. A dictionary is said to hold key–value pairs. So in general:\n```python\nfor key in dictionary:\n    value = dictionary[key]\n    print(value)```"
    },
    {
      "metadata": {},
      "cell_type": "markdown",
      "source": "Does the dictionary have a particular key (*i.e.* a particular data entry)?"
    },
    {
      "metadata": {
        "trusted": true
      },
      "cell_type": "code",
      "source": "if \"Berlin\" in temps:\n    print(\"We have Berlin and its temperature is \", temps[\"Berlin\"])\nelse:\n    print(\"I don't know Berlin' termperature.\")",
      "execution_count": 24,
      "outputs": [
        {
          "output_type": "stream",
          "text": "I don't know Berlin' termperature.\n",
          "name": "stdout"
        }
      ]
    },
    {
      "metadata": {
        "trusted": true
      },
      "cell_type": "code",
      "source": "print(\"Oslo\" in temps) # i.e. standard boolean expression",
      "execution_count": 25,
      "outputs": [
        {
          "output_type": "stream",
          "text": "True\n",
          "name": "stdout"
        }
      ]
    },
    {
      "metadata": {},
      "cell_type": "markdown",
      "source": "The keys and values can be reached as lists:"
    },
    {
      "metadata": {
        "trusted": true
      },
      "cell_type": "code",
      "source": "print(\"Keys = \", temps.keys())\nprint(\"Values = \", temps.values())",
      "execution_count": 26,
      "outputs": [
        {
          "output_type": "stream",
          "text": "Keys =  dict_keys(['Madrid', 'London', 'Oslo', 'Paris'])\nValues =  dict_values([26.0, 15.4, 13, 17.5])\n",
          "name": "stdout"
        }
      ]
    },
    {
      "metadata": {},
      "cell_type": "markdown",
      "source": "Note that the sequence of keys is **arbitrary**! Never rely on it, if you need a specific order of the keys then you should explicitly sort:"
    },
    {
      "metadata": {
        "trusted": true
      },
      "cell_type": "code",
      "source": "for key in sorted(temps):\n    value = temps[key]\n    print(key, value)",
      "execution_count": 27,
      "outputs": [
        {
          "output_type": "stream",
          "text": "London 15.4\nMadrid 26.0\nOslo 13\nParis 17.5\n",
          "name": "stdout"
        }
      ]
    },
    {
      "metadata": {},
      "cell_type": "markdown",
      "source": "Remove Oslo key:value:"
    },
    {
      "metadata": {
        "trusted": true
      },
      "cell_type": "code",
      "source": "del temps[\"Oslo\"] # remove Oslo key w/value\nprint(temps, len(temps))",
      "execution_count": 28,
      "outputs": [
        {
          "output_type": "stream",
          "text": "{'Madrid': 26.0, 'London': 15.4, 'Paris': 17.5} 3\n",
          "name": "stdout"
        }
      ]
    },
    {
      "metadata": {},
      "cell_type": "markdown",
      "source": "Similarly to what we saw for arrays, two variables can refer to the same dictionary:"
    },
    {
      "metadata": {
        "trusted": true
      },
      "cell_type": "code",
      "source": "t1 = temps\nt1[\"Stockholm\"] = 10.0\nprint(temps)",
      "execution_count": 29,
      "outputs": [
        {
          "output_type": "stream",
          "text": "{'Madrid': 26.0, 'London': 15.4, 'Stockholm': 10.0, 'Paris': 17.5}\n",
          "name": "stdout"
        }
      ]
    },
    {
      "metadata": {},
      "cell_type": "markdown",
      "source": "So we can see that while we modified *t1*, the *temps* dictionary was also changed."
    },
    {
      "metadata": {},
      "cell_type": "markdown",
      "source": "Let's look at a simple example of reading the same data from a file and putting it into a dictionary. We will be reading the file [data/deg2.dat](data/deg2.dat)."
    },
    {
      "metadata": {
        "trusted": true
      },
      "cell_type": "code",
      "source": "infile = open(\"data/deg2.dat\", \"r\")\n# Start with empty dictionary\ntemps = {}             \nfor line in infile:\n    # If you examine the file you will see a ':' after the city name,\n    # so let's use this as the delimiter for splitting the line.\n    city, temp = line.split(\":\") \n    temps[city] = float(temp)\ninfile.close()\nprint(temps)",
      "execution_count": 30,
      "outputs": [
        {
          "output_type": "stream",
          "text": "{'Berlin': 19.0, 'Rome': 26.0, 'London': 18.1, 'Oslo': 21.8, 'Paris': 23.0}\n",
          "name": "stdout"
        }
      ]
    },
    {
      "metadata": {},
      "cell_type": "markdown",
      "source": "## Exercise 4.1: Make a dictionary from a table\n\nThe file [data/constants.txt](data/constants.txt) contains a table of the values and the dimensions of some fundamental constants from physics. We want to load this table into a dictionary *constants*, where the keys are the names of the constants. For example, *constants['gravitational constant']* holds the value of the gravitational constant (6.67259 $\\times$ 10$^{-11}$) in Newton's law of gravitation. Make a function `read_constants(file_path)`  that that reads and interprets the text in the file passed as argument, and thereafter returns the dictionary."
    },
    {
      "metadata": {
        "trusted": true
      },
      "cell_type": "code",
      "source": "def read_constants(file_path):\n    file = open(file_path, 'r')\n    constants = {}\n    for line in file:\n        file1 = line.split()\n        try:\n            if file1[0] != '-' and file1[0] != 'name' and file1[0] != 'speed':\n                value = file1[0] + ' ' + file1[1]\n                constants[value] = float(file1[2])\n            elif file1[0] == 'speed':\n                value = file1[0] + ' ' + file1[1] + ' ' + file1[2]\n                constants[value] = float(file1[3])\n        except:\n            pass\n    return constants\n\n\nprint(read_constants(\"data/constants.txt\"))\n",
      "execution_count": 206,
      "outputs": [
        {
          "output_type": "stream",
          "text": "{'elementary charge': 1.60217733e-19, 'gravitational constant': 6.67259e-11, 'electron mass': 9.1093897e-31, 'proton mass': 1.6726231e-27, 'Planck constant': 6.6260755e-34, 'Boltzmann constant': 1.380658e-23, 'speed of light': 299792458.0, 'Avogadro number': 6.0221367e+23}\n",
          "name": "stdout"
        }
      ]
    },
    {
      "metadata": {
        "trusted": true
      },
      "cell_type": "code",
      "source": "ok.grade('question-4_1')",
      "execution_count": 207,
      "outputs": [
        {
          "output_type": "stream",
          "text": "~~~~~~~~~~~~~~~~~~~~~~~~~~~~~~~~~~~~~~~~~~~~~~~~~~~~~~~~~~~~~~~~~~~~~\nRunning tests\n\n---------------------------------------------------------------------\nTest summary\n    Passed: 1\n    Failed: 0\n[ooooooooook] 100.0% passed\n\n",
          "name": "stdout"
        },
        {
          "output_type": "execute_result",
          "execution_count": 207,
          "data": {
            "text/plain": "{'failed': 0, 'locked': 0, 'passed': 1}"
          },
          "metadata": {}
        }
      ]
    },
    {
      "metadata": {},
      "cell_type": "markdown",
      "source": "## Exercise 4.2: Explore syntax differences: lists vs. dictionaries\n\nConsider the following Python expression:\n```python\nt1 = [-5, 10.5, -1, 4]\n```\nCreate a Python dictionary (call it *t2*) that only stores the values associated with the second and last elements of t1."
    },
    {
      "metadata": {
        "trusted": true
      },
      "cell_type": "code",
      "source": "t1 = [-5, 10.5, -1, 4]\nt2 = {}\nfor k in t1:\n    t2['f'] = t1[1]\n    t2['l'] = t1[-1]\nprint(t2)\n",
      "execution_count": 208,
      "outputs": [
        {
          "output_type": "stream",
          "text": "{'l': 4, 'f': 10.5}\n",
          "name": "stdout"
        }
      ]
    },
    {
      "metadata": {
        "trusted": true
      },
      "cell_type": "code",
      "source": "ok.grade('question-4_2')",
      "execution_count": 209,
      "outputs": [
        {
          "output_type": "stream",
          "text": "~~~~~~~~~~~~~~~~~~~~~~~~~~~~~~~~~~~~~~~~~~~~~~~~~~~~~~~~~~~~~~~~~~~~~\nRunning tests\n\n---------------------------------------------------------------------\nTest summary\n    Passed: 1\n    Failed: 0\n[ooooooooook] 100.0% passed\n\n",
          "name": "stdout"
        },
        {
          "output_type": "execute_result",
          "execution_count": 209,
          "data": {
            "text/plain": "{'failed': 0, 'locked': 0, 'passed': 1}"
          },
          "metadata": {}
        }
      ]
    },
    {
      "metadata": {},
      "cell_type": "markdown",
      "source": "What must be done in the last code snippet to make it work properly?"
    },
    {
      "metadata": {},
      "cell_type": "markdown",
      "source": "## Exercise 4.3: Compute the area of a triangle\n\nAn arbitrary triangle can be described by the coordinates of its three vertices: $(x_1, y_1), (x_2, y_2), (x_3, y_3)$, numbered in a counterclockwise direction. The area of the triangle is given by the formula:\n\n$A = \\frac{1}{2}|x_2y_3 - x_3y_2 - x_1y_3 + x_3y_1 + x_1y_2 - x_2y_1|.$\n\nWrite a function `triangle_area(vertices)` that returns the area of a triangle whose vertices are specified by the argument vertices, which is a nested list of the vertex coordinates. For example, vertices can be [[0,0], [1,0], [0,2]] if the three corners of the triangle have coordinates (0, 0), (1, 0), and (0, 2).\n\nThen, assume that the vertices of the triangle are stored in a dictionary and not a list. The keys in the dictionary correspond to the vertex number (1, 2, or 3) while the values are 2-tuples with the x and y coordinates of the vertex. For example, in a triangle with vertices (0, 0), (1, 0), and (0, 2) the vertices argument becomes:"
    },
    {
      "metadata": {
        "trusted": true
      },
      "cell_type": "code",
      "source": "import numpy as np\n\n\ndef triangle_area(vertices):\n    b = np.array(vertices)\n    A = 0.5 * abs(b[1, 0]*b[2, 1]-b[2, 0]*b[1, 1]-b[0, 0]*b[2, 1]) + \\\n        0.5*abs(b[2, 0]*b[0, 1]+b[0, 0]*b[1, 1]-b[1, 0]*b[0, 1])\n    return A\n\n\nvert = [[0, 0], [1, 0], [0, 2]]\nprint(triangle_area(vert))\n\n\ndef triangle_area(vertices):\n    a = np.array([vertices[1], vertices[2], vertices[3]])\n    A = 0.5 * abs(a[1, 0]*a[2, 1]-a[2, 0]*a[1, 1]-a[0, 0]*a[2, 1]) + \\\n        0.5 * abs(a[2, 0]*a[0, 1]+a[0, 0]*a[1, 1]-a[1, 0]*a[0, 1])\n    return A\n\n\nsides = {1: (0, 0), 2: (1, 0), 3: (0, 2)}\nprint(triangle_area(sides))\n",
      "execution_count": 210,
      "outputs": [
        {
          "output_type": "stream",
          "text": "1.0\n1.0\n",
          "name": "stdout"
        }
      ]
    },
    {
      "metadata": {
        "trusted": true
      },
      "cell_type": "code",
      "source": "ok.grade('question-4_3')",
      "execution_count": 211,
      "outputs": [
        {
          "output_type": "stream",
          "text": "~~~~~~~~~~~~~~~~~~~~~~~~~~~~~~~~~~~~~~~~~~~~~~~~~~~~~~~~~~~~~~~~~~~~~\nRunning tests\n\n---------------------------------------------------------------------\nTest summary\n    Passed: 3\n    Failed: 0\n[ooooooooook] 100.0% passed\n\n",
          "name": "stdout"
        },
        {
          "output_type": "execute_result",
          "execution_count": 211,
          "data": {
            "text/plain": "{'failed': 0, 'locked': 0, 'passed': 3}"
          },
          "metadata": {}
        }
      ]
    },
    {
      "metadata": {},
      "cell_type": "markdown",
      "source": "## String manipulation\nText in Python is represented as **strings**. Programming with strings is therefore the key to interpret text in files and construct new text (*i.e.* **parsing**). First we show some common string operations and then we apply them to real examples. Our sample string used for illustration is:"
    },
    {
      "metadata": {
        "trusted": true
      },
      "cell_type": "code",
      "source": "s = \"Berlin: 18.4 C at 4 pm\"",
      "execution_count": 34,
      "outputs": []
    },
    {
      "metadata": {},
      "cell_type": "markdown",
      "source": "Strings behave much like lists/tuples - they are simply a sequence of characters:"
    },
    {
      "metadata": {
        "trusted": true
      },
      "cell_type": "code",
      "source": "print(\"s[0] = \", s[0])\nprint(\"s[1] = \", s[1])",
      "execution_count": 35,
      "outputs": [
        {
          "output_type": "stream",
          "text": "s[0] =  B\ns[1] =  e\n",
          "name": "stdout"
        }
      ]
    },
    {
      "metadata": {},
      "cell_type": "markdown",
      "source": "Substrings are just slices of lists and arrays:"
    },
    {
      "metadata": {
        "trusted": true
      },
      "cell_type": "code",
      "source": "# from index 8 to the end of the string\nprint(s[8:])",
      "execution_count": 36,
      "outputs": [
        {
          "output_type": "stream",
          "text": "18.4 C at 4 pm\n",
          "name": "stdout"
        }
      ]
    },
    {
      "metadata": {
        "trusted": true
      },
      "cell_type": "code",
      "source": "# index 8, 9, 10 and 11 (not 12!)\nprint(s[8:12])",
      "execution_count": 37,
      "outputs": [
        {
          "output_type": "stream",
          "text": "18.4\n",
          "name": "stdout"
        }
      ]
    },
    {
      "metadata": {
        "trusted": true
      },
      "cell_type": "code",
      "source": "# from index 8 to 8 from the end of the string\nprint(s[8:-8])",
      "execution_count": 38,
      "outputs": [
        {
          "output_type": "stream",
          "text": "18.4 C\n",
          "name": "stdout"
        }
      ]
    },
    {
      "metadata": {},
      "cell_type": "markdown",
      "source": "You can also find the start of a substring:"
    },
    {
      "metadata": {
        "trusted": true
      },
      "cell_type": "code",
      "source": "# where does \"Berlin\" start?\nprint(s.find(\"Berlin\"))",
      "execution_count": 39,
      "outputs": [
        {
          "output_type": "stream",
          "text": "0\n",
          "name": "stdout"
        }
      ]
    },
    {
      "metadata": {
        "trusted": true
      },
      "cell_type": "code",
      "source": "print(s.find(\"pm\"))",
      "execution_count": 40,
      "outputs": [
        {
          "output_type": "stream",
          "text": "20\n",
          "name": "stdout"
        }
      ]
    },
    {
      "metadata": {
        "trusted": true
      },
      "cell_type": "code",
      "source": "print (s.find(\"Oslo\"))",
      "execution_count": 41,
      "outputs": [
        {
          "output_type": "stream",
          "text": "-1\n",
          "name": "stdout"
        }
      ]
    },
    {
      "metadata": {},
      "cell_type": "markdown",
      "source": "In this last example, Oslo does not exist in the list so the return value is -1."
    },
    {
      "metadata": {},
      "cell_type": "markdown",
      "source": "We can also check if a substring is contained in a string:"
    },
    {
      "metadata": {
        "trusted": true
      },
      "cell_type": "code",
      "source": "print (\"Berlin\" in s)",
      "execution_count": 42,
      "outputs": [
        {
          "output_type": "stream",
          "text": "True\n",
          "name": "stdout"
        }
      ]
    },
    {
      "metadata": {
        "trusted": true
      },
      "cell_type": "code",
      "source": "print (\"Oslo\" in s)",
      "execution_count": 43,
      "outputs": [
        {
          "output_type": "stream",
          "text": "False\n",
          "name": "stdout"
        }
      ]
    },
    {
      "metadata": {
        "trusted": true
      },
      "cell_type": "code",
      "source": "if \"C\" in s:\n    print(\"C found\")\nelse:\n    print(\"C not found\")",
      "execution_count": 44,
      "outputs": [
        {
          "output_type": "stream",
          "text": "C found\n",
          "name": "stdout"
        }
      ]
    },
    {
      "metadata": {},
      "cell_type": "markdown",
      "source": "### Search and replace\nStrings also support substituting a substring by another string. In general this looks like *s.replace(s1, s2)*, which replaces string *s1* in *s* by string *s2*, *e.g.*:"
    },
    {
      "metadata": {
        "trusted": true
      },
      "cell_type": "code",
      "source": "s = s.replace(\" \", \"_\")\nprint(s)",
      "execution_count": 45,
      "outputs": [
        {
          "output_type": "stream",
          "text": "Berlin:_18.4_C_at_4_pm\n",
          "name": "stdout"
        }
      ]
    },
    {
      "metadata": {
        "trusted": true
      },
      "cell_type": "code",
      "source": "s = s.replace(\"Berlin\", \"Bonn\")\nprint(s)",
      "execution_count": 46,
      "outputs": [
        {
          "output_type": "stream",
          "text": "Bonn:_18.4_C_at_4_pm\n",
          "name": "stdout"
        }
      ]
    },
    {
      "metadata": {
        "trusted": true
      },
      "cell_type": "code",
      "source": "# Replace the text before the first colon by 'London'\ns = s.replace(s[:s.find(\":\")], \"London\")\nprint(s)",
      "execution_count": 47,
      "outputs": [
        {
          "output_type": "stream",
          "text": "London:_18.4_C_at_4_pm\n",
          "name": "stdout"
        }
      ]
    },
    {
      "metadata": {},
      "cell_type": "markdown",
      "source": "Notice that in all these examples we assign the new result back to *s*. One of the reasons we are doing this is strings are actually constant (*i.e* immutable) and therefore cannot be modified *inplace*. We **cannot** write for example:\n\n```python\ns[18] = '5'\nTypeError: \"str\" object does not support item assignment```"
    },
    {
      "metadata": {},
      "cell_type": "markdown",
      "source": "We also encountered examples above where we used the split function to break up a line into separate substrings for a given separator (where a space is the default delimiter). Sometimes we want to split a string into lines - *i.e.* the delimiter is the [carriage return](http://en.wikipedia.org/wiki/Carriage_return). This can be surprisingly tricky because different computing platforms (*e.g.* Windows, Linux, Mac) use different characters to represent a carriage return. For example, Unix uses '\\n'. Luckly Python provides a *cross platform* way of doing this so regardless of what platform created the data file, or what platform you are running Python on, it will do the *right thing*: "
    },
    {
      "metadata": {
        "trusted": true
      },
      "cell_type": "code",
      "source": "t = \"1st line\\n2nd line\\n3rd line\"\nprint (\"\"\"original t =\n\"\"\", t)",
      "execution_count": 48,
      "outputs": [
        {
          "output_type": "stream",
          "text": "original t =\n 1st line\n2nd line\n3rd line\n",
          "name": "stdout"
        }
      ]
    },
    {
      "metadata": {
        "trusted": true
      },
      "cell_type": "code",
      "source": "# This works here but will give you problems if you are switching\n# files between Windows and either Mac or Linux.\nprint (t.split(\"\\n\"))",
      "execution_count": 49,
      "outputs": [
        {
          "output_type": "stream",
          "text": "['1st line', '2nd line', '3rd line']\n",
          "name": "stdout"
        }
      ]
    },
    {
      "metadata": {
        "trusted": true
      },
      "cell_type": "code",
      "source": "# Cross platform (ie better) solution\nprint(t.splitlines())",
      "execution_count": 50,
      "outputs": [
        {
          "output_type": "stream",
          "text": "['1st line', '2nd line', '3rd line']\n",
          "name": "stdout"
        }
      ]
    },
    {
      "metadata": {},
      "cell_type": "markdown",
      "source": "### Stripping off leading/trailing whitespace\nWhen processing text from a file and composing new strings, we frequently need to trim leading and trailing whitespaces:"
    },
    {
      "metadata": {
        "trusted": true
      },
      "cell_type": "code",
      "source": "s = \"        text with leading and trailing spaces          \\n\"\nprint(\"-->%s<--\"%s.strip())",
      "execution_count": 51,
      "outputs": [
        {
          "output_type": "stream",
          "text": "-->text with leading and trailing spaces<--\n",
          "name": "stdout"
        }
      ]
    },
    {
      "metadata": {
        "trusted": true
      },
      "cell_type": "code",
      "source": "# left strip\nprint(\"-->%s<--\"%s.lstrip())",
      "execution_count": 52,
      "outputs": [
        {
          "output_type": "stream",
          "text": "-->text with leading and trailing spaces          \n<--\n",
          "name": "stdout"
        }
      ]
    },
    {
      "metadata": {
        "trusted": true
      },
      "cell_type": "code",
      "source": "# right strip\nprint(\"-->%s<--\"%s.rstrip())",
      "execution_count": 53,
      "outputs": [
        {
          "output_type": "stream",
          "text": "-->        text with leading and trailing spaces<--\n",
          "name": "stdout"
        }
      ]
    },
    {
      "metadata": {},
      "cell_type": "markdown",
      "source": "### join() (the opposite of split())\nWe can join a list of substrings to form a new string. Similarly to *split()* we put strings together with a delimiter inbetween:"
    },
    {
      "metadata": {
        "trusted": true
      },
      "cell_type": "code",
      "source": "strings = [\"Newton\", \"Secant\", \"Bisection\"]\nprint(\", \".join(strings))",
      "execution_count": 54,
      "outputs": [
        {
          "output_type": "stream",
          "text": "Newton, Secant, Bisection\n",
          "name": "stdout"
        }
      ]
    },
    {
      "metadata": {},
      "cell_type": "markdown",
      "source": "You can prove to yourself that these are inverse operations:\n```python\nt = delimiter.join(stringlist)\nstringlist = t.split(delimiter)```"
    },
    {
      "metadata": {},
      "cell_type": "markdown",
      "source": "As an example, let's split off the first two words on a line:"
    },
    {
      "metadata": {
        "trusted": true
      },
      "cell_type": "code",
      "source": "line = \"This is a line of words separated by space\"\nwords = line.split()\nprint(\"words = \", words)\nline2 = \" \".join(words[2:])\nprint(\"line2 = \", line2)",
      "execution_count": 55,
      "outputs": [
        {
          "output_type": "stream",
          "text": "words =  ['This', 'is', 'a', 'line', 'of', 'words', 'separated', 'by', 'space']\nline2 =  a line of words separated by space\n",
          "name": "stdout"
        }
      ]
    },
    {
      "metadata": {},
      "cell_type": "markdown",
      "source": "## Exercise 4.4: Improve a program\n\nThe file [data/densities.dat](data/densities.dat) contains a table of densities of various substances measured in g/cm$^3$. The following program reads the data in this file and produces a dictionary whose keys are the names of substances, and the values are the corresponding densities."
    },
    {
      "metadata": {
        "trusted": true
      },
      "cell_type": "code",
      "source": "\ndef read_densities(filename):\n    infile = open(filename, 'r')\n    densities = {}\n    for line in infile:\n        words = line.split()\n        density = float(words[-1])\n        if len(words[:-1]) == 2:\n            substance = words[0] + ' ' + words[1]\n        else:\n            substance = words[0]\n        densities[substance] = density\n    infile.close()\n    return densities\n\n\ndensities = read_densities('data/densities.dat')\nprint(densities)\n",
      "execution_count": 212,
      "outputs": [
        {
          "output_type": "stream",
          "text": "{'Moon': 3.3, 'proton': 280000000000000.0, 'pure water': 1.0, 'seawater': 1.025, 'granite': 2.7, 'iron': 7.8, 'air': 0.0012, 'gold': 18.9, 'Earth core': 13.0, 'ice': 0.9, 'mercury': 13.6, 'platinium': 21.4, 'human body': 1.03, 'Sun core': 160.0, 'gasoline': 0.67, 'silver': 10.5, 'Sun mean': 1.4, 'limestone': 2.6, 'Earth mean': 5.52}\n",
          "name": "stdout"
        }
      ]
    },
    {
      "metadata": {},
      "cell_type": "markdown",
      "source": "One problem we face when implementing the program above is that the name of the substance can contain one or two words, and maybe more words in a more comprehensive table. The purpose of this exercise is to use string operations to shorten the code and make it more general. Implement the following two methods in separate functions `read_densities_join` and `read_densities_substrings`, and control that they give the same result.\n\n1. Let *substance* consist of all the words but the last, using the join method in string objects to combine the words.\n2. Observe that all the densities start in the same column file and use substrings to divide line into two parts. (Hint: Remember to strip the first part such that, e.g., the density of ice is obtained as *densities['ice']* and not *densities['ice     ']*.)"
    },
    {
      "metadata": {
        "trusted": true
      },
      "cell_type": "code",
      "source": "",
      "execution_count": null,
      "outputs": []
    },
    {
      "metadata": {
        "trusted": true
      },
      "cell_type": "code",
      "source": "ok.grade('question-4_4')",
      "execution_count": 57,
      "outputs": [
        {
          "output_type": "stream",
          "text": "~~~~~~~~~~~~~~~~~~~~~~~~~~~~~~~~~~~~~~~~~~~~~~~~~~~~~~~~~~~~~~~~~~~~~\nRunning tests\n\n---------------------------------------------------------------------\nquestion 4.4 > Suite 1 > Case 1\n\nf='data/densities.dat';densities_join=read_densities_join(f);densities_substrings=read_densities_substrings(f)\nNameError: name 'read_densities_join' is not defined\n\nRun only this test case with \"python3 ok -q question-4_4 --suite 1 --case 1\"\n---------------------------------------------------------------------\nTest summary\n    Passed: 0\n    Failed: 1\n[k..........] 0.0% passed\n\n",
          "name": "stdout"
        },
        {
          "output_type": "execute_result",
          "execution_count": 57,
          "data": {
            "text/plain": "{'failed': 1, 'locked': 0, 'passed': 0}"
          },
          "metadata": {}
        }
      ]
    },
    {
      "metadata": {},
      "cell_type": "markdown",
      "source": "## Class: encapsulating variables/data and functions\n\nA class encapsulates variables/data and functions into one single unit. As a programmer you can create a new class and thereby a new **object type** (similar to those you have already encountered - int, `float`, `string`, `list`, `file`, etc.). Once you have created a class you can create many instances of that type as you wish, just as you can have many `int` or `float` objects.\n\nModern programming makes heavy use of classes and object orientated programming to manage software complexity, making these important concepts to understand. However, for non-trivial applications the design of good abstractions and classes requires careful consideration, otherwise one can unintentionally increase complexity and hurt the performance of your code. Therefore, you should consider this lecture merely as a gentle introduction illustrated with some simple examples."
    },
    {
      "metadata": {},
      "cell_type": "markdown",
      "source": "## Representing a function by a class\n\nConsider a function of $t$ with a parameter $v_0$:\n$$ y(t: v_0, g)=v_0t - {1\\over2}gt^2 $$\n\nWe need both $v_0$, $g$ and $t$ to evaluate $y$. How might we implement this?"
    },
    {
      "metadata": {
        "collapsed": true
      },
      "cell_type": "markdown",
      "source": "One option is to assume we will always pass in all variables as arguments:\n```python\ndef y(t, v0, g=9.81):\n    return v0*t - 0.5*g*t**2\n```\nThis looks like a reasonable solution when there are only a couple of parameters. But the software complexity quickly gets out of hand as the number of variables increases (I have worked on legacy codes that had function argument lists that were hundreds of lines long because there was no notion of encapsulation!)\n\nAlternatively we might define `v0` and `g` as global variables:\n```python\ng=9.81\nv0 = ...\n\n...\n\ndef y(t):\n    return v0*t - 0.5*g*t**2\n```\nHowever, the use of global variables is strongly discouraged for many reasons, e.g. very error prone, increased risk of namespace pollution (variables being clobbered when you import a Python module), makes it difficult to manage instances where there might be multiple values for the global variable within the same context, etc."
    },
    {
      "metadata": {},
      "cell_type": "markdown",
      "source": "Lets look at how we might instead implement this as a class.\n\nWhile we will not cover it in detail here, it is worth noting that professional developers often use [UML (Unified Modeling Language)](http://en.wikipedia.org/wiki/Unified_Modeling_Language) to illustrate the design of a class. Here is a UML diagram for this example:\n\n![Simple UML example](https://github.com/ggorman/Introduction-to-programming-for-geoscientists/raw/master/notebook/images/class_Y_UML.png)\n\nFor this example `class Y` for $y(t: v_0, g)$ has variables `v0` and `g` and a function `y(t)` for computing $y(t: v_0, g)$. Often classes also have the special function `__init__` for initialising class variables.\n\nHere is an implementation of this class:"
    },
    {
      "metadata": {
        "trusted": true
      },
      "cell_type": "code",
      "source": "class Y:\n    def __init__(self, v0, g=9.81):\n        self.v0 = v0\n        self.g = g\n        \n    def value(self, t):\n        return self.v0*t - 0.5*self.g*t**2",
      "execution_count": 58,
      "outputs": []
    },
    {
      "metadata": {},
      "cell_type": "markdown",
      "source": "An example of its usage: "
    },
    {
      "metadata": {
        "trusted": true
      },
      "cell_type": "code",
      "source": "y = Y(v0=3)      # Create instance\nv = y.value(0.1) # Compute function value\n\nprint(v)",
      "execution_count": 59,
      "outputs": [
        {
          "output_type": "stream",
          "text": "0.25095\n",
          "name": "stdout"
        }
      ]
    },
    {
      "metadata": {},
      "cell_type": "markdown",
      "source": "When we write `y = Y(v0=3)` we create a new *instance* of *type ` Y`*.\n\n`Y(3)` is a call to the constructor:"
    },
    {
      "metadata": {},
      "cell_type": "markdown",
      "source": "```python\ndef __init__(self, v0, g=9.81):\n    self.v0 = v0\n    self.g = g\n```"
    },
    {
      "metadata": {},
      "cell_type": "markdown",
      "source": "Think of `self` as `y`, *i.e.*, the new variable to be created. `self.v0` means that we attach a variable `v0` to self (`y`)."
    },
    {
      "metadata": {},
      "cell_type": "markdown",
      "source": "```python\nY.__init__(y, 3)   # is the logic behind Y(3)\n```"
    },
    {
      "metadata": {},
      "cell_type": "markdown",
      "source": "`self` is always the first argument/parameter in a function, but **never** inserted in the call! After `y=Y(3)`, `y` has two variables `v0` and `g`, and we can take a look at these:"
    },
    {
      "metadata": {
        "trusted": true
      },
      "cell_type": "code",
      "source": "print(y.v0)\nprint(y.g)",
      "execution_count": 60,
      "outputs": [
        {
          "output_type": "stream",
          "text": "3\n9.81\n",
          "name": "stdout"
        }
      ]
    },
    {
      "metadata": {},
      "cell_type": "markdown",
      "source": "Functions in classes are called **methods**. Variables in classes are called **attributes**. Therefore, in the above example the `value` *method* was"
    },
    {
      "metadata": {},
      "cell_type": "markdown",
      "source": "```python\ndef value(self, t):\n  return self.v0*t - 0.5*self.g*t**2\n```"
    },
    {
      "metadata": {},
      "cell_type": "markdown",
      "source": "Example on a call:"
    },
    {
      "metadata": {
        "trusted": true
      },
      "cell_type": "code",
      "source": "v = y.value(t=0.1)",
      "execution_count": 61,
      "outputs": []
    },
    {
      "metadata": {},
      "cell_type": "markdown",
      "source": "`self` is left out in the call (as discussed above), but Python automatically inserts `y` as the `self` argument inside the `value` method. Inside the `value` *method* things *appear* as"
    },
    {
      "metadata": {},
      "cell_type": "markdown",
      "source": "```python\nreturn y.v0*t - 0.5*y.g*t**2\n```"
    },
    {
      "metadata": {},
      "cell_type": "markdown",
      "source": "The method `value` has, through `self`, access to the attributes. Attributes are like *global variables* in the class, and any method gets a `self` parameter as its first argument. The method can then access the attributes of the class through `self`."
    },
    {
      "metadata": {},
      "cell_type": "markdown",
      "source": "In summary, `class Y` collects the attributes `v0` and `g` and the method `value` together as a single unit. `value(t)` is function of `t` only, but has access to the class attributes `v0` and `g`.\n\nThe great feature of Python is that we can send `y.value` as an ordinary function of `t` to any other function that expects a function `f(t)`:"
    },
    {
      "metadata": {
        "trusted": true
      },
      "cell_type": "code",
      "source": "import numpy as np\n\ndef table(f, tstop, n):\n    \"\"\"Make a table of t, f(t) values.\"\"\"\n    for t in np.linspace(0, tstop, n):\n        print(t, f(t))",
      "execution_count": 62,
      "outputs": []
    },
    {
      "metadata": {
        "trusted": true
      },
      "cell_type": "code",
      "source": "def g(t):\n    return np.sin(t)*np.exp(-t)\n\ntable(g, 2*np.pi, 5) # pass in ordinary function as first argument",
      "execution_count": 63,
      "outputs": [
        {
          "output_type": "stream",
          "text": "0.0 0.0\n1.5707963267948966 0.20787957635076193\n3.141592653589793 5.292178668034404e-18\n4.71238898038469 -0.008983291021129429\n6.283185307179586 -4.573915527954357e-19\n",
          "name": "stdout"
        }
      ]
    },
    {
      "metadata": {
        "trusted": true
      },
      "cell_type": "code",
      "source": "y = Y(6.5)\ntable(y.value, 2*np.pi, 5) # pass in class method as first argument",
      "execution_count": 64,
      "outputs": [
        {
          "output_type": "stream",
          "text": "0.0 0.0\n1.5707963267948966 -1.892426272668997\n3.141592653589793 -27.990057339009645\n4.71238898038469 -78.29289319902196\n6.283185307179586 -152.8009338527059\n",
          "name": "stdout"
        }
      ]
    },
    {
      "metadata": {},
      "cell_type": "markdown",
      "source": "## Exercise 4.5: Make a class for function evaluation.\nMake a class called *F* that implements the function\n\n$$f(x: a, w) = \\exp(−ax)\\sin(wx).$$\n\nA *value(x)* method computes values of *f* for a given `x`, while *a* and *w* are class attributes as specified as keyword arguments in the class `__init__` method."
    },
    {
      "metadata": {
        "trusted": true
      },
      "cell_type": "code",
      "source": "# Uncomment and complete this code - keep the names the same for testing purposes. \nimport numpy as np\n\nclass F:\n    \n    def __init__(self, a, w):\n        self.a = a\n        self.w = w\n        \n    def value(self, x):\n        return (np.exp(-self.a*x))*np.sin(self.w*x)\n        ",
      "execution_count": 76,
      "outputs": []
    },
    {
      "metadata": {
        "trusted": true
      },
      "cell_type": "code",
      "source": "ok.grade('question-4_5')",
      "execution_count": 77,
      "outputs": [
        {
          "output_type": "stream",
          "text": "~~~~~~~~~~~~~~~~~~~~~~~~~~~~~~~~~~~~~~~~~~~~~~~~~~~~~~~~~~~~~~~~~~~~~\nRunning tests\n\n---------------------------------------------------------------------\nTest summary\n    Passed: 1\n    Failed: 0\n[ooooooooook] 100.0% passed\n\n",
          "name": "stdout"
        },
        {
          "output_type": "execute_result",
          "execution_count": 77,
          "data": {
            "text/plain": "{'failed': 0, 'locked': 0, 'passed': 1}"
          },
          "metadata": {}
        }
      ]
    },
    {
      "metadata": {},
      "cell_type": "markdown",
      "source": "## Exercise 4.6: Make a simple class\nMake a class called *Simple* with:\n* one attribute, `i`\n* one method *double* that replaces the value of *i* by *i+i*\n* an `__init__` method that initializes the attribute. \n\nUse the following code snippet to convince yourself that your class is behaving as expected.\n\n```python\ns1 = Simple(4)\nfor i in range(4):\n    s1.double()\nprint(s1.i)\n\ns2 = Simple('Hello')\ns2.double(); s2.double()\nprint(s2.i)\ns2.i = 100\nprint(s2.i)\n```"
    },
    {
      "metadata": {
        "trusted": true
      },
      "cell_type": "code",
      "source": "class Simple:\n    \n    def __init__(self, i):\n        self.i = i\n    def double(self):\n        self.i = self.i + self.i\n        return self.i\n\n\ns1 = Simple(4)\nfor k in range(4):\n    s1.double()\nprint(s1.i)\n\ns2 = Simple('Hello')\ns2.double() ;s2.double()\nprint(s2.i)\ns2.i = 100\nprint(s2.i)\n        ",
      "execution_count": 112,
      "outputs": [
        {
          "output_type": "stream",
          "text": "64\nHelloHelloHelloHello\n100\n",
          "name": "stdout"
        }
      ]
    },
    {
      "metadata": {
        "trusted": true
      },
      "cell_type": "code",
      "source": "ok.grade('question-4_6')",
      "execution_count": 113,
      "outputs": [
        {
          "output_type": "stream",
          "text": "~~~~~~~~~~~~~~~~~~~~~~~~~~~~~~~~~~~~~~~~~~~~~~~~~~~~~~~~~~~~~~~~~~~~~\nRunning tests\n\n---------------------------------------------------------------------\nTest summary\n    Passed: 2\n    Failed: 0\n[ooooooooook] 100.0% passed\n\n",
          "name": "stdout"
        },
        {
          "output_type": "execute_result",
          "execution_count": 113,
          "data": {
            "text/plain": "{'failed': 0, 'locked': 0, 'passed': 2}"
          },
          "metadata": {}
        }
      ]
    },
    {
      "metadata": {},
      "cell_type": "markdown",
      "source": "## Another class example: a bank account\n\n* Attributes: name of owner, account number, balance\n* Methods: deposit, withdraw, pretty print"
    },
    {
      "metadata": {
        "trusted": true
      },
      "cell_type": "code",
      "source": "class Account:\n    \n    def __init__(self, name, account_number, initial_amount=0):\n        self.name = name\n        self.no = account_number\n        self.balance = initial_amount\n        \n    def deposit(self, amount):\n        self.balance += amount\n        \n    def withdraw(self, amount):\n        self.balance -= amount\n        \n    def dump(self):\n        s = '%s, %s, balance: %s' % (self.name, self.no, self.balance)\n        print(s)",
      "execution_count": 115,
      "outputs": []
    },
    {
      "metadata": {
        "trusted": true
      },
      "cell_type": "code",
      "source": "a1 = Account('John Olsson', '19371554951')\na2 = Account('Liz Olsson', '19371564761', 20000)\na1.deposit(1000)\na1.withdraw(4000)\na2.withdraw(10500)\na1.withdraw(3500)\nprint(\"%s’s balance: %.2f\"%(a1.name, a1.balance))",
      "execution_count": 116,
      "outputs": [
        {
          "output_type": "stream",
          "text": "John Olsson’s balance: -6500.00\n",
          "name": "stdout"
        }
      ]
    },
    {
      "metadata": {
        "trusted": true
      },
      "cell_type": "code",
      "source": "a1.dump()",
      "execution_count": 117,
      "outputs": [
        {
          "output_type": "stream",
          "text": "John Olsson, 19371554951, balance: -6500\n",
          "name": "stdout"
        }
      ]
    },
    {
      "metadata": {
        "trusted": true
      },
      "cell_type": "code",
      "source": "a2.dump()",
      "execution_count": 118,
      "outputs": [
        {
          "output_type": "stream",
          "text": "Liz Olsson, 19371564761, balance: 9500\n",
          "name": "stdout"
        }
      ]
    },
    {
      "metadata": {},
      "cell_type": "markdown",
      "source": "## Exercise 4.7: Extend a class\n\nAdd an attribute called `transactions` to the `Account` class given above. The new attribute counts the number of transactions done in the `deposit` and `withdraw` methods. The total number of transactions should be printed in the `dump` method. Write a simple test program to convince yourself transaction gets the right value after some calls to `deposit` and `withdraw`."
    },
    {
      "metadata": {
        "trusted": true
      },
      "cell_type": "code",
      "source": "class Account:\n    \n    def __init__(self, name, account_number, initial_amount = 0, transactions = 0):\n        self.name = name\n        self.no = account_number\n        self.balance = initial_amount\n        self.transactions = transactions\n        \n    def deposit(self, amount):\n        self.balance += amount\n        self.transactions += 1\n        \n    def withdraw(self, amount):\n        self.balance -= amount\n        self.transactions += 1\n        \n    def dump(self):\n        s = '%s, %s, balance: %s, transactions: %s' % (self.name, self.no, self.balance, self.transactions)\n        print(s)\n\n        \na2 = Account('Liz Olsson', '19371564761', 0, 100)\na2.deposit(50)\na2.withdraw(20)\n\na2.dump()",
      "execution_count": 138,
      "outputs": [
        {
          "output_type": "stream",
          "text": "Liz Olsson, 19371564761, balance: 30, transactions: 102\n",
          "name": "stdout"
        }
      ]
    },
    {
      "metadata": {
        "trusted": true
      },
      "cell_type": "code",
      "source": "ok.grade('question-4_7')",
      "execution_count": 139,
      "outputs": [
        {
          "output_type": "stream",
          "text": "~~~~~~~~~~~~~~~~~~~~~~~~~~~~~~~~~~~~~~~~~~~~~~~~~~~~~~~~~~~~~~~~~~~~~\nRunning tests\n\n---------------------------------------------------------------------\nTest summary\n    Passed: 2\n    Failed: 0\n[ooooooooook] 100.0% passed\n\n",
          "name": "stdout"
        },
        {
          "output_type": "execute_result",
          "execution_count": 139,
          "data": {
            "text/plain": "{'failed': 0, 'locked': 0, 'passed': 2}"
          },
          "metadata": {}
        }
      ]
    },
    {
      "metadata": {},
      "cell_type": "markdown",
      "source": "## Protecting attributes\nIt is not possible in Python to explicitly protect attributes from being overwritten by the calling function, *i.e.* the following is possible but not intended:"
    },
    {
      "metadata": {
        "trusted": false
      },
      "cell_type": "code",
      "source": "a1.name = 'Some other name'\na1.balance = 100000\na1.no = '19371564768'",
      "execution_count": null,
      "outputs": []
    },
    {
      "metadata": {},
      "cell_type": "markdown",
      "source": "**Assumptions** on correct usage include:\n\n* The attributes should not be modified directly.\n* The `balance` attribute can be viewed.\n* Changing `balance` is done through with the methods `draw` and `deposit`.\n\nThe remedy is to adopt the convention that attributes and methods not intended for use outside the class should be marked as protected by prefixing the name with an underscore (*e.g.*, `_name`). This is just a convention to warn you to stay away from messing with the attribute directly. There is no technical way of stopping attributes and methods from being accessed directly from outside the class.\n\nWe rewrite the account class using this convention:"
    },
    {
      "metadata": {
        "trusted": true
      },
      "cell_type": "code",
      "source": "class AccountP:\n    def __init__(self, name, account_number, initial_amount):\n        self._name = name\n        self._no = account_number\n        self._balance = initial_amount\n    def deposit(self, amount):\n        self._balance += amount\n    def withdraw(self, amount):\n        self._balance -= amount\n    def get_balance(self):    # NEW - read balance value\n        return self._balance\n    def dump(self):\n        s = '%s, %s, balance: %s' %(self._name, self._no, self._balance)\n        print(s)",
      "execution_count": 140,
      "outputs": []
    },
    {
      "metadata": {
        "trusted": true
      },
      "cell_type": "code",
      "source": "a1 = AccountP('John Olsson', '19371554951', 20000)\na1.withdraw(4000)",
      "execution_count": 141,
      "outputs": []
    },
    {
      "metadata": {
        "trusted": true
      },
      "cell_type": "code",
      "source": "print(a1._balance)      # it works, but a convention is broken",
      "execution_count": 142,
      "outputs": [
        {
          "output_type": "stream",
          "text": "16000\n",
          "name": "stdout"
        }
      ]
    },
    {
      "metadata": {
        "trusted": true
      },
      "cell_type": "code",
      "source": "print(a1.get_balance()) # correct way of viewing the balance",
      "execution_count": 143,
      "outputs": [
        {
          "output_type": "stream",
          "text": "16000\n",
          "name": "stdout"
        }
      ]
    },
    {
      "metadata": {
        "trusted": true
      },
      "cell_type": "code",
      "source": "a1._no = '19371554955' # if you did this you'd probably lose your job! Don't mess with the convention.",
      "execution_count": 144,
      "outputs": []
    },
    {
      "metadata": {},
      "cell_type": "markdown",
      "source": "### Example - a phone book\n\nA phone book is a list of data about persons. Typical data includes: name, mobile phone, office phone, private phone, email. This data about a person can be  collected in a class as **attributes**. Think about what kinds of **methods** make sense for this class, e.g.:\n\n* Constructor for initializing name, plus one or more other data\n* Add new mobile number\n* Add new office number\n* Add new private number\n* Add new email\n* Write out person data"
    },
    {
      "metadata": {
        "trusted": true
      },
      "cell_type": "code",
      "source": "class Person:\n    def __init__(self, name, mobile_phone=None, office_phone=None, private_phone=None, email=None):\n        self.name = name\n        self.mobile = mobile_phone\n        self.office = office_phone\n        self.private = private_phone\n        self.email = email\n    def add_mobile_phone(self, number):\n        self.mobile = number\n    def add_office_phone(self, number):\n        self.office = number\n    def add_private_phone(self, number):\n        self.private = number\n    def add_email(self, address):\n        self.email = address\n    def dump(self):\n        s = self.name + '\\n'\n        if self.mobile is not None:\n            s += 'mobile phone:   %s\\n' % self.mobile\n        if self.office is not None:\n            s += 'office phone:   %s\\n' % self.office\n        if self.private is not None:\n            s += 'private phone:  %s\\n' % self.private\n        if self.email is not None:\n            s += 'email address:  %s\\n' % self.email\n        print(s)",
      "execution_count": 146,
      "outputs": []
    },
    {
      "metadata": {
        "trusted": true
      },
      "cell_type": "code",
      "source": "p1 = Person('Gerard Gorman', email='g.gorman@imperial.ac.uk')\np1.add_office_phone('49985')\n\np2 = Person('ICT Service Desk', office_phone='49000')\np2.add_email('service.desk@imperial.ac.uk')\n\nphone_book = {'Gorman': p1, 'ICT': p2}\nfor p in phone_book:\n    phone_book[p].dump()",
      "execution_count": 147,
      "outputs": [
        {
          "output_type": "stream",
          "text": "Gerard Gorman\noffice phone:   49985\nemail address:  g.gorman@imperial.ac.uk\n\nICT Service Desk\noffice phone:   49000\nemail address:  service.desk@imperial.ac.uk\n\n",
          "name": "stdout"
        }
      ]
    },
    {
      "metadata": {},
      "cell_type": "markdown",
      "source": "### Example - a circle\nA circle is defined by its center point $x0, y0$ and its radius $R$. These data can be attributes in a class. Possible methods in the class are *area* and *circumference*. The constructor initializes $x0$, $y0$ and $R$."
    },
    {
      "metadata": {
        "trusted": true
      },
      "cell_type": "code",
      "source": "class Circle:\n    def __init__(self, R, x0, y0,):\n        self.x0, self.y0, self.R = x0, y0, R\n    def area(self):\n        return np.pi*self.R**2\n    def circumference(self):\n        return 2*np.pi*self.R",
      "execution_count": 149,
      "outputs": []
    },
    {
      "metadata": {
        "trusted": true
      },
      "cell_type": "code",
      "source": "c = Circle(2, -1, 5)\nprint('A circle with radius %g at (%g, %g) has area %g' % (c.R, c.x0, c.y0, c.area()))",
      "execution_count": 150,
      "outputs": [
        {
          "output_type": "stream",
          "text": "A circle with radius 2 at (-1, 5) has area 12.5664\n",
          "name": "stdout"
        }
      ]
    },
    {
      "metadata": {
        "collapsed": true
      },
      "cell_type": "markdown",
      "source": "##Exercise 4.8: Make a class for straight lines\n\nMake a class called *Line* whose constructor takes two points `p0` and `p1` (2-tuples or 2-lists) as input. The line goes through these two points (see function *line* defined below for the relevant formula of the line). A *value(x)* method computes the `y` value on the line at the point *x* or returns `None` if the line is vertical (i.e. `(x1-x0)==0`). \n\n```python\ndef line(x0, y0, x1, y1):\n    \"\"\"\n    Compute the coefficients a and b in the mathematical\n    expression for a straight line y = a*x + b that goes\n    through two points (x0, y0) and (x1, y1).\n    x0, y0: a point on the line (floats).\n    x1, y1: another point on the line (floats).\n    return: coefficients a, b (floats) for the line (y=a*x+b).\n    \"\"\"\n    try:\n        a = (y1 - y0)/(x1 - x0)\n        b = y0 - a*x0\n    except ZeroDivisionError:\n        a, b = None, None\n    \n    return a, b\n```"
    },
    {
      "metadata": {
        "trusted": true
      },
      "cell_type": "code",
      "source": "class Line:\n    \n    def __init__(self, p0, p1):\n        self.p0 = p0\n        self.p1 = p1\n        \n        #p0=[x0, y0]\n        #p1 = [x1, y1]\n    \n    def value(self, x):\n            try:\n                a = (self.p1[1] - self.p0[1])/(self.p1[0] - self.p0[0])\n                b = self.p0[1] - a*self.p0[0]\n                y = a*x + b\n                \n                return y\n            except ZeroDivisionError:\n                a, b = None, None\n\n\nl = Line([0, 0], [1, 0.5])\nprint(l.value(0.5))",
      "execution_count": 183,
      "outputs": [
        {
          "output_type": "stream",
          "text": "0.25\n",
          "name": "stdout"
        }
      ]
    },
    {
      "metadata": {
        "trusted": true,
        "scrolled": true
      },
      "cell_type": "code",
      "source": "ok.grade('question-4_8')",
      "execution_count": 184,
      "outputs": [
        {
          "output_type": "stream",
          "text": "~~~~~~~~~~~~~~~~~~~~~~~~~~~~~~~~~~~~~~~~~~~~~~~~~~~~~~~~~~~~~~~~~~~~~\nRunning tests\n\n---------------------------------------------------------------------\nTest summary\n    Passed: 2\n    Failed: 0\n[ooooooooook] 100.0% passed\n\n",
          "name": "stdout"
        },
        {
          "output_type": "execute_result",
          "execution_count": 184,
          "data": {
            "text/plain": "{'failed': 0, 'locked': 0, 'passed': 2}"
          },
          "metadata": {}
        }
      ]
    },
    {
      "metadata": {},
      "cell_type": "markdown",
      "source": "## Exercise 4.9: Make a class for quadratic functions\n\nConsider a quadratic function $f(x; a, b, c) = ax^2 + bx + c$. Make a class called *Quadratic* for representing *f*, where *a*, *b*, and *c* are attributes, and the methods are:\n\n1. *value* for computing a value of *f* at a point *x*,\n2. *table* for writing out a table of *x* and *f* values for n *x* values in the\ninterval *[L, R]*,\n3. *roots* for computing the two roots."
    },
    {
      "metadata": {
        "trusted": true
      },
      "cell_type": "code",
      "source": "import numpy as np\n\nclass Quadratic:\n    \n    def __init__(self, a, b, c):\n        self.a = a\n        self.b = b\n        self.c = c\n        \n    def value(self, x):\n        f = self.a*x**2 + self.b*x + self.c\n        return f\n    \n    def table(self, x, L, R, n):\n        k = np.linspace(L,R,n)\n        result = f(k)\n        print([k, results])\n        return [k, results]\n            \n    def roots(self):\n        x1 = (-self.b + np.sqrt(self.b**2 - 4*self.a*self.c))/(2*self.a)\n        x2 = (-self.b - np.sqrt(self.b**2 - 4*self.a*self.c))/(2*self.a)\n        return x1, x2\n        \n            \n    ",
      "execution_count": 191,
      "outputs": []
    },
    {
      "metadata": {
        "trusted": true
      },
      "cell_type": "code",
      "source": "ok.grade('question-4_9')",
      "execution_count": 192,
      "outputs": [
        {
          "output_type": "stream",
          "text": "~~~~~~~~~~~~~~~~~~~~~~~~~~~~~~~~~~~~~~~~~~~~~~~~~~~~~~~~~~~~~~~~~~~~~\nRunning tests\n\n---------------------------------------------------------------------\nTest summary\n    Passed: 1\n    Failed: 0\n[ooooooooook] 100.0% passed\n\n",
          "name": "stdout"
        },
        {
          "output_type": "execute_result",
          "execution_count": 192,
          "data": {
            "text/plain": "{'failed': 0, 'locked': 0, 'passed': 1}"
          },
          "metadata": {}
        }
      ]
    },
    {
      "metadata": {},
      "cell_type": "markdown",
      "source": "## Special methods\n\nSome class methods have leading and trailing double underscores. You have already met one of these, `__init__` used to initialise an object upon creation. Other examples include `__call__(self, ...)` and `__add__(self, other)`. These *special methods* enable more elegant abstractions and interfaces. Consider for example the difference between the equivalent statements:\n\n```python\ny = Y(4)\n```\nrather than\n```python\ny = Y\nY.__init__(Y, 4)```"
    },
    {
      "metadata": {},
      "cell_type": "markdown",
      "source": "### Special member function, `__call__`: make the class instance behave and look as a function\n\nLet us replace the `value` method in `class Y` by a `__call__` special method:"
    },
    {
      "metadata": {
        "trusted": false
      },
      "cell_type": "code",
      "source": "class Y:\n    def __init__(self, v0, g=9.81):\n        self.v0 = v0\n        self.g = g\n    \n    def __call__(self, t):\n        return self.v0*t - 0.5*self.g*t**2",
      "execution_count": null,
      "outputs": []
    },
    {
      "metadata": {},
      "cell_type": "markdown",
      "source": "Now we can write:"
    },
    {
      "metadata": {
        "trusted": false
      },
      "cell_type": "code",
      "source": "y = Y(3)\nv = y(0.1) # same as v = y.__call__(0.1)",
      "execution_count": null,
      "outputs": []
    },
    {
      "metadata": {},
      "cell_type": "markdown",
      "source": "The instance $y$ behaves/looks as a function! The `value(t)` method in the first example does the same, but the special method `__call__` provides a more elegant and concise syntax for computing function values."
    },
    {
      "metadata": {},
      "cell_type": "markdown",
      "source": "### Special member function, `__str__`: represent object as a string for printing\n\nIn Python, we can usually print an object `a` by `print(a)`. This works for built-in types (strings, lists, floats, ...). However, if we have made a new type through a class, Python does not know how to print objects of this type. However, if the class has defined a method `__str__` , Python will use this method to convert the object to a string."
    },
    {
      "metadata": {
        "trusted": false
      },
      "cell_type": "code",
      "source": "class Y:\n    def __init__(self, v0, g=9.81):\n        self.v0 = v0\n        self.g = g\n    def __call__(self, t):\n        return self.v0*t - 0.5*self.g*t**2\n    def __str__(self):\n        return '%g*t - 0.5*%g*t**2' % (self.v0, self.g)",
      "execution_count": null,
      "outputs": []
    },
    {
      "metadata": {
        "trusted": false
      },
      "cell_type": "code",
      "source": "y = Y(1.5)\n\nprint(y)",
      "execution_count": null,
      "outputs": []
    },
    {
      "metadata": {},
      "cell_type": "markdown",
      "source": "### Special methods for overloading arithmetic operations\n\n```python\nc=a+b               # c = a.__add__(b)\nc=a-b               # c = a.__sub__(b)\nc = a*b             # c = a.__mul__(b) \nc = a/b             # c = a.__div__(b) \nc = a**e            # c = a.__pow__(e)```"
    },
    {
      "metadata": {},
      "cell_type": "markdown",
      "source": "### Special methods for overloading conditional operations\n\n```python\na == b               #  a.__eq__(b)\na != b               #  a.__ne__(b)\na < b                #  a.__lt__(b)\na <= b               #  a.__le__(b)\na > b                #  a.__gt__(b)\na >= b               #  a.__ge__(b)```"
    },
    {
      "metadata": {
        "trusted": true
      },
      "cell_type": "code",
      "source": "ok.score()",
      "execution_count": 205,
      "outputs": [
        {
          "output_type": "stream",
          "text": "~~~~~~~~~~~~~~~~~~~~~~~~~~~~~~~~~~~~~~~~~~~~~~~~~~~~~~~~~~~~~~~~~~~~~\nScoring tests\n\n---------------------------------------------------------------------\nquestion 4.1\n    Passed: 1\n    Failed: 0\n[ooooooooook] 100.0% passed\n\n---------------------------------------------------------------------\nquestion 4.2\n    Passed: 1\n    Failed: 0\n[ooooooooook] 100.0% passed\n\n---------------------------------------------------------------------\nquestion 4.3\n    Passed: 1\n    Failed: 0\n[ooooooooook] 100.0% passed\n\n---------------------------------------------------------------------\nquestion 4.4 > Suite 1 > Case 1\n\nf='data/densities.dat';densities_join=read_densities_join(f);densities_substrings=read_densities_substrings(f)\nNameError: name 'read_densities_join' is not defined\n\nRun only this test case with \"python3 ok -q question-4_4 --suite 1 --case 1\"\n---------------------------------------------------------------------\nquestion 4.4\n    Passed: 0\n    Failed: 1\n[k..........] 0.0% passed\n\n---------------------------------------------------------------------\nquestion 4.5\n    Passed: 1\n    Failed: 0\n[ooooooooook] 100.0% passed\n\n---------------------------------------------------------------------\nquestion 4.6\n    Passed: 1\n    Failed: 0\n[ooooooooook] 100.0% passed\n\n---------------------------------------------------------------------\nquestion 4.7\n    Passed: 1\n    Failed: 0\n[ooooooooook] 100.0% passed\n\n---------------------------------------------------------------------\nquestion 4.8\n    Passed: 1\n    Failed: 0\n[ooooooooook] 100.0% passed\n\n---------------------------------------------------------------------\nquestion 4.9\n    Passed: 1\n    Failed: 0\n[ooooooooook] 100.0% passed\n\n---------------------------------------------------------------------\nPoint breakdown\n    question 4.1: 1.0/1\n    question 4.2: 1.0/1\n    question 4.3: 1.0/1\n    question 4.4: 0.0/1\n    question 4.5: 1.0/1\n    question 4.6: 1.0/1\n    question 4.7: 1.0/1\n    question 4.8: 1.0/1\n    question 4.9: 1.0/1\n\nScore:\n    Total: 8.0\n\n",
          "name": "stdout"
        },
        {
          "output_type": "execute_result",
          "execution_count": 205,
          "data": {
            "text/plain": "{'Total': 8.0}"
          },
          "metadata": {}
        }
      ]
    }
  ],
  "metadata": {
    "kernelspec": {
      "name": "python3",
      "display_name": "Python 3",
      "language": "python"
    },
    "language_info": {
      "mimetype": "text/x-python",
      "nbconvert_exporter": "python",
      "name": "python",
      "pygments_lexer": "ipython3",
      "version": "3.5.4",
      "file_extension": ".py",
      "codemirror_mode": {
        "version": 3,
        "name": "ipython"
      }
    }
  },
  "nbformat": 4,
  "nbformat_minor": 1
}